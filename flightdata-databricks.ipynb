{
 "cells": [
  {
   "cell_type": "code",
   "execution_count": 0,
   "metadata": {
    "application/vnd.databricks.v1+cell": {
     "cellMetadata": {
      "byteLimit": 2048000,
      "rowLimit": 10000
     },
     "inputWidgets": {},
     "nuid": "c4bf3bdb-b04e-4d85-9525-7f5cfeefa24c",
     "showTitle": false,
     "tableResultSettingsMap": {},
     "title": ""
    }
   },
   "outputs": [
    {
     "name": "stdout",
     "output_type": "stream",
     "text": [
      "Zeit zum Laden der Daten: 1.6889567375183105 Sekunden\n"
     ]
    }
   ],
   "source": [
    "\n",
    "import time\n",
    "# Pfad zum Verzeichnis, das die Parquet-Dateien enthält\n",
    "pfad = \"/Volumes/workspace/default/flight_data/flight_parquet\"\n",
    "\n",
    "# Lese alle Parquet-Dateien aus dem Verzeichnis und wähle nur bestimmte Spalten aus\n",
    "spalten = [\n",
    "    \"Year\", \"Month\", \"DayofMonth\", \"DayOfWeek\", \"FlightDate\",\n",
    "    \"Reporting_Airline\", \"Origin\", \"Dest\", \"CRSDepTime\", \"DepTime\",\n",
    "    \"DepDelay\", \"DepDelayMinutes\", \"DepDel15\", \"DepartureDelayGroups\",\n",
    "    \"CRSArrTime\", \"ArrTime\", \"ArrDelay\", \"ArrDelayMinutes\", \"ArrDel15\",\n",
    "    \"Cancelled\", \"CancellationCode\", \"Diverted\", \"CRSElapsedTime\",\n",
    "    \"ActualElapsedTime\", \"AirTime\", \"Distance\"\n",
    "]\n",
    "t0 = time.time()\n",
    "df = spark.read.parquet(pfad).select(spalten)\n",
    "\n",
    "df.count()\n",
    "t1 = time.time()\n",
    "print(f\"Zeit zum Laden der Daten: {t1 - t0} Sekunden\")\n",
    "tpq = t1 - t0\n",
    "\n"
   ]
  },
  {
   "cell_type": "code",
   "execution_count": 0,
   "metadata": {
    "application/vnd.databricks.v1+cell": {
     "cellMetadata": {
      "byteLimit": 2048000,
      "rowLimit": 10000
     },
     "inputWidgets": {},
     "nuid": "36885d6f-5af0-45b5-945f-842fff1a4b4c",
     "showTitle": false,
     "tableResultSettingsMap": {},
     "title": ""
    }
   },
   "outputs": [
    {
     "data": {
      "text/html": [
       "<style scoped>\n",
       "  .table-result-container {\n",
       "    max-height: 300px;\n",
       "    overflow: auto;\n",
       "  }\n",
       "  table, th, td {\n",
       "    border: 1px solid black;\n",
       "    border-collapse: collapse;\n",
       "  }\n",
       "  th, td {\n",
       "    padding: 5px;\n",
       "  }\n",
       "  th {\n",
       "    text-align: left;\n",
       "  }\n",
       "</style><div class='table-result-container'><table class='table-result'><thead style='background-color: white'><tr><th>Reporting_Airline</th><th>num_flights</th><th>num_flights_with_delay</th><th>avg_dep_delay</th><th>p90_dep_delay</th></tr></thead><tbody><tr><td>B6</td><td>273058</td><td>128314</td><td>26.434079299440526</td><td>82.0</td></tr><tr><td>F9</td><td>155482</td><td>72339</td><td>24.39428242517268</td><td>71.0</td></tr><tr><td>G4</td><td>116877</td><td>53631</td><td>22.275866348702582</td><td>63.0</td></tr><tr><td>YV</td><td>114779</td><td>35642</td><td>19.14711391265196</td><td>52.0</td></tr><tr><td>AA</td><td>874145</td><td>327182</td><td>18.003319316348044</td><td>49.0</td></tr><tr><td>NK</td><td>232400</td><td>90219</td><td>17.150878064135703</td><td>51.0</td></tr><tr><td>WN</td><td>1307149</td><td>713906</td><td>15.842448900850414</td><td>45.0</td></tr><tr><td>UA</td><td>626473</td><td>242658</td><td>15.344193989071039</td><td>42.0</td></tr><tr><td>OH</td><td>214450</td><td>61345</td><td>14.308438749615503</td><td>40.0</td></tr><tr><td>OO</td><td>733576</td><td>194764</td><td>14.177725161238389</td><td>33.0</td></tr><tr><td>9E</td><td>231941</td><td>52966</td><td>12.835245945559763</td><td>30.0</td></tr><tr><td>YX</td><td>316524</td><td>77118</td><td>12.7579346955526</td><td>37.0</td></tr><tr><td>DL</td><td>893172</td><td>301084</td><td>12.590291182622998</td><td>31.0</td></tr><tr><td>HA</td><td>73865</td><td>38030</td><td>11.98181594622657</td><td>29.0</td></tr><tr><td>AS</td><td>228384</td><td>81125</td><td>10.763841040540418</td><td>31.0</td></tr><tr><td>MQ</td><td>248059</td><td>69657</td><td>10.614045640503784</td><td>29.0</td></tr><tr><td>QX</td><td>88791</td><td>28258</td><td>9.26752036986176</td><td>26.0</td></tr></tbody></table></div>"
      ]
     },
     "metadata": {
      "application/vnd.databricks.v1+output": {
       "addedWidgets": {},
       "aggData": [],
       "aggError": "",
       "aggOverflow": false,
       "aggSchema": [],
       "aggSeriesLimitReached": false,
       "aggType": "",
       "arguments": {},
       "columnCustomDisplayInfos": {},
       "data": [
        [
         "B6",
         273058,
         128314,
         26.434079299440526,
         82
        ],
        [
         "F9",
         155482,
         72339,
         24.39428242517268,
         71
        ],
        [
         "G4",
         116877,
         53631,
         22.275866348702582,
         63
        ],
        [
         "YV",
         114779,
         35642,
         19.14711391265196,
         52
        ],
        [
         "AA",
         874145,
         327182,
         18.003319316348044,
         49
        ],
        [
         "NK",
         232400,
         90219,
         17.150878064135703,
         51
        ],
        [
         "WN",
         1307149,
         713906,
         15.842448900850414,
         45
        ],
        [
         "UA",
         626473,
         242658,
         15.344193989071039,
         42
        ],
        [
         "OH",
         214450,
         61345,
         14.308438749615503,
         40
        ],
        [
         "OO",
         733576,
         194764,
         14.177725161238389,
         33
        ],
        [
         "9E",
         231941,
         52966,
         12.835245945559763,
         30
        ],
        [
         "YX",
         316524,
         77118,
         12.7579346955526,
         37
        ],
        [
         "DL",
         893172,
         301084,
         12.590291182622998,
         31
        ],
        [
         "HA",
         73865,
         38030,
         11.98181594622657,
         29
        ],
        [
         "AS",
         228384,
         81125,
         10.763841040540418,
         31
        ],
        [
         "MQ",
         248059,
         69657,
         10.614045640503784,
         29
        ],
        [
         "QX",
         88791,
         28258,
         9.26752036986176,
         26
        ]
       ],
       "datasetInfos": [],
       "dbfsResultPath": null,
       "isJsonSchema": true,
       "metadata": {},
       "overflow": false,
       "plotOptions": {
        "customPlotOptions": {},
        "displayType": "table",
        "pivotAggregation": null,
        "pivotColumns": null,
        "xColumns": null,
        "yColumns": null
       },
       "removedWidgets": [],
       "schema": [
        {
         "metadata": "{}",
         "name": "Reporting_Airline",
         "type": "\"string\""
        },
        {
         "metadata": "{}",
         "name": "num_flights",
         "type": "\"long\""
        },
        {
         "metadata": "{}",
         "name": "num_flights_with_delay",
         "type": "\"long\""
        },
        {
         "metadata": "{}",
         "name": "avg_dep_delay",
         "type": "\"double\""
        },
        {
         "metadata": "{}",
         "name": "p90_dep_delay",
         "type": "\"float\""
        }
       ],
       "type": "table"
      }
     },
     "output_type": "display_data"
    },
    {
     "name": "stdout",
     "output_type": "stream",
     "text": [
      "Zeit zum Ausführen der SQL-Abfrage 1: 1.654423475265503 Sekunden\n"
     ]
    }
   ],
   "source": [
    "#Durchschnittliche Abflugverspätung nach Fluggesellschaft\n",
    "t0 = time.time()\n",
    "ergebnis1 = spark.sql(\"\"\"\n",
    "     SELECT\n",
    "      Reporting_Airline,\n",
    "      COUNT(*) AS num_flights,\n",
    "      COUNT(CASE WHEN DepDelayMinutes > 0.0 THEN 1 END) AS num_flights_with_delay,\n",
    "      AVG(DepDelayMinutes) AS avg_dep_delay,\n",
    "      percentile_approx(DepDelayMinutes, 0.90) as p90_dep_delay\n",
    "    FROM flights\n",
    "    GROUP BY Reporting_Airline\n",
    "    ORDER BY avg_dep_delay DESC\n",
    "\"\"\")\n",
    "display(ergebnis1.toPandas())\n",
    "t1 = time.time()\n",
    "print(f\"Zeit zum Ausführen der SQL-Abfrage 1: {t1 - t0} Sekunden\")\n",
    "tsql1 = t1 - t0"
   ]
  },
  {
   "cell_type": "code",
   "execution_count": 0,
   "metadata": {
    "application/vnd.databricks.v1+cell": {
     "cellMetadata": {
      "byteLimit": 2048000,
      "rowLimit": 10000
     },
     "inputWidgets": {},
     "nuid": "2098f985-3c0f-4435-9784-e45bc76311b7",
     "showTitle": false,
     "tableResultSettingsMap": {},
     "title": ""
    }
   },
   "outputs": [
    {
     "data": {
      "text/html": [
       "<style scoped>\n",
       "  .table-result-container {\n",
       "    max-height: 300px;\n",
       "    overflow: auto;\n",
       "  }\n",
       "  table, th, td {\n",
       "    border: 1px solid black;\n",
       "    border-collapse: collapse;\n",
       "  }\n",
       "  th, td {\n",
       "    padding: 5px;\n",
       "  }\n",
       "  th {\n",
       "    text-align: left;\n",
       "  }\n",
       "</style><div class='table-result-container'><table class='table-result'><thead style='background-color: white'><tr><th>Dest</th><th>num_flights</th><th>num_flights_with_delay</th><th>avg_arr_delay</th><th>p90_arr_delay</th></tr></thead><tbody><tr><td>PGD</td><td>6152</td><td>3863</td><td>36.48650970957209</td><td>98.0</td></tr><tr><td>BQN</td><td>2398</td><td>1361</td><td>31.032702237521516</td><td>92.0</td></tr><tr><td>BIH</td><td>325</td><td>149</td><td>30.43312101910828</td><td>90.0</td></tr><tr><td>ASE</td><td>6464</td><td>2815</td><td>28.337271015237118</td><td>78.0</td></tr><tr><td>MQT</td><td>1100</td><td>386</td><td>27.729445506692162</td><td>54.0</td></tr><tr><td>DIK</td><td>116</td><td>18</td><td>27.471910112359552</td><td>32.0</td></tr><tr><td>SFB</td><td>9166</td><td>5049</td><td>27.38532528198701</td><td>73.0</td></tr><tr><td>PIE</td><td>7829</td><td>4165</td><td>26.67686577091925</td><td>76.0</td></tr><tr><td>SHD</td><td>606</td><td>145</td><td>25.903878583473862</td><td>63.0</td></tr><tr><td>PSE</td><td>863</td><td>416</td><td>25.74327628361858</td><td>85.0</td></tr><tr><td>AZA</td><td>5807</td><td>3260</td><td>25.346844444444443</td><td>64.0</td></tr><tr><td>SMX</td><td>138</td><td>70</td><td>25.276923076923076</td><td>88.0</td></tr><tr><td>FNT</td><td>2713</td><td>1365</td><td>25.250475827940615</td><td>74.0</td></tr><tr><td>LCK</td><td>1011</td><td>517</td><td>25.2306101344364</td><td>70.0</td></tr><tr><td>TTN</td><td>2287</td><td>1097</td><td>24.795496323529413</td><td>81.0</td></tr><tr><td>GUC</td><td>1021</td><td>334</td><td>24.132716049382715</td><td>58.0</td></tr><tr><td>VLD</td><td>1009</td><td>261</td><td>23.692307692307693</td><td>27.0</td></tr><tr><td>PBI</td><td>24812</td><td>11675</td><td>23.31954650430401</td><td>71.0</td></tr><tr><td>JLN</td><td>639</td><td>164</td><td>23.177419354838708</td><td>41.0</td></tr><tr><td>PBG</td><td>677</td><td>236</td><td>22.92488262910798</td><td>41.0</td></tr><tr><td>PVU</td><td>1286</td><td>628</td><td>21.984884645982497</td><td>58.0</td></tr><tr><td>COD</td><td>619</td><td>257</td><td>21.877926421404684</td><td>57.0</td></tr><tr><td>SCK</td><td>612</td><td>331</td><td>21.848333333333333</td><td>59.0</td></tr><tr><td>LNK</td><td>189</td><td>54</td><td>21.67222222222222</td><td>40.0</td></tr><tr><td>BJI</td><td>745</td><td>184</td><td>21.424242424242426</td><td>42.0</td></tr><tr><td>HTS</td><td>430</td><td>204</td><td>21.234146341463415</td><td>60.0</td></tr><tr><td>ORH</td><td>1753</td><td>613</td><td>21.14716748768473</td><td>68.0</td></tr><tr><td>EWR</td><td>129763</td><td>53980</td><td>21.05982162456605</td><td>60.0</td></tr><tr><td>MCO</td><td>146784</td><td>64469</td><td>20.88037367255381</td><td>61.0</td></tr><tr><td>ISP</td><td>4708</td><td>2173</td><td>20.875166297117516</td><td>63.0</td></tr><tr><td>SJU</td><td>29803</td><td>13510</td><td>20.87018486006403</td><td>63.0</td></tr><tr><td>USA</td><td>870</td><td>404</td><td>20.593446601941746</td><td>63.0</td></tr><tr><td>JFK</td><td>136554</td><td>53884</td><td>20.434852551004848</td><td>57.0</td></tr><tr><td>HYA</td><td>124</td><td>58</td><td>20.358333333333334</td><td>58.0</td></tr><tr><td>JST</td><td>724</td><td>166</td><td>20.285507246376813</td><td>50.0</td></tr><tr><td>BLV</td><td>1147</td><td>517</td><td>20.08812949640288</td><td>61.0</td></tr><tr><td>BFL</td><td>2465</td><td>808</td><td>19.611965101786456</td><td>52.0</td></tr><tr><td>CGI</td><td>514</td><td>94</td><td>19.56441717791411</td><td>27.0</td></tr><tr><td>RKS</td><td>388</td><td>124</td><td>19.49738219895288</td><td>28.0</td></tr><tr><td>SUX</td><td>689</td><td>186</td><td>19.452095808383234</td><td>39.0</td></tr><tr><td>FLL</td><td>84235</td><td>35102</td><td>19.401072274227385</td><td>57.0</td></tr><tr><td>SWF</td><td>857</td><td>438</td><td>19.343337334933974</td><td>55.0</td></tr><tr><td>CAK</td><td>2197</td><td>808</td><td>19.261814744801512</td><td>65.0</td></tr><tr><td>FWA</td><td>4763</td><td>1864</td><td>18.976688970429528</td><td>56.0</td></tr><tr><td>HPN</td><td>12601</td><td>4615</td><td>18.787760524786183</td><td>56.0</td></tr><tr><td>SRQ</td><td>15296</td><td>6855</td><td>18.782116040955632</td><td>57.0</td></tr><tr><td>LGA</td><td>169414</td><td>60379</td><td>18.750273911709648</td><td>56.0</td></tr><tr><td>DFW</td><td>276711</td><td>95198</td><td>18.47508018751542</td><td>45.0</td></tr><tr><td>OGS</td><td>259</td><td>82</td><td>18.472340425531915</td><td>50.0</td></tr><tr><td>RSW</td><td>36431</td><td>14606</td><td>18.46732921426906</td><td>55.0</td></tr><tr><td>MIA</td><td>106842</td><td>43279</td><td>18.44200930016725</td><td>49.0</td></tr><tr><td>MFE</td><td>3774</td><td>1426</td><td>18.241003271537622</td><td>53.0</td></tr><tr><td>BOS</td><td>136479</td><td>50142</td><td>18.23394387472389</td><td>54.0</td></tr><tr><td>SBN</td><td>5378</td><td>1843</td><td>18.093094238840138</td><td>46.0</td></tr><tr><td>GRR</td><td>16035</td><td>6194</td><td>18.014955328240323</td><td>54.0</td></tr><tr><td>CMX</td><td>691</td><td>174</td><td>17.879227053140095</td><td>38.0</td></tr><tr><td>LWB</td><td>544</td><td>144</td><td>17.73854961832061</td><td>56.0</td></tr><tr><td>CKB</td><td>999</td><td>295</td><td>17.66983122362869</td><td>48.0</td></tr><tr><td>BUF</td><td>20089</td><td>8037</td><td>17.66540044317822</td><td>54.0</td></tr><tr><td>TPA</td><td>73137</td><td>30317</td><td>17.623335654299233</td><td>53.0</td></tr><tr><td>PRC</td><td>725</td><td>222</td><td>17.622746185852982</td><td>40.0</td></tr><tr><td>IAG</td><td>407</td><td>175</td><td>17.556701030927837</td><td>56.0</td></tr><tr><td>BDL</td><td>23486</td><td>9627</td><td>17.54810829879178</td><td>54.0</td></tr><tr><td>JAX</td><td>28649</td><td>11678</td><td>17.52042917524656</td><td>52.0</td></tr><tr><td>TYS</td><td>12881</td><td>5074</td><td>17.436193050807027</td><td>48.0</td></tr><tr><td>PWM</td><td>10774</td><td>4101</td><td>17.392660910518053</td><td>49.0</td></tr><tr><td>MGM</td><td>2592</td><td>993</td><td>17.368047337278107</td><td>49.0</td></tr><tr><td>SCE</td><td>605</td><td>213</td><td>17.31911262798635</td><td>45.0</td></tr><tr><td>EYW</td><td>8140</td><td>2916</td><td>17.22510600025697</td><td>43.0</td></tr><tr><td>EGE</td><td>2905</td><td>940</td><td>17.195784208645946</td><td>50.0</td></tr><tr><td>RAP</td><td>4627</td><td>1562</td><td>17.108053691275167</td><td>46.0</td></tr><tr><td>BFF</td><td>720</td><td>226</td><td>17.06628242074928</td><td>41.0</td></tr><tr><td>HYS</td><td>696</td><td>190</td><td>16.99702380952381</td><td>38.0</td></tr><tr><td>DCA</td><td>142320</td><td>53691</td><td>16.974820883251116</td><td>47.0</td></tr><tr><td>ACY</td><td>3281</td><td>1105</td><td>16.935750636132315</td><td>53.0</td></tr><tr><td>PHL</td><td>87880</td><td>30283</td><td>16.838048711910872</td><td>44.0</td></tr><tr><td>MOT</td><td>2292</td><td>789</td><td>16.83050847457627</td><td>38.0</td></tr><tr><td>FAR</td><td>6010</td><td>2268</td><td>16.816460055096417</td><td>45.0</td></tr><tr><td>ACV</td><td>1966</td><td>586</td><td>16.78625134264232</td><td>27.0</td></tr><tr><td>FSD</td><td>7232</td><td>2733</td><td>16.757966293726103</td><td>47.0</td></tr><tr><td>HOB</td><td>260</td><td>73</td><td>16.67450980392157</td><td>32.0</td></tr><tr><td>ALB</td><td>11990</td><td>4811</td><td>16.643494842680074</td><td>51.0</td></tr><tr><td>SAV</td><td>17818</td><td>7113</td><td>16.630406976744187</td><td>48.0</td></tr><tr><td>ESC</td><td>710</td><td>222</td><td>16.534985422740526</td><td>39.0</td></tr><tr><td>CVG</td><td>36754</td><td>14163</td><td>16.523995175721538</td><td>47.0</td></tr><tr><td>EKO</td><td>365</td><td>91</td><td>16.474719101123597</td><td>12.0</td></tr><tr><td>CHS</td><td>24108</td><td>9817</td><td>16.463419894745922</td><td>50.0</td></tr><tr><td>RHI</td><td>712</td><td>210</td><td>16.458452722063036</td><td>35.0</td></tr><tr><td>LAS</td><td>175519</td><td>74421</td><td>16.431231690379207</td><td>48.0</td></tr><tr><td>ROC</td><td>12581</td><td>4803</td><td>16.373342175066313</td><td>50.0</td></tr><tr><td>PIA</td><td>3183</td><td>1177</td><td>16.34418756105503</td><td>46.0</td></tr><tr><td>ELM</td><td>1021</td><td>311</td><td>16.325604838709676</td><td>47.0</td></tr><tr><td>MEM</td><td>20967</td><td>8421</td><td>16.323220422189493</td><td>49.0</td></tr><tr><td>SYR</td><td>13108</td><td>5086</td><td>16.319401567323677</td><td>49.0</td></tr><tr><td>IND</td><td>41274</td><td>16276</td><td>16.3178716572174</td><td>48.0</td></tr><tr><td>ORF</td><td>21739</td><td>8486</td><td>16.297833676055664</td><td>49.0</td></tr><tr><td>PVD</td><td>15285</td><td>5865</td><td>16.28577260665442</td><td>50.0</td></tr><tr><td>ABE</td><td>4361</td><td>1704</td><td>16.2593984962406</td><td>47.0</td></tr><tr><td>PLN</td><td>748</td><td>238</td><td>16.253462603878116</td><td>43.0</td></tr><tr><td>BMI</td><td>2641</td><td>842</td><td>16.170627191273862</td><td>43.0</td></tr><tr><td>RDU</td><td>54045</td><td>20456</td><td>16.16439614266034</td><td>49.0</td></tr><tr><td>CPR</td><td>1471</td><td>495</td><td>16.138772663877266</td><td>37.0</td></tr><tr><td>LBB</td><td>5732</td><td>2084</td><td>16.079330814894764</td><td>47.0</td></tr><tr><td>PIB</td><td>662</td><td>146</td><td>16.04915514592934</td><td>37.0</td></tr><tr><td>RFD</td><td>734</td><td>322</td><td>16.029045643153527</td><td>40.0</td></tr><tr><td>GFK</td><td>1451</td><td>449</td><td>16.012221423436376</td><td>39.0</td></tr><tr><td>SDF</td><td>21604</td><td>7935</td><td>15.984871696667943</td><td>46.0</td></tr><tr><td>LBF</td><td>659</td><td>268</td><td>15.950871632329635</td><td>34.0</td></tr><tr><td>SCC</td><td>410</td><td>124</td><td>15.864661654135338</td><td>43.0</td></tr><tr><td>PNS</td><td>10970</td><td>4088</td><td>15.746154563251608</td><td>44.0</td></tr><tr><td>LFT</td><td>3345</td><td>1247</td><td>15.681804327948797</td><td>38.0</td></tr><tr><td>APN</td><td>628</td><td>196</td><td>15.625827814569536</td><td>45.0</td></tr><tr><td>OKC</td><td>20489</td><td>8067</td><td>15.62328355216999</td><td>43.0</td></tr><tr><td>MVY</td><td>1019</td><td>351</td><td>15.602409638554217</td><td>50.0</td></tr><tr><td>ATW</td><td>4629</td><td>1749</td><td>15.596866725507502</td><td>47.0</td></tr><tr><td>MKE</td><td>25215</td><td>9855</td><td>15.587677725118484</td><td>46.0</td></tr><tr><td>ORD</td><td>260587</td><td>81357</td><td>15.530335432260108</td><td>39.0</td></tr><tr><td>MCW</td><td>524</td><td>120</td><td>15.491869918699187</td><td>28.0</td></tr><tr><td>CLE</td><td>39227</td><td>14478</td><td>15.484286545685414</td><td>46.0</td></tr><tr><td>LRD</td><td>1435</td><td>491</td><td>15.483105679367362</td><td>34.0</td></tr><tr><td>BHM</td><td>13807</td><td>5476</td><td>15.447526961695798</td><td>46.0</td></tr><tr><td>CRW</td><td>2830</td><td>970</td><td>15.441379310344828</td><td>37.0</td></tr><tr><td>PIT</td><td>40480</td><td>14997</td><td>15.414582960100326</td><td>46.0</td></tr><tr><td>COS</td><td>11867</td><td>4774</td><td>15.354525768731053</td><td>46.0</td></tr><tr><td>CMH</td><td>39076</td><td>14978</td><td>15.334290271132376</td><td>46.0</td></tr><tr><td>BTV</td><td>8216</td><td>2824</td><td>15.333672172808132</td><td>45.0</td></tr><tr><td>MCI</td><td>44826</td><td>17674</td><td>15.2345758502541</td><td>44.0</td></tr><tr><td>ELP</td><td>17435</td><td>6932</td><td>15.21457537466941</td><td>44.0</td></tr><tr><td>JAC</td><td>4758</td><td>1657</td><td>15.214008620689656</td><td>41.0</td></tr><tr><td>CLT</td><td>191795</td><td>61342</td><td>15.131287302107452</td><td>36.0</td></tr><tr><td>MSN</td><td>10753</td><td>3646</td><td>15.112170927127051</td><td>43.0</td></tr><tr><td>MHT</td><td>6704</td><td>2663</td><td>15.09106529209622</td><td>47.0</td></tr><tr><td>OMA</td><td>21533</td><td>8432</td><td>15.044563873299724</td><td>44.0</td></tr><tr><td>AUS</td><td>89578</td><td>35483</td><td>15.042138321369409</td><td>43.0</td></tr><tr><td>DSM</td><td>14506</td><td>5441</td><td>15.02559402101107</td><td>44.0</td></tr><tr><td>MAF</td><td>8724</td><td>2972</td><td>15.003893345917886</td><td>45.0</td></tr><tr><td>VPS</td><td>8821</td><td>3286</td><td>14.995813466682172</td><td>42.0</td></tr><tr><td>EAU</td><td>488</td><td>119</td><td>14.995744680851065</td><td>31.0</td></tr><tr><td>MSY</td><td>48093</td><td>18394</td><td>14.970105622532808</td><td>45.0</td></tr><tr><td>JMS</td><td>812</td><td>186</td><td>14.894882434301522</td><td>32.0</td></tr><tr><td>RST</td><td>1701</td><td>478</td><td>14.88855421686747</td><td>32.0</td></tr><tr><td>IDA</td><td>4487</td><td>1595</td><td>14.888107126645483</td><td>37.0</td></tr><tr><td>GRI</td><td>941</td><td>356</td><td>14.810195227765727</td><td>43.0</td></tr><tr><td>HHH</td><td>1999</td><td>635</td><td>14.768833849329205</td><td>38.0</td></tr><tr><td>EWN</td><td>967</td><td>296</td><td>14.762875536480687</td><td>49.0</td></tr><tr><td>PHX</td><td>165218</td><td>59397</td><td>14.735071259934982</td><td>37.0</td></tr><tr><td>DEN</td><td>271459</td><td>97198</td><td>14.732071716930042</td><td>39.0</td></tr><tr><td>STT</td><td>5438</td><td>2148</td><td>14.694267515923567</td><td>41.0</td></tr><tr><td>ACK</td><td>1695</td><td>486</td><td>14.672211953173136</td><td>43.0</td></tr><tr><td>AVP</td><td>1757</td><td>629</td><td>14.66901822457378</td><td>40.0</td></tr><tr><td>RIC</td><td>18852</td><td>6767</td><td>14.648790919559138</td><td>45.0</td></tr><tr><td>AVL</td><td>9300</td><td>3443</td><td>14.645576645576645</td><td>43.0</td></tr><tr><td>STX</td><td>1164</td><td>475</td><td>14.64516129032258</td><td>42.0</td></tr><tr><td>MLI</td><td>3917</td><td>1289</td><td>14.608627450980393</td><td>39.0</td></tr><tr><td>SAT</td><td>34788</td><td>13706</td><td>14.606197945790047</td><td>43.0</td></tr><tr><td>ICT</td><td>8964</td><td>3319</td><td>14.602287021154945</td><td>41.0</td></tr><tr><td>DVL</td><td>675</td><td>135</td><td>14.471264367816092</td><td>30.0</td></tr><tr><td>HDN</td><td>2508</td><td>952</td><td>14.470028937577512</td><td>44.0</td></tr><tr><td>IAD</td><td>56666</td><td>18249</td><td>14.460545401798665</td><td>36.0</td></tr><tr><td>MDT</td><td>5107</td><td>1750</td><td>14.444288295522988</td><td>39.0</td></tr><tr><td>SHV</td><td>3937</td><td>1300</td><td>14.403771635236373</td><td>37.0</td></tr><tr><td>COU</td><td>1636</td><td>537</td><td>14.39294710327456</td><td>40.0</td></tr><tr><td>AMA</td><td>4886</td><td>1696</td><td>14.368899218254807</td><td>41.0</td></tr><tr><td>BIS</td><td>3720</td><td>1320</td><td>14.36340782122905</td><td>41.0</td></tr><tr><td>SAF</td><td>1854</td><td>640</td><td>14.322847682119205</td><td>37.0</td></tr><tr><td>HSV</td><td>7569</td><td>2621</td><td>14.314085267134377</td><td>41.0</td></tr><tr><td>CID</td><td>7861</td><td>2680</td><td>14.30869169806418</td><td>42.0</td></tr><tr><td>TUL</td><td>15324</td><td>5657</td><td>14.284698940592731</td><td>44.0</td></tr><tr><td>GSP</td><td>12649</td><td>4362</td><td>14.179380940775042</td><td>40.0</td></tr><tr><td>SIT</td><td>1428</td><td>609</td><td>14.137728937728937</td><td>39.0</td></tr><tr><td>EAR</td><td>591</td><td>208</td><td>14.136524822695035</td><td>42.0</td></tr><tr><td>FSM</td><td>1424</td><td>395</td><td>14.133576642335766</td><td>28.0</td></tr><tr><td>INL</td><td>582</td><td>122</td><td>14.127468581687612</td><td>25.0</td></tr><tr><td>MOB</td><td>3270</td><td>1061</td><td>14.117811625738266</td><td>33.0</td></tr><tr><td>BGR</td><td>4954</td><td>1634</td><td>14.077054065559812</td><td>41.0</td></tr><tr><td>DAY</td><td>6741</td><td>2318</td><td>14.059466019417476</td><td>40.0</td></tr><tr><td>LIT</td><td>10756</td><td>4060</td><td>14.034922447426016</td><td>43.0</td></tr><tr><td>MSP</td><td>119851</td><td>36316</td><td>14.033531427211127</td><td>32.0</td></tr><tr><td>GRK</td><td>2097</td><td>688</td><td>14.029688273132113</td><td>40.0</td></tr><tr><td>ECP</td><td>6708</td><td>2469</td><td>13.958270106221548</td><td>38.0</td></tr><tr><td>DAL</td><td>66378</td><td>27044</td><td>13.950557486357704</td><td>42.0</td></tr><tr><td>MDW</td><td>76882</td><td>31058</td><td>13.91994524780788</td><td>41.0</td></tr><tr><td>STL</td><td>58978</td><td>22281</td><td>13.904637319801232</td><td>41.0</td></tr><tr><td>BNA</td><td>87678</td><td>31968</td><td>13.87971128825254</td><td>42.0</td></tr><tr><td>DTW</td><td>126389</td><td>36361</td><td>13.860870760621694</td><td>33.0</td></tr><tr><td>DRO</td><td>3204</td><td>1050</td><td>13.756066411238825</td><td>39.0</td></tr><tr><td>TVC</td><td>4030</td><td>1354</td><td>13.755246523388116</td><td>40.0</td></tr><tr><td>BWI</td><td>86572</td><td>33120</td><td>13.723035328046143</td><td>40.0</td></tr><tr><td>MYR</td><td>16426</td><td>5529</td><td>13.676973148901546</td><td>40.0</td></tr><tr><td>FCA</td><td>4459</td><td>1641</td><td>13.667503423094477</td><td>34.0</td></tr><tr><td>SPI</td><td>1027</td><td>355</td><td>13.609264853977844</td><td>38.0</td></tr><tr><td>PAH</td><td>763</td><td>158</td><td>13.581867388362653</td><td>30.0</td></tr><tr><td>LBE</td><td>909</td><td>283</td><td>13.579428571428572</td><td>49.0</td></tr><tr><td>IAH</td><td>125844</td><td>38345</td><td>13.561018644246953</td><td>34.0</td></tr><tr><td>FAT</td><td>10637</td><td>3848</td><td>13.555248091603053</td><td>37.0</td></tr><tr><td>GJT</td><td>3421</td><td>1199</td><td>13.483774933015779</td><td>36.0</td></tr><tr><td>WRG</td><td>722</td><td>277</td><td>13.483641536273115</td><td>35.0</td></tr><tr><td>LAX</td><td>191163</td><td>65852</td><td>13.478231502361401</td><td>34.0</td></tr><tr><td>BRW</td><td>363</td><td>182</td><td>13.45619335347432</td><td>36.0</td></tr><tr><td>ABQ</td><td>20436</td><td>8321</td><td>13.447859495060372</td><td>40.0</td></tr><tr><td>DEC</td><td>1045</td><td>228</td><td>13.443887775551103</td><td>28.0</td></tr><tr><td>ILM</td><td>6955</td><td>2391</td><td>13.414768497841298</td><td>42.0</td></tr><tr><td>XNA</td><td>10298</td><td>3869</td><td>13.374491315136476</td><td>41.0</td></tr><tr><td>SBP</td><td>4998</td><td>1637</td><td>13.364914425427873</td><td>30.0</td></tr><tr><td>MEI</td><td>792</td><td>196</td><td>13.346547314578006</td><td>37.0</td></tr><tr><td>MTJ</td><td>3035</td><td>1079</td><td>13.31602172437203</td><td>41.0</td></tr><tr><td>DRT</td><td>693</td><td>188</td><td>13.294814814814815</td><td>28.0</td></tr><tr><td>HOU</td><td>50871</td><td>19139</td><td>13.258728356514334</td><td>40.0</td></tr><tr><td>PUB</td><td>499</td><td>131</td><td>13.256198347107437</td><td>37.0</td></tr><tr><td>MRY</td><td>4130</td><td>1376</td><td>13.160490797546013</td><td>35.0</td></tr><tr><td>SGF</td><td>6518</td><td>2267</td><td>13.117877884162612</td><td>33.0</td></tr><tr><td>ROW</td><td>1231</td><td>321</td><td>13.090609555189456</td><td>33.0</td></tr><tr><td>SLN</td><td>821</td><td>237</td><td>13.075187969924812</td><td>34.0</td></tr><tr><td>HRL</td><td>3784</td><td>1372</td><td>13.01245599783374</td><td>36.0</td></tr><tr><td>HGR</td><td>217</td><td>79</td><td>12.985507246376812</td><td>39.0</td></tr><tr><td>DLH</td><td>1573</td><td>451</td><td>12.927687296416938</td><td>31.0</td></tr><tr><td>HNL</td><td>55221</td><td>24964</td><td>12.920755615815896</td><td>32.0</td></tr><tr><td>CAE</td><td>5566</td><td>1875</td><td>12.919683881639404</td><td>37.0</td></tr><tr><td>PSG</td><td>722</td><td>221</td><td>12.893830703012913</td><td>35.0</td></tr><tr><td>DDC</td><td>615</td><td>129</td><td>12.880067567567568</td><td>28.0</td></tr><tr><td>GCC</td><td>624</td><td>162</td><td>12.840983606557376</td><td>29.0</td></tr><tr><td>TUS</td><td>16234</td><td>5705</td><td>12.822105131100239</td><td>36.0</td></tr><tr><td>ONT</td><td>23574</td><td>9202</td><td>12.79719553362763</td><td>39.0</td></tr><tr><td>ERI</td><td>158</td><td>50</td><td>12.773972602739725</td><td>40.0</td></tr><tr><td>CRP</td><td>3631</td><td>1301</td><td>12.72539592760181</td><td>37.0</td></tr><tr><td>RNO</td><td>19464</td><td>7433</td><td>12.721881711980721</td><td>37.0</td></tr><tr><td>BZN</td><td>10260</td><td>3932</td><td>12.70684168655529</td><td>37.0</td></tr><tr><td>GRB</td><td>4068</td><td>1258</td><td>12.674494129402948</td><td>34.0</td></tr><tr><td>LAW</td><td>1143</td><td>401</td><td>12.585144927536232</td><td>30.0</td></tr><tr><td>SAN</td><td>86033</td><td>33065</td><td>12.569499376447533</td><td>36.0</td></tr><tr><td>ANC</td><td>20427</td><td>8169</td><td>12.5327451474666</td><td>36.0</td></tr><tr><td>SFO</td><td>129964</td><td>40404</td><td>12.50540809373507</td><td>33.0</td></tr><tr><td>CHA</td><td>5090</td><td>1695</td><td>12.503809141940657</td><td>34.0</td></tr><tr><td>ATL</td><td>317910</td><td>94386</td><td>12.44704898921315</td><td>31.0</td></tr><tr><td>XWA</td><td>1504</td><td>480</td><td>12.427279053583856</td><td>33.0</td></tr><tr><td>BIL</td><td>4162</td><td>1544</td><td>12.393733300947291</td><td>36.0</td></tr><tr><td>HIB</td><td>655</td><td>128</td><td>12.371473354231975</td><td>22.0</td></tr><tr><td>BRD</td><td>744</td><td>158</td><td>12.369146005509641</td><td>24.0</td></tr><tr><td>EUG</td><td>9051</td><td>3383</td><td>12.32838339520756</td><td>34.0</td></tr><tr><td>LSE</td><td>1412</td><td>443</td><td>12.218772563176895</td><td>32.0</td></tr><tr><td>SBA</td><td>7678</td><td>2534</td><td>12.211108151305273</td><td>35.0</td></tr><tr><td>JAN</td><td>7689</td><td>2569</td><td>12.209643047416089</td><td>37.0</td></tr><tr><td>GSO</td><td>9686</td><td>3154</td><td>12.172978177150192</td><td>37.0</td></tr><tr><td>CIU</td><td>719</td><td>182</td><td>12.093659942363113</td><td>26.0</td></tr><tr><td>IMT</td><td>726</td><td>216</td><td>12.06488011283498</td><td>37.0</td></tr><tr><td>CHO</td><td>3070</td><td>949</td><td>12.053115423901941</td><td>34.0</td></tr><tr><td>SMF</td><td>53848</td><td>20390</td><td>12.052637571157495</td><td>36.0</td></tr><tr><td>AGS</td><td>3763</td><td>1135</td><td>12.00997573469938</td><td>34.0</td></tr><tr><td>TRI</td><td>2967</td><td>906</td><td>11.96005462615227</td><td>34.0</td></tr><tr><td>PSP</td><td>14650</td><td>5175</td><td>11.944081235220477</td><td>35.0</td></tr><tr><td>PDX</td><td>59380</td><td>21959</td><td>11.895243994769082</td><td>34.0</td></tr><tr><td>GPT</td><td>3042</td><td>893</td><td>11.876964226011367</td><td>27.0</td></tr><tr><td>CYS</td><td>640</td><td>147</td><td>11.844408427876823</td><td>23.0</td></tr><tr><td>KTN</td><td>2465</td><td>861</td><td>11.787777312683131</td><td>31.0</td></tr><tr><td>CSG</td><td>1643</td><td>419</td><td>11.756188118811881</td><td>31.0</td></tr><tr><td>GEG</td><td>19928</td><td>7658</td><td>11.742448979591837</td><td>33.0</td></tr><tr><td>OAK</td><td>47656</td><td>18623</td><td>11.70956324008924</td><td>35.0</td></tr><tr><td>FAY</td><td>2033</td><td>577</td><td>11.708689100954293</td><td>32.0</td></tr><tr><td>DAB</td><td>2817</td><td>907</td><td>11.677822728944465</td><td>34.0</td></tr><tr><td>YUM</td><td>1655</td><td>511</td><td>11.634697617593158</td><td>31.0</td></tr><tr><td>CLL</td><td>1325</td><td>370</td><td>11.622377622377622</td><td>27.0</td></tr><tr><td>BTR</td><td>4121</td><td>1286</td><td>11.615251727541954</td><td>33.0</td></tr><tr><td>SEA</td><td>174007</td><td>60139</td><td>11.612717171241584</td><td>30.0</td></tr><tr><td>PAE</td><td>4010</td><td>1584</td><td>11.580148756091306</td><td>35.0</td></tr><tr><td>TLH</td><td>5209</td><td>1615</td><td>11.56010180109632</td><td>32.0</td></tr><tr><td>DHN</td><td>931</td><td>277</td><td>11.552319309600863</td><td>34.0</td></tr><tr><td>BOI</td><td>26047</td><td>9293</td><td>11.532036568760942</td><td>33.0</td></tr><tr><td>PSC</td><td>5797</td><td>2152</td><td>11.502192597789861</td><td>30.0</td></tr><tr><td>LEX</td><td>7181</td><td>2205</td><td>11.496863416025093</td><td>31.0</td></tr><tr><td>OGG</td><td>30055</td><td>12967</td><td>11.464256865912763</td><td>30.0</td></tr><tr><td>VEL</td><td>504</td><td>155</td><td>11.45979381443299</td><td>33.0</td></tr><tr><td>STS</td><td>4232</td><td>1509</td><td>11.443350936149784</td><td>30.0</td></tr><tr><td>MLB</td><td>2499</td><td>707</td><td>11.392373923739237</td><td>30.0</td></tr><tr><td>SLC</td><td>109767</td><td>31150</td><td>11.372855878121657</td><td>26.0</td></tr><tr><td>MSO</td><td>4772</td><td>1513</td><td>11.367029217317125</td><td>30.0</td></tr><tr><td>LAR</td><td>618</td><td>174</td><td>11.3292469352014</td><td>35.0</td></tr><tr><td>GCK</td><td>724</td><td>265</td><td>11.284495021337127</td><td>27.0</td></tr><tr><td>FAI</td><td>4634</td><td>1772</td><td>11.271415889924546</td><td>33.0</td></tr><tr><td>BQK</td><td>874</td><td>240</td><td>11.268433179723502</td><td>23.0</td></tr><tr><td>BUR</td><td>31177</td><td>11325</td><td>11.261316531255181</td><td>35.0</td></tr><tr><td>EVV</td><td>1961</td><td>620</td><td>11.169198533263488</td><td>33.0</td></tr><tr><td>LYH</td><td>214</td><td>81</td><td>11.14975845410628</td><td>29.0</td></tr><tr><td>ITO</td><td>6164</td><td>3045</td><td>11.056909239574816</td><td>31.0</td></tr><tr><td>FLG</td><td>1840</td><td>528</td><td>11.05577029265599</td><td>28.0</td></tr><tr><td>ROA</td><td>2063</td><td>614</td><td>11.0059731209557</td><td>28.0</td></tr><tr><td>DLG</td><td>444</td><td>188</td><td>11.0</td><td>33.0</td></tr><tr><td>SNA</td><td>47131</td><td>18188</td><td>10.99971705299815</td><td>32.0</td></tr><tr><td>PSM</td><td>382</td><td>135</td><td>10.947802197802197</td><td>33.0</td></tr><tr><td>SHR</td><td>630</td><td>168</td><td>10.908496732026144</td><td>24.0</td></tr><tr><td>MBS</td><td>1078</td><td>260</td><td>10.898016997167138</td><td>21.0</td></tr><tr><td>SJC</td><td>53315</td><td>19512</td><td>10.879888803680982</td><td>33.0</td></tr><tr><td>LIH</td><td>15255</td><td>6702</td><td>10.860727562400426</td><td>29.0</td></tr><tr><td>RDM</td><td>7852</td><td>2638</td><td>10.818287335568739</td><td>26.0</td></tr><tr><td>DBQ</td><td>451</td><td>134</td><td>10.816933638443937</td><td>27.0</td></tr><tr><td>BRO</td><td>1275</td><td>390</td><td>10.80080971659919</td><td>27.0</td></tr><tr><td>TBN</td><td>489</td><td>78</td><td>10.769063180827887</td><td>27.0</td></tr><tr><td>RIW</td><td>403</td><td>107</td><td>10.594315245478036</td><td>21.0</td></tr><tr><td>TOL</td><td>785</td><td>267</td><td>10.575</td><td>32.0</td></tr><tr><td>KOA</td><td>16270</td><td>6881</td><td>10.558989635697884</td><td>29.0</td></tr><tr><td>MFR</td><td>7664</td><td>2543</td><td>10.53848188309971</td><td>27.0</td></tr><tr><td>ABR</td><td>713</td><td>144</td><td>10.458992805755395</td><td>28.0</td></tr><tr><td>ABI</td><td>1907</td><td>623</td><td>10.396782841823056</td><td>26.0</td></tr><tr><td>BLI</td><td>3707</td><td>1371</td><td>10.358072556078648</td><td>30.0</td></tr><tr><td>CDV</td><td>722</td><td>245</td><td>10.353284671532847</td><td>34.0</td></tr><tr><td>OAJ</td><td>1796</td><td>564</td><td>10.351335986355885</td><td>33.0</td></tr><tr><td>CNY</td><td>646</td><td>211</td><td>10.3486529318542</td><td>28.0</td></tr><tr><td>JNU</td><td>4778</td><td>1771</td><td>10.30930735930736</td><td>29.0</td></tr><tr><td>LBL</td><td>615</td><td>150</td><td>10.296173044925125</td><td>30.0</td></tr><tr><td>LAN</td><td>1957</td><td>453</td><td>10.268969126111983</td><td>24.0</td></tr><tr><td>PHF</td><td>473</td><td>110</td><td>10.244541484716157</td><td>27.0</td></tr><tr><td>LCH</td><td>1096</td><td>287</td><td>10.237430167597765</td><td>30.0</td></tr><tr><td>LGB</td><td>15635</td><td>5843</td><td>10.202613524991833</td><td>30.0</td></tr><tr><td>SPS</td><td>1103</td><td>339</td><td>10.178331735378714</td><td>18.0</td></tr><tr><td>AEX</td><td>2073</td><td>616</td><td>10.155402072027627</td><td>25.0</td></tr><tr><td>CWA</td><td>1810</td><td>490</td><td>10.068868980963046</td><td>27.0</td></tr><tr><td>YAK</td><td>722</td><td>251</td><td>10.014619883040936</td><td>32.0</td></tr><tr><td>ALS</td><td>260</td><td>62</td><td>9.987341772151899</td><td>32.0</td></tr><tr><td>ADK</td><td>105</td><td>34</td><td>9.801980198019802</td><td>26.0</td></tr><tr><td>AKN</td><td>463</td><td>164</td><td>9.750577367205542</td><td>33.0</td></tr><tr><td>BGM</td><td>364</td><td>100</td><td>9.717877094972067</td><td>26.0</td></tr><tr><td>CMI</td><td>1524</td><td>486</td><td>9.713125845737483</td><td>27.0</td></tr><tr><td>BET</td><td>716</td><td>286</td><td>9.640401146131806</td><td>29.0</td></tr><tr><td>GTF</td><td>2290</td><td>784</td><td>9.618310482087573</td><td>23.0</td></tr><tr><td>MLU</td><td>2017</td><td>537</td><td>9.6088504577823</td><td>23.0</td></tr><tr><td>GGG</td><td>778</td><td>173</td><td>9.560526315789474</td><td>14.0</td></tr><tr><td>TYR</td><td>1238</td><td>334</td><td>9.515886287625419</td><td>23.0</td></tr><tr><td>ADQ</td><td>948</td><td>244</td><td>9.508849557522124</td><td>28.0</td></tr><tr><td>FOD</td><td>527</td><td>123</td><td>9.486</td><td>23.0</td></tr><tr><td>GNV</td><td>3617</td><td>934</td><td>9.462732919254659</td><td>26.0</td></tr><tr><td>SJT</td><td>1410</td><td>423</td><td>9.455344070278185</td><td>21.0</td></tr><tr><td>AZO</td><td>1682</td><td>447</td><td>9.437041564792176</td><td>24.0</td></tr><tr><td>BTM</td><td>610</td><td>192</td><td>9.419031719532555</td><td>23.0</td></tr><tr><td>RDD</td><td>1739</td><td>454</td><td>9.413194444444445</td><td>18.0</td></tr><tr><td>BPT</td><td>802</td><td>184</td><td>9.351282051282052</td><td>18.0</td></tr><tr><td>GTR</td><td>1021</td><td>254</td><td>9.334645669291339</td><td>21.0</td></tr><tr><td>TXK</td><td>1082</td><td>272</td><td>8.783681214421252</td><td>18.0</td></tr><tr><td>MHK</td><td>1725</td><td>487</td><td>8.697132616487455</td><td>26.0</td></tr><tr><td>ACT</td><td>1698</td><td>480</td><td>8.47016274864376</td><td>25.0</td></tr><tr><td>YKM</td><td>612</td><td>230</td><td>8.371428571428572</td><td>24.0</td></tr><tr><td>WYS</td><td>284</td><td>70</td><td>8.303571428571429</td><td>20.0</td></tr><tr><td>PIH</td><td>365</td><td>77</td><td>8.225895316804408</td><td>13.0</td></tr><tr><td>OTZ</td><td>724</td><td>223</td><td>8.217967599410898</td><td>25.0</td></tr><tr><td>STC</td><td>110</td><td>44</td><td>8.212962962962964</td><td>25.0</td></tr><tr><td>SGU</td><td>2839</td><td>851</td><td>8.212185618136735</td><td>22.0</td></tr><tr><td>ABY</td><td>963</td><td>212</td><td>8.065693430656934</td><td>21.0</td></tr><tr><td>HLN</td><td>1518</td><td>385</td><td>8.05</td><td>17.0</td></tr><tr><td>ITH</td><td>614</td><td>151</td><td>7.937074829931973</td><td>25.0</td></tr><tr><td>TWF</td><td>416</td><td>94</td><td>7.876513317191283</td><td>10.0</td></tr><tr><td>OME</td><td>722</td><td>234</td><td>7.866568914956011</td><td>23.0</td></tr><tr><td>MKG</td><td>464</td><td>86</td><td>7.801369863013699</td><td>24.0</td></tr><tr><td>OTH</td><td>343</td><td>85</td><td>7.785276073619632</td><td>23.0</td></tr><tr><td>EAT</td><td>610</td><td>251</td><td>7.739655172413793</td><td>22.0</td></tr><tr><td>SWO</td><td>722</td><td>175</td><td>7.670921985815603</td><td>20.0</td></tr><tr><td>PUW</td><td>1382</td><td>432</td><td>7.327407407407407</td><td>20.0</td></tr><tr><td>VCT</td><td>601</td><td>75</td><td>7.241025641025641</td><td>8.0</td></tr><tr><td>ALO</td><td>696</td><td>145</td><td>7.035714285714286</td><td>19.0</td></tr><tr><td>ALW</td><td>613</td><td>181</td><td>7.032040472175379</td><td>19.0</td></tr><tr><td>SUN</td><td>1870</td><td>460</td><td>6.983986747653231</td><td>17.0</td></tr><tr><td>CDC</td><td>622</td><td>155</td><td>6.814814814814815</td><td>14.0</td></tr><tr><td>LWS</td><td>1024</td><td>277</td><td>5.8919722497522296</td><td>16.0</td></tr><tr><td>FLO</td><td>113</td><td>20</td><td>5.045454545454546</td><td>13.0</td></tr><tr><td>GUM</td><td>752</td><td>147</td><td>4.113182423435419</td><td>11.0</td></tr><tr><td>GST</td><td>110</td><td>18</td><td>2.8679245283018866</td><td>8.0</td></tr><tr><td>SPN</td><td>387</td><td>41</td><td>2.1550387596899223</td><td>1.0</td></tr></tbody></table></div>"
      ]
     },
     "metadata": {
      "application/vnd.databricks.v1+output": {
       "addedWidgets": {},
       "aggData": [],
       "aggError": "",
       "aggOverflow": false,
       "aggSchema": [],
       "aggSeriesLimitReached": false,
       "aggType": "",
       "arguments": {},
       "columnCustomDisplayInfos": {},
       "data": [
        [
         "PGD",
         6152,
         3863,
         36.48650970957209,
         98
        ],
        [
         "BQN",
         2398,
         1361,
         31.032702237521516,
         92
        ],
        [
         "BIH",
         325,
         149,
         30.43312101910828,
         90
        ],
        [
         "ASE",
         6464,
         2815,
         28.337271015237118,
         78
        ],
        [
         "MQT",
         1100,
         386,
         27.729445506692162,
         54
        ],
        [
         "DIK",
         116,
         18,
         27.471910112359552,
         32
        ],
        [
         "SFB",
         9166,
         5049,
         27.38532528198701,
         73
        ],
        [
         "PIE",
         7829,
         4165,
         26.67686577091925,
         76
        ],
        [
         "SHD",
         606,
         145,
         25.903878583473862,
         63
        ],
        [
         "PSE",
         863,
         416,
         25.74327628361858,
         85
        ],
        [
         "AZA",
         5807,
         3260,
         25.346844444444443,
         64
        ],
        [
         "SMX",
         138,
         70,
         25.276923076923076,
         88
        ],
        [
         "FNT",
         2713,
         1365,
         25.250475827940615,
         74
        ],
        [
         "LCK",
         1011,
         517,
         25.2306101344364,
         70
        ],
        [
         "TTN",
         2287,
         1097,
         24.795496323529413,
         81
        ],
        [
         "GUC",
         1021,
         334,
         24.132716049382715,
         58
        ],
        [
         "VLD",
         1009,
         261,
         23.692307692307693,
         27
        ],
        [
         "PBI",
         24812,
         11675,
         23.31954650430401,
         71
        ],
        [
         "JLN",
         639,
         164,
         23.177419354838708,
         41
        ],
        [
         "PBG",
         677,
         236,
         22.92488262910798,
         41
        ],
        [
         "PVU",
         1286,
         628,
         21.984884645982497,
         58
        ],
        [
         "COD",
         619,
         257,
         21.877926421404684,
         57
        ],
        [
         "SCK",
         612,
         331,
         21.848333333333333,
         59
        ],
        [
         "LNK",
         189,
         54,
         21.67222222222222,
         40
        ],
        [
         "BJI",
         745,
         184,
         21.424242424242426,
         42
        ],
        [
         "HTS",
         430,
         204,
         21.234146341463415,
         60
        ],
        [
         "ORH",
         1753,
         613,
         21.14716748768473,
         68
        ],
        [
         "EWR",
         129763,
         53980,
         21.05982162456605,
         60
        ],
        [
         "MCO",
         146784,
         64469,
         20.88037367255381,
         61
        ],
        [
         "ISP",
         4708,
         2173,
         20.875166297117516,
         63
        ],
        [
         "SJU",
         29803,
         13510,
         20.87018486006403,
         63
        ],
        [
         "USA",
         870,
         404,
         20.593446601941746,
         63
        ],
        [
         "JFK",
         136554,
         53884,
         20.434852551004848,
         57
        ],
        [
         "HYA",
         124,
         58,
         20.358333333333334,
         58
        ],
        [
         "JST",
         724,
         166,
         20.285507246376813,
         50
        ],
        [
         "BLV",
         1147,
         517,
         20.08812949640288,
         61
        ],
        [
         "BFL",
         2465,
         808,
         19.611965101786456,
         52
        ],
        [
         "CGI",
         514,
         94,
         19.56441717791411,
         27
        ],
        [
         "RKS",
         388,
         124,
         19.49738219895288,
         28
        ],
        [
         "SUX",
         689,
         186,
         19.452095808383234,
         39
        ],
        [
         "FLL",
         84235,
         35102,
         19.401072274227385,
         57
        ],
        [
         "SWF",
         857,
         438,
         19.343337334933974,
         55
        ],
        [
         "CAK",
         2197,
         808,
         19.261814744801512,
         65
        ],
        [
         "FWA",
         4763,
         1864,
         18.976688970429528,
         56
        ],
        [
         "HPN",
         12601,
         4615,
         18.787760524786183,
         56
        ],
        [
         "SRQ",
         15296,
         6855,
         18.782116040955632,
         57
        ],
        [
         "LGA",
         169414,
         60379,
         18.750273911709648,
         56
        ],
        [
         "DFW",
         276711,
         95198,
         18.47508018751542,
         45
        ],
        [
         "OGS",
         259,
         82,
         18.472340425531915,
         50
        ],
        [
         "RSW",
         36431,
         14606,
         18.46732921426906,
         55
        ],
        [
         "MIA",
         106842,
         43279,
         18.44200930016725,
         49
        ],
        [
         "MFE",
         3774,
         1426,
         18.241003271537622,
         53
        ],
        [
         "BOS",
         136479,
         50142,
         18.23394387472389,
         54
        ],
        [
         "SBN",
         5378,
         1843,
         18.093094238840138,
         46
        ],
        [
         "GRR",
         16035,
         6194,
         18.014955328240323,
         54
        ],
        [
         "CMX",
         691,
         174,
         17.879227053140095,
         38
        ],
        [
         "LWB",
         544,
         144,
         17.73854961832061,
         56
        ],
        [
         "CKB",
         999,
         295,
         17.66983122362869,
         48
        ],
        [
         "BUF",
         20089,
         8037,
         17.66540044317822,
         54
        ],
        [
         "TPA",
         73137,
         30317,
         17.623335654299233,
         53
        ],
        [
         "PRC",
         725,
         222,
         17.622746185852982,
         40
        ],
        [
         "IAG",
         407,
         175,
         17.556701030927837,
         56
        ],
        [
         "BDL",
         23486,
         9627,
         17.54810829879178,
         54
        ],
        [
         "JAX",
         28649,
         11678,
         17.52042917524656,
         52
        ],
        [
         "TYS",
         12881,
         5074,
         17.436193050807027,
         48
        ],
        [
         "PWM",
         10774,
         4101,
         17.392660910518053,
         49
        ],
        [
         "MGM",
         2592,
         993,
         17.368047337278107,
         49
        ],
        [
         "SCE",
         605,
         213,
         17.31911262798635,
         45
        ],
        [
         "EYW",
         8140,
         2916,
         17.22510600025697,
         43
        ],
        [
         "EGE",
         2905,
         940,
         17.195784208645946,
         50
        ],
        [
         "RAP",
         4627,
         1562,
         17.108053691275167,
         46
        ],
        [
         "BFF",
         720,
         226,
         17.06628242074928,
         41
        ],
        [
         "HYS",
         696,
         190,
         16.99702380952381,
         38
        ],
        [
         "DCA",
         142320,
         53691,
         16.974820883251116,
         47
        ],
        [
         "ACY",
         3281,
         1105,
         16.935750636132315,
         53
        ],
        [
         "PHL",
         87880,
         30283,
         16.838048711910872,
         44
        ],
        [
         "MOT",
         2292,
         789,
         16.83050847457627,
         38
        ],
        [
         "FAR",
         6010,
         2268,
         16.816460055096417,
         45
        ],
        [
         "ACV",
         1966,
         586,
         16.78625134264232,
         27
        ],
        [
         "FSD",
         7232,
         2733,
         16.757966293726103,
         47
        ],
        [
         "HOB",
         260,
         73,
         16.67450980392157,
         32
        ],
        [
         "ALB",
         11990,
         4811,
         16.643494842680074,
         51
        ],
        [
         "SAV",
         17818,
         7113,
         16.630406976744187,
         48
        ],
        [
         "ESC",
         710,
         222,
         16.534985422740526,
         39
        ],
        [
         "CVG",
         36754,
         14163,
         16.523995175721538,
         47
        ],
        [
         "EKO",
         365,
         91,
         16.474719101123597,
         12
        ],
        [
         "CHS",
         24108,
         9817,
         16.463419894745922,
         50
        ],
        [
         "RHI",
         712,
         210,
         16.458452722063036,
         35
        ],
        [
         "LAS",
         175519,
         74421,
         16.431231690379207,
         48
        ],
        [
         "ROC",
         12581,
         4803,
         16.373342175066313,
         50
        ],
        [
         "PIA",
         3183,
         1177,
         16.34418756105503,
         46
        ],
        [
         "ELM",
         1021,
         311,
         16.325604838709676,
         47
        ],
        [
         "MEM",
         20967,
         8421,
         16.323220422189493,
         49
        ],
        [
         "SYR",
         13108,
         5086,
         16.319401567323677,
         49
        ],
        [
         "IND",
         41274,
         16276,
         16.3178716572174,
         48
        ],
        [
         "ORF",
         21739,
         8486,
         16.297833676055664,
         49
        ],
        [
         "PVD",
         15285,
         5865,
         16.28577260665442,
         50
        ],
        [
         "ABE",
         4361,
         1704,
         16.2593984962406,
         47
        ],
        [
         "PLN",
         748,
         238,
         16.253462603878116,
         43
        ],
        [
         "BMI",
         2641,
         842,
         16.170627191273862,
         43
        ],
        [
         "RDU",
         54045,
         20456,
         16.16439614266034,
         49
        ],
        [
         "CPR",
         1471,
         495,
         16.138772663877266,
         37
        ],
        [
         "LBB",
         5732,
         2084,
         16.079330814894764,
         47
        ],
        [
         "PIB",
         662,
         146,
         16.04915514592934,
         37
        ],
        [
         "RFD",
         734,
         322,
         16.029045643153527,
         40
        ],
        [
         "GFK",
         1451,
         449,
         16.012221423436376,
         39
        ],
        [
         "SDF",
         21604,
         7935,
         15.984871696667943,
         46
        ],
        [
         "LBF",
         659,
         268,
         15.950871632329635,
         34
        ],
        [
         "SCC",
         410,
         124,
         15.864661654135338,
         43
        ],
        [
         "PNS",
         10970,
         4088,
         15.746154563251608,
         44
        ],
        [
         "LFT",
         3345,
         1247,
         15.681804327948797,
         38
        ],
        [
         "APN",
         628,
         196,
         15.625827814569536,
         45
        ],
        [
         "OKC",
         20489,
         8067,
         15.62328355216999,
         43
        ],
        [
         "MVY",
         1019,
         351,
         15.602409638554217,
         50
        ],
        [
         "ATW",
         4629,
         1749,
         15.596866725507502,
         47
        ],
        [
         "MKE",
         25215,
         9855,
         15.587677725118484,
         46
        ],
        [
         "ORD",
         260587,
         81357,
         15.530335432260108,
         39
        ],
        [
         "MCW",
         524,
         120,
         15.491869918699187,
         28
        ],
        [
         "CLE",
         39227,
         14478,
         15.484286545685414,
         46
        ],
        [
         "LRD",
         1435,
         491,
         15.483105679367362,
         34
        ],
        [
         "BHM",
         13807,
         5476,
         15.447526961695798,
         46
        ],
        [
         "CRW",
         2830,
         970,
         15.441379310344828,
         37
        ],
        [
         "PIT",
         40480,
         14997,
         15.414582960100326,
         46
        ],
        [
         "COS",
         11867,
         4774,
         15.354525768731053,
         46
        ],
        [
         "CMH",
         39076,
         14978,
         15.334290271132376,
         46
        ],
        [
         "BTV",
         8216,
         2824,
         15.333672172808132,
         45
        ],
        [
         "MCI",
         44826,
         17674,
         15.2345758502541,
         44
        ],
        [
         "ELP",
         17435,
         6932,
         15.21457537466941,
         44
        ],
        [
         "JAC",
         4758,
         1657,
         15.214008620689656,
         41
        ],
        [
         "CLT",
         191795,
         61342,
         15.131287302107452,
         36
        ],
        [
         "MSN",
         10753,
         3646,
         15.112170927127051,
         43
        ],
        [
         "MHT",
         6704,
         2663,
         15.09106529209622,
         47
        ],
        [
         "OMA",
         21533,
         8432,
         15.044563873299724,
         44
        ],
        [
         "AUS",
         89578,
         35483,
         15.042138321369409,
         43
        ],
        [
         "DSM",
         14506,
         5441,
         15.02559402101107,
         44
        ],
        [
         "MAF",
         8724,
         2972,
         15.003893345917886,
         45
        ],
        [
         "VPS",
         8821,
         3286,
         14.995813466682172,
         42
        ],
        [
         "EAU",
         488,
         119,
         14.995744680851065,
         31
        ],
        [
         "MSY",
         48093,
         18394,
         14.970105622532808,
         45
        ],
        [
         "JMS",
         812,
         186,
         14.894882434301522,
         32
        ],
        [
         "RST",
         1701,
         478,
         14.88855421686747,
         32
        ],
        [
         "IDA",
         4487,
         1595,
         14.888107126645483,
         37
        ],
        [
         "GRI",
         941,
         356,
         14.810195227765727,
         43
        ],
        [
         "HHH",
         1999,
         635,
         14.768833849329205,
         38
        ],
        [
         "EWN",
         967,
         296,
         14.762875536480687,
         49
        ],
        [
         "PHX",
         165218,
         59397,
         14.735071259934982,
         37
        ],
        [
         "DEN",
         271459,
         97198,
         14.732071716930042,
         39
        ],
        [
         "STT",
         5438,
         2148,
         14.694267515923567,
         41
        ],
        [
         "ACK",
         1695,
         486,
         14.672211953173136,
         43
        ],
        [
         "AVP",
         1757,
         629,
         14.66901822457378,
         40
        ],
        [
         "RIC",
         18852,
         6767,
         14.648790919559138,
         45
        ],
        [
         "AVL",
         9300,
         3443,
         14.645576645576645,
         43
        ],
        [
         "STX",
         1164,
         475,
         14.64516129032258,
         42
        ],
        [
         "MLI",
         3917,
         1289,
         14.608627450980393,
         39
        ],
        [
         "SAT",
         34788,
         13706,
         14.606197945790047,
         43
        ],
        [
         "ICT",
         8964,
         3319,
         14.602287021154945,
         41
        ],
        [
         "DVL",
         675,
         135,
         14.471264367816092,
         30
        ],
        [
         "HDN",
         2508,
         952,
         14.470028937577512,
         44
        ],
        [
         "IAD",
         56666,
         18249,
         14.460545401798665,
         36
        ],
        [
         "MDT",
         5107,
         1750,
         14.444288295522988,
         39
        ],
        [
         "SHV",
         3937,
         1300,
         14.403771635236373,
         37
        ],
        [
         "COU",
         1636,
         537,
         14.39294710327456,
         40
        ],
        [
         "AMA",
         4886,
         1696,
         14.368899218254807,
         41
        ],
        [
         "BIS",
         3720,
         1320,
         14.36340782122905,
         41
        ],
        [
         "SAF",
         1854,
         640,
         14.322847682119205,
         37
        ],
        [
         "HSV",
         7569,
         2621,
         14.314085267134377,
         41
        ],
        [
         "CID",
         7861,
         2680,
         14.30869169806418,
         42
        ],
        [
         "TUL",
         15324,
         5657,
         14.284698940592731,
         44
        ],
        [
         "GSP",
         12649,
         4362,
         14.179380940775042,
         40
        ],
        [
         "SIT",
         1428,
         609,
         14.137728937728937,
         39
        ],
        [
         "EAR",
         591,
         208,
         14.136524822695035,
         42
        ],
        [
         "FSM",
         1424,
         395,
         14.133576642335766,
         28
        ],
        [
         "INL",
         582,
         122,
         14.127468581687612,
         25
        ],
        [
         "MOB",
         3270,
         1061,
         14.117811625738266,
         33
        ],
        [
         "BGR",
         4954,
         1634,
         14.077054065559812,
         41
        ],
        [
         "DAY",
         6741,
         2318,
         14.059466019417476,
         40
        ],
        [
         "LIT",
         10756,
         4060,
         14.034922447426016,
         43
        ],
        [
         "MSP",
         119851,
         36316,
         14.033531427211127,
         32
        ],
        [
         "GRK",
         2097,
         688,
         14.029688273132113,
         40
        ],
        [
         "ECP",
         6708,
         2469,
         13.958270106221548,
         38
        ],
        [
         "DAL",
         66378,
         27044,
         13.950557486357704,
         42
        ],
        [
         "MDW",
         76882,
         31058,
         13.91994524780788,
         41
        ],
        [
         "STL",
         58978,
         22281,
         13.904637319801232,
         41
        ],
        [
         "BNA",
         87678,
         31968,
         13.87971128825254,
         42
        ],
        [
         "DTW",
         126389,
         36361,
         13.860870760621694,
         33
        ],
        [
         "DRO",
         3204,
         1050,
         13.756066411238825,
         39
        ],
        [
         "TVC",
         4030,
         1354,
         13.755246523388116,
         40
        ],
        [
         "BWI",
         86572,
         33120,
         13.723035328046143,
         40
        ],
        [
         "MYR",
         16426,
         5529,
         13.676973148901546,
         40
        ],
        [
         "FCA",
         4459,
         1641,
         13.667503423094477,
         34
        ],
        [
         "SPI",
         1027,
         355,
         13.609264853977844,
         38
        ],
        [
         "PAH",
         763,
         158,
         13.581867388362653,
         30
        ],
        [
         "LBE",
         909,
         283,
         13.579428571428572,
         49
        ],
        [
         "IAH",
         125844,
         38345,
         13.561018644246953,
         34
        ],
        [
         "FAT",
         10637,
         3848,
         13.555248091603053,
         37
        ],
        [
         "GJT",
         3421,
         1199,
         13.483774933015779,
         36
        ],
        [
         "WRG",
         722,
         277,
         13.483641536273115,
         35
        ],
        [
         "LAX",
         191163,
         65852,
         13.478231502361401,
         34
        ],
        [
         "BRW",
         363,
         182,
         13.45619335347432,
         36
        ],
        [
         "ABQ",
         20436,
         8321,
         13.447859495060372,
         40
        ],
        [
         "DEC",
         1045,
         228,
         13.443887775551103,
         28
        ],
        [
         "ILM",
         6955,
         2391,
         13.414768497841298,
         42
        ],
        [
         "XNA",
         10298,
         3869,
         13.374491315136476,
         41
        ],
        [
         "SBP",
         4998,
         1637,
         13.364914425427873,
         30
        ],
        [
         "MEI",
         792,
         196,
         13.346547314578006,
         37
        ],
        [
         "MTJ",
         3035,
         1079,
         13.31602172437203,
         41
        ],
        [
         "DRT",
         693,
         188,
         13.294814814814815,
         28
        ],
        [
         "HOU",
         50871,
         19139,
         13.258728356514334,
         40
        ],
        [
         "PUB",
         499,
         131,
         13.256198347107437,
         37
        ],
        [
         "MRY",
         4130,
         1376,
         13.160490797546013,
         35
        ],
        [
         "SGF",
         6518,
         2267,
         13.117877884162612,
         33
        ],
        [
         "ROW",
         1231,
         321,
         13.090609555189456,
         33
        ],
        [
         "SLN",
         821,
         237,
         13.075187969924812,
         34
        ],
        [
         "HRL",
         3784,
         1372,
         13.01245599783374,
         36
        ],
        [
         "HGR",
         217,
         79,
         12.985507246376812,
         39
        ],
        [
         "DLH",
         1573,
         451,
         12.927687296416938,
         31
        ],
        [
         "HNL",
         55221,
         24964,
         12.920755615815896,
         32
        ],
        [
         "CAE",
         5566,
         1875,
         12.919683881639404,
         37
        ],
        [
         "PSG",
         722,
         221,
         12.893830703012913,
         35
        ],
        [
         "DDC",
         615,
         129,
         12.880067567567568,
         28
        ],
        [
         "GCC",
         624,
         162,
         12.840983606557376,
         29
        ],
        [
         "TUS",
         16234,
         5705,
         12.822105131100239,
         36
        ],
        [
         "ONT",
         23574,
         9202,
         12.79719553362763,
         39
        ],
        [
         "ERI",
         158,
         50,
         12.773972602739725,
         40
        ],
        [
         "CRP",
         3631,
         1301,
         12.72539592760181,
         37
        ],
        [
         "RNO",
         19464,
         7433,
         12.721881711980721,
         37
        ],
        [
         "BZN",
         10260,
         3932,
         12.70684168655529,
         37
        ],
        [
         "GRB",
         4068,
         1258,
         12.674494129402948,
         34
        ],
        [
         "LAW",
         1143,
         401,
         12.585144927536232,
         30
        ],
        [
         "SAN",
         86033,
         33065,
         12.569499376447533,
         36
        ],
        [
         "ANC",
         20427,
         8169,
         12.5327451474666,
         36
        ],
        [
         "SFO",
         129964,
         40404,
         12.50540809373507,
         33
        ],
        [
         "CHA",
         5090,
         1695,
         12.503809141940657,
         34
        ],
        [
         "ATL",
         317910,
         94386,
         12.44704898921315,
         31
        ],
        [
         "XWA",
         1504,
         480,
         12.427279053583856,
         33
        ],
        [
         "BIL",
         4162,
         1544,
         12.393733300947291,
         36
        ],
        [
         "HIB",
         655,
         128,
         12.371473354231975,
         22
        ],
        [
         "BRD",
         744,
         158,
         12.369146005509641,
         24
        ],
        [
         "EUG",
         9051,
         3383,
         12.32838339520756,
         34
        ],
        [
         "LSE",
         1412,
         443,
         12.218772563176895,
         32
        ],
        [
         "SBA",
         7678,
         2534,
         12.211108151305273,
         35
        ],
        [
         "JAN",
         7689,
         2569,
         12.209643047416089,
         37
        ],
        [
         "GSO",
         9686,
         3154,
         12.172978177150192,
         37
        ],
        [
         "CIU",
         719,
         182,
         12.093659942363113,
         26
        ],
        [
         "IMT",
         726,
         216,
         12.06488011283498,
         37
        ],
        [
         "CHO",
         3070,
         949,
         12.053115423901941,
         34
        ],
        [
         "SMF",
         53848,
         20390,
         12.052637571157495,
         36
        ],
        [
         "AGS",
         3763,
         1135,
         12.00997573469938,
         34
        ],
        [
         "TRI",
         2967,
         906,
         11.96005462615227,
         34
        ],
        [
         "PSP",
         14650,
         5175,
         11.944081235220477,
         35
        ],
        [
         "PDX",
         59380,
         21959,
         11.895243994769082,
         34
        ],
        [
         "GPT",
         3042,
         893,
         11.876964226011367,
         27
        ],
        [
         "CYS",
         640,
         147,
         11.844408427876823,
         23
        ],
        [
         "KTN",
         2465,
         861,
         11.787777312683131,
         31
        ],
        [
         "CSG",
         1643,
         419,
         11.756188118811881,
         31
        ],
        [
         "GEG",
         19928,
         7658,
         11.742448979591837,
         33
        ],
        [
         "OAK",
         47656,
         18623,
         11.70956324008924,
         35
        ],
        [
         "FAY",
         2033,
         577,
         11.708689100954293,
         32
        ],
        [
         "DAB",
         2817,
         907,
         11.677822728944465,
         34
        ],
        [
         "YUM",
         1655,
         511,
         11.634697617593158,
         31
        ],
        [
         "CLL",
         1325,
         370,
         11.622377622377622,
         27
        ],
        [
         "BTR",
         4121,
         1286,
         11.615251727541954,
         33
        ],
        [
         "SEA",
         174007,
         60139,
         11.612717171241584,
         30
        ],
        [
         "PAE",
         4010,
         1584,
         11.580148756091306,
         35
        ],
        [
         "TLH",
         5209,
         1615,
         11.56010180109632,
         32
        ],
        [
         "DHN",
         931,
         277,
         11.552319309600863,
         34
        ],
        [
         "BOI",
         26047,
         9293,
         11.532036568760942,
         33
        ],
        [
         "PSC",
         5797,
         2152,
         11.502192597789861,
         30
        ],
        [
         "LEX",
         7181,
         2205,
         11.496863416025093,
         31
        ],
        [
         "OGG",
         30055,
         12967,
         11.464256865912763,
         30
        ],
        [
         "VEL",
         504,
         155,
         11.45979381443299,
         33
        ],
        [
         "STS",
         4232,
         1509,
         11.443350936149784,
         30
        ],
        [
         "MLB",
         2499,
         707,
         11.392373923739237,
         30
        ],
        [
         "SLC",
         109767,
         31150,
         11.372855878121657,
         26
        ],
        [
         "MSO",
         4772,
         1513,
         11.367029217317125,
         30
        ],
        [
         "LAR",
         618,
         174,
         11.3292469352014,
         35
        ],
        [
         "GCK",
         724,
         265,
         11.284495021337127,
         27
        ],
        [
         "FAI",
         4634,
         1772,
         11.271415889924546,
         33
        ],
        [
         "BQK",
         874,
         240,
         11.268433179723502,
         23
        ],
        [
         "BUR",
         31177,
         11325,
         11.261316531255181,
         35
        ],
        [
         "EVV",
         1961,
         620,
         11.169198533263488,
         33
        ],
        [
         "LYH",
         214,
         81,
         11.14975845410628,
         29
        ],
        [
         "ITO",
         6164,
         3045,
         11.056909239574816,
         31
        ],
        [
         "FLG",
         1840,
         528,
         11.05577029265599,
         28
        ],
        [
         "ROA",
         2063,
         614,
         11.0059731209557,
         28
        ],
        [
         "DLG",
         444,
         188,
         11,
         33
        ],
        [
         "SNA",
         47131,
         18188,
         10.99971705299815,
         32
        ],
        [
         "PSM",
         382,
         135,
         10.947802197802197,
         33
        ],
        [
         "SHR",
         630,
         168,
         10.908496732026144,
         24
        ],
        [
         "MBS",
         1078,
         260,
         10.898016997167138,
         21
        ],
        [
         "SJC",
         53315,
         19512,
         10.879888803680982,
         33
        ],
        [
         "LIH",
         15255,
         6702,
         10.860727562400426,
         29
        ],
        [
         "RDM",
         7852,
         2638,
         10.818287335568739,
         26
        ],
        [
         "DBQ",
         451,
         134,
         10.816933638443937,
         27
        ],
        [
         "BRO",
         1275,
         390,
         10.80080971659919,
         27
        ],
        [
         "TBN",
         489,
         78,
         10.769063180827887,
         27
        ],
        [
         "RIW",
         403,
         107,
         10.594315245478036,
         21
        ],
        [
         "TOL",
         785,
         267,
         10.575,
         32
        ],
        [
         "KOA",
         16270,
         6881,
         10.558989635697884,
         29
        ],
        [
         "MFR",
         7664,
         2543,
         10.53848188309971,
         27
        ],
        [
         "ABR",
         713,
         144,
         10.458992805755395,
         28
        ],
        [
         "ABI",
         1907,
         623,
         10.396782841823056,
         26
        ],
        [
         "BLI",
         3707,
         1371,
         10.358072556078648,
         30
        ],
        [
         "CDV",
         722,
         245,
         10.353284671532847,
         34
        ],
        [
         "OAJ",
         1796,
         564,
         10.351335986355885,
         33
        ],
        [
         "CNY",
         646,
         211,
         10.3486529318542,
         28
        ],
        [
         "JNU",
         4778,
         1771,
         10.30930735930736,
         29
        ],
        [
         "LBL",
         615,
         150,
         10.296173044925125,
         30
        ],
        [
         "LAN",
         1957,
         453,
         10.268969126111983,
         24
        ],
        [
         "PHF",
         473,
         110,
         10.244541484716157,
         27
        ],
        [
         "LCH",
         1096,
         287,
         10.237430167597765,
         30
        ],
        [
         "LGB",
         15635,
         5843,
         10.202613524991833,
         30
        ],
        [
         "SPS",
         1103,
         339,
         10.178331735378714,
         18
        ],
        [
         "AEX",
         2073,
         616,
         10.155402072027627,
         25
        ],
        [
         "CWA",
         1810,
         490,
         10.068868980963046,
         27
        ],
        [
         "YAK",
         722,
         251,
         10.014619883040936,
         32
        ],
        [
         "ALS",
         260,
         62,
         9.987341772151899,
         32
        ],
        [
         "ADK",
         105,
         34,
         9.801980198019802,
         26
        ],
        [
         "AKN",
         463,
         164,
         9.750577367205542,
         33
        ],
        [
         "BGM",
         364,
         100,
         9.717877094972067,
         26
        ],
        [
         "CMI",
         1524,
         486,
         9.713125845737483,
         27
        ],
        [
         "BET",
         716,
         286,
         9.640401146131806,
         29
        ],
        [
         "GTF",
         2290,
         784,
         9.618310482087573,
         23
        ],
        [
         "MLU",
         2017,
         537,
         9.6088504577823,
         23
        ],
        [
         "GGG",
         778,
         173,
         9.560526315789474,
         14
        ],
        [
         "TYR",
         1238,
         334,
         9.515886287625419,
         23
        ],
        [
         "ADQ",
         948,
         244,
         9.508849557522124,
         28
        ],
        [
         "FOD",
         527,
         123,
         9.486,
         23
        ],
        [
         "GNV",
         3617,
         934,
         9.462732919254659,
         26
        ],
        [
         "SJT",
         1410,
         423,
         9.455344070278185,
         21
        ],
        [
         "AZO",
         1682,
         447,
         9.437041564792176,
         24
        ],
        [
         "BTM",
         610,
         192,
         9.419031719532555,
         23
        ],
        [
         "RDD",
         1739,
         454,
         9.413194444444445,
         18
        ],
        [
         "BPT",
         802,
         184,
         9.351282051282052,
         18
        ],
        [
         "GTR",
         1021,
         254,
         9.334645669291339,
         21
        ],
        [
         "TXK",
         1082,
         272,
         8.783681214421252,
         18
        ],
        [
         "MHK",
         1725,
         487,
         8.697132616487455,
         26
        ],
        [
         "ACT",
         1698,
         480,
         8.47016274864376,
         25
        ],
        [
         "YKM",
         612,
         230,
         8.371428571428572,
         24
        ],
        [
         "WYS",
         284,
         70,
         8.303571428571429,
         20
        ],
        [
         "PIH",
         365,
         77,
         8.225895316804408,
         13
        ],
        [
         "OTZ",
         724,
         223,
         8.217967599410898,
         25
        ],
        [
         "STC",
         110,
         44,
         8.212962962962964,
         25
        ],
        [
         "SGU",
         2839,
         851,
         8.212185618136735,
         22
        ],
        [
         "ABY",
         963,
         212,
         8.065693430656934,
         21
        ],
        [
         "HLN",
         1518,
         385,
         8.05,
         17
        ],
        [
         "ITH",
         614,
         151,
         7.937074829931973,
         25
        ],
        [
         "TWF",
         416,
         94,
         7.876513317191283,
         10
        ],
        [
         "OME",
         722,
         234,
         7.866568914956011,
         23
        ],
        [
         "MKG",
         464,
         86,
         7.801369863013699,
         24
        ],
        [
         "OTH",
         343,
         85,
         7.785276073619632,
         23
        ],
        [
         "EAT",
         610,
         251,
         7.739655172413793,
         22
        ],
        [
         "SWO",
         722,
         175,
         7.670921985815603,
         20
        ],
        [
         "PUW",
         1382,
         432,
         7.327407407407407,
         20
        ],
        [
         "VCT",
         601,
         75,
         7.241025641025641,
         8
        ],
        [
         "ALO",
         696,
         145,
         7.035714285714286,
         19
        ],
        [
         "ALW",
         613,
         181,
         7.032040472175379,
         19
        ],
        [
         "SUN",
         1870,
         460,
         6.983986747653231,
         17
        ],
        [
         "CDC",
         622,
         155,
         6.814814814814815,
         14
        ],
        [
         "LWS",
         1024,
         277,
         5.8919722497522296,
         16
        ],
        [
         "FLO",
         113,
         20,
         5.045454545454546,
         13
        ],
        [
         "GUM",
         752,
         147,
         4.113182423435419,
         11
        ],
        [
         "GST",
         110,
         18,
         2.8679245283018866,
         8
        ],
        [
         "SPN",
         387,
         41,
         2.1550387596899223,
         1
        ]
       ],
       "datasetInfos": [],
       "dbfsResultPath": null,
       "isJsonSchema": true,
       "metadata": {},
       "overflow": false,
       "plotOptions": {
        "customPlotOptions": {},
        "displayType": "table",
        "pivotAggregation": null,
        "pivotColumns": null,
        "xColumns": null,
        "yColumns": null
       },
       "removedWidgets": [],
       "schema": [
        {
         "metadata": "{}",
         "name": "Dest",
         "type": "\"string\""
        },
        {
         "metadata": "{}",
         "name": "num_flights",
         "type": "\"long\""
        },
        {
         "metadata": "{}",
         "name": "num_flights_with_delay",
         "type": "\"long\""
        },
        {
         "metadata": "{}",
         "name": "avg_arr_delay",
         "type": "\"double\""
        },
        {
         "metadata": "{}",
         "name": "p90_arr_delay",
         "type": "\"double\""
        }
       ],
       "type": "table"
      }
     },
     "output_type": "display_data"
    },
    {
     "name": "stdout",
     "output_type": "stream",
     "text": [
      "Zeit zum Ausführen der SQL-Abfrage 2: 1.5228054523468018 Sekunden\n",
      "CPU times: user 41.3 ms, sys: 13.1 ms, total: 54.4 ms\n",
      "Wall time: 1.52 s\n"
     ]
    }
   ],
   "source": [
    "# Durchschnittliche Ankunftsverspätung nach Zielort\n",
    "%%time\n",
    "t0 = time.time()\n",
    "ergebnis2 = spark.sql(\"\"\"\n",
    "     SELECT\n",
    "      Dest,\n",
    "      COUNT(*) AS num_flights,\n",
    "      COUNT(CASE WHEN ArrDelayMinutes > 0.0 THEN 1 END) AS num_flights_with_delay,\n",
    "      AVG(ArrDelayMinutes) as avg_arr_delay,\n",
    "      percentile_approx(ArrDelayMinutes, 0.90) as p90_arr_delay\n",
    "    FROM flights\n",
    "    GROUP BY Dest\n",
    "    HAVING num_flights > 100\n",
    "    ORDER BY avg_arr_delay DESC\n",
    "\"\"\")\n",
    "display(ergebnis2.toPandas())\n",
    "t1 = time.time()\n",
    "print(f\"Zeit zum Ausführen der SQL-Abfrage 2: {t1 - t0} Sekunden\")\n",
    "tsql2 = t1 - t0\n"
   ]
  },
  {
   "cell_type": "code",
   "execution_count": 0,
   "metadata": {
    "application/vnd.databricks.v1+cell": {
     "cellMetadata": {
      "byteLimit": 2048000,
      "rowLimit": 10000
     },
     "inputWidgets": {},
     "nuid": "5fc634c2-8e4b-421d-b4cc-efe08e159f40",
     "showTitle": false,
     "tableResultSettingsMap": {},
     "title": ""
    }
   },
   "outputs": [
    {
     "data": {
      "text/html": [
       "<style scoped>\n",
       "  .table-result-container {\n",
       "    max-height: 300px;\n",
       "    overflow: auto;\n",
       "  }\n",
       "  table, th, td {\n",
       "    border: 1px solid black;\n",
       "    border-collapse: collapse;\n",
       "  }\n",
       "  th, td {\n",
       "    padding: 5px;\n",
       "  }\n",
       "  th {\n",
       "    text-align: left;\n",
       "  }\n",
       "</style><div class='table-result-container'><table class='table-result'><thead style='background-color: white'><tr><th>weekday</th><th>flight_count</th></tr></thead><tbody><tr><td>Monday</td><td>997219</td></tr><tr><td>Tuesday</td><td>934061</td></tr><tr><td>Wednesday</td><td>946037</td></tr><tr><td>Thursday</td><td>995372</td></tr><tr><td>Friday</td><td>1001705</td></tr><tr><td>Saturday</td><td>876949</td></tr><tr><td>Sunday</td><td>977782</td></tr></tbody></table></div>"
      ]
     },
     "metadata": {
      "application/vnd.databricks.v1+output": {
       "addedWidgets": {},
       "aggData": [],
       "aggError": "",
       "aggOverflow": false,
       "aggSchema": [],
       "aggSeriesLimitReached": false,
       "aggType": "",
       "arguments": {},
       "columnCustomDisplayInfos": {},
       "data": [
        [
         "Monday",
         997219
        ],
        [
         "Tuesday",
         934061
        ],
        [
         "Wednesday",
         946037
        ],
        [
         "Thursday",
         995372
        ],
        [
         "Friday",
         1001705
        ],
        [
         "Saturday",
         876949
        ],
        [
         "Sunday",
         977782
        ]
       ],
       "datasetInfos": [],
       "dbfsResultPath": null,
       "isJsonSchema": true,
       "metadata": {},
       "overflow": false,
       "plotOptions": {
        "customPlotOptions": {},
        "displayType": "table",
        "pivotAggregation": null,
        "pivotColumns": null,
        "xColumns": null,
        "yColumns": null
       },
       "removedWidgets": [],
       "schema": [
        {
         "metadata": "{}",
         "name": "weekday",
         "type": "\"string\""
        },
        {
         "metadata": "{}",
         "name": "flight_count",
         "type": "\"long\""
        }
       ],
       "type": "table"
      }
     },
     "output_type": "display_data"
    },
    {
     "name": "stdout",
     "output_type": "stream",
     "text": [
      "Zeit zum Ausführen der SQL-Abfrage 3: 1.3133609294891357 Sekunden\n"
     ]
    }
   ],
   "source": [
    "# Anzahl der Flüge nach Wochentag\n",
    "t0 = time.time()\n",
    "ergebnis3 = spark.sql(\"\"\"\n",
    "   SELECT\n",
    "      CASE DayOfWeek\n",
    "        WHEN 1 THEN 'Monday'\n",
    "        WHEN 2 THEN 'Tuesday'\n",
    "        WHEN 3 THEN 'Wednesday'\n",
    "        WHEN 4 THEN 'Thursday'\n",
    "        WHEN 5 THEN 'Friday'\n",
    "        WHEN 6 THEN 'Saturday'\n",
    "        WHEN 7 THEN 'Sunday'\n",
    "      END AS weekday,\n",
    "      COUNT(*) as flight_count\n",
    "    FROM flights\n",
    "    GROUP BY DayOfWeek\n",
    "    ORDER BY DayOfWeek ASC\n",
    "\"\"\")\n",
    "display(ergebnis3.toPandas())\n",
    "t1 = time.time()\n",
    "print(f\"Zeit zum Ausführen der SQL-Abfrage 3: {t1 - t0} Sekunden\")\n",
    "tsql3 = t1 - t0"
   ]
  },
  {
   "cell_type": "code",
   "execution_count": 0,
   "metadata": {
    "application/vnd.databricks.v1+cell": {
     "cellMetadata": {
      "byteLimit": 2048000,
      "rowLimit": 10000
     },
     "inputWidgets": {},
     "nuid": "bba10807-bb53-4986-98d9-070d3e917d1b",
     "showTitle": false,
     "tableResultSettingsMap": {},
     "title": ""
    }
   },
   "outputs": [
    {
     "data": {
      "text/html": [
       "<style scoped>\n",
       "  .table-result-container {\n",
       "    max-height: 300px;\n",
       "    overflow: auto;\n",
       "  }\n",
       "  table, th, td {\n",
       "    border: 1px solid black;\n",
       "    border-collapse: collapse;\n",
       "  }\n",
       "  th, td {\n",
       "    padding: 5px;\n",
       "  }\n",
       "  th {\n",
       "    text-align: left;\n",
       "  }\n",
       "</style><div class='table-result-container'><table class='table-result'><thead style='background-color: white'><tr><th>Reporting_Airline</th><th>avg_air_time</th><th>p90_air_time</th></tr></thead><tbody><tr><td>AS</td><td>176.91235309786853</td><td>319.0</td></tr><tr><td>B6</td><td>153.86072816979936</td><td>294.0</td></tr><tr><td>UA</td><td>152.2819610139823</td><td>277.0</td></tr><tr><td>NK</td><td>135.15652884923034</td><td>217.0</td></tr><tr><td>AA</td><td>132.7626466273493</td><td>239.0</td></tr><tr><td>F9</td><td>131.75881283748822</td><td>210.0</td></tr><tr><td>DL</td><td>125.03134889511077</td><td>236.0</td></tr><tr><td>HA</td><td>121.80231731005992</td><td>324.0</td></tr><tr><td>G4</td><td>121.71262425977629</td><td>172.0</td></tr><tr><td>WN</td><td>99.8619083657919</td><td>170.0</td></tr><tr><td>YV</td><td>90.72201689784485</td><td>150.0</td></tr><tr><td>YX</td><td>82.34075339619945</td><td>132.0</td></tr><tr><td>MQ</td><td>77.37389176610634</td><td>133.0</td></tr><tr><td>OO</td><td>75.69131039514151</td><td>126.0</td></tr><tr><td>QX</td><td>69.64649166102318</td><td>120.0</td></tr><tr><td>OH</td><td>68.10341217226838</td><td>105.0</td></tr><tr><td>9E</td><td>67.20666795074514</td><td>107.0</td></tr></tbody></table></div>"
      ]
     },
     "metadata": {
      "application/vnd.databricks.v1+output": {
       "addedWidgets": {},
       "aggData": [],
       "aggError": "",
       "aggOverflow": false,
       "aggSchema": [],
       "aggSeriesLimitReached": false,
       "aggType": "",
       "arguments": {},
       "columnCustomDisplayInfos": {},
       "data": [
        [
         "AS",
         176.91235309786853,
         319
        ],
        [
         "B6",
         153.86072816979936,
         294
        ],
        [
         "UA",
         152.2819610139823,
         277
        ],
        [
         "NK",
         135.15652884923034,
         217
        ],
        [
         "AA",
         132.7626466273493,
         239
        ],
        [
         "F9",
         131.75881283748822,
         210
        ],
        [
         "DL",
         125.03134889511077,
         236
        ],
        [
         "HA",
         121.80231731005992,
         324
        ],
        [
         "G4",
         121.71262425977629,
         172
        ],
        [
         "WN",
         99.8619083657919,
         170
        ],
        [
         "YV",
         90.72201689784485,
         150
        ],
        [
         "YX",
         82.34075339619945,
         132
        ],
        [
         "MQ",
         77.37389176610634,
         133
        ],
        [
         "OO",
         75.69131039514151,
         126
        ],
        [
         "QX",
         69.64649166102318,
         120
        ],
        [
         "OH",
         68.10341217226838,
         105
        ],
        [
         "9E",
         67.20666795074514,
         107
        ]
       ],
       "datasetInfos": [],
       "dbfsResultPath": null,
       "isJsonSchema": true,
       "metadata": {},
       "overflow": false,
       "plotOptions": {
        "customPlotOptions": {},
        "displayType": "table",
        "pivotAggregation": null,
        "pivotColumns": null,
        "xColumns": null,
        "yColumns": null
       },
       "removedWidgets": [],
       "schema": [
        {
         "metadata": "{}",
         "name": "Reporting_Airline",
         "type": "\"string\""
        },
        {
         "metadata": "{}",
         "name": "avg_air_time",
         "type": "\"double\""
        },
        {
         "metadata": "{}",
         "name": "p90_air_time",
         "type": "\"double\""
        }
       ],
       "type": "table"
      }
     },
     "output_type": "display_data"
    },
    {
     "name": "stdout",
     "output_type": "stream",
     "text": [
      "Zeit zum Ausführen der SQL-Abfrage 2: 1.375037431716919 Sekunden\n"
     ]
    }
   ],
   "source": [
    "# Durchschnittliche Flugdauer nach Fluggesellschaft\n",
    "t0 = time.time()\n",
    "ergebnis4 = spark.sql(\"\"\"\n",
    "   SELECT\n",
    "      Reporting_Airline,\n",
    "      AVG(AirTime) as avg_air_time,\n",
    "      percentile_approx(AirTime, 0.90) as p90_air_time\n",
    "    FROM flights\n",
    "    GROUP BY Reporting_Airline\n",
    "    ORDER BY avg_air_time DESC\n",
    "\"\"\")\n",
    "display(ergebnis4.toPandas())\n",
    "t1 = time.time()\n",
    "print(f\"Zeit zum Ausführen der SQL-Abfrage 2: {t1 - t0} Sekunden\")\n",
    "tsql4 = t1 - t0"
   ]
  },
  {
   "cell_type": "code",
   "execution_count": 0,
   "metadata": {
    "application/vnd.databricks.v1+cell": {
     "cellMetadata": {
      "byteLimit": 2048000,
      "rowLimit": 10000
     },
     "inputWidgets": {},
     "nuid": "a388348a-4d5d-4f4a-8166-9bfb05d8614c",
     "showTitle": false,
     "tableResultSettingsMap": {},
     "title": ""
    }
   },
   "outputs": [
    {
     "data": {
      "text/html": [
       "<style scoped>\n",
       "  .table-result-container {\n",
       "    max-height: 300px;\n",
       "    overflow: auto;\n",
       "  }\n",
       "  table, th, td {\n",
       "    border: 1px solid black;\n",
       "    border-collapse: collapse;\n",
       "  }\n",
       "  th, td {\n",
       "    padding: 5px;\n",
       "  }\n",
       "  th {\n",
       "    text-align: left;\n",
       "  }\n",
       "</style><div class='table-result-container'><table class='table-result'><thead style='background-color: white'><tr><th>CancellationCode</th><th>cancelled_flights</th></tr></thead><tbody><tr><td>B</td><td>93013</td></tr><tr><td>A</td><td>71780</td></tr><tr><td>C</td><td>15469</td></tr><tr><td>D</td><td>1024</td></tr></tbody></table></div>"
      ]
     },
     "metadata": {
      "application/vnd.databricks.v1+output": {
       "addedWidgets": {},
       "aggData": [],
       "aggError": "",
       "aggOverflow": false,
       "aggSchema": [],
       "aggSeriesLimitReached": false,
       "aggType": "",
       "arguments": {},
       "columnCustomDisplayInfos": {},
       "data": [
        [
         "B",
         93013
        ],
        [
         "A",
         71780
        ],
        [
         "C",
         15469
        ],
        [
         "D",
         1024
        ]
       ],
       "datasetInfos": [],
       "dbfsResultPath": null,
       "isJsonSchema": true,
       "metadata": {},
       "overflow": false,
       "plotOptions": {
        "customPlotOptions": {},
        "displayType": "table",
        "pivotAggregation": null,
        "pivotColumns": null,
        "xColumns": null,
        "yColumns": null
       },
       "removedWidgets": [],
       "schema": [
        {
         "metadata": "{}",
         "name": "CancellationCode",
         "type": "\"string\""
        },
        {
         "metadata": "{}",
         "name": "cancelled_flights",
         "type": "\"long\""
        }
       ],
       "type": "table"
      }
     },
     "output_type": "display_data"
    },
    {
     "name": "stdout",
     "output_type": "stream",
     "text": [
      "Zeit zum Ausführen der SQL-Abfrage 2: 1.2041640281677246 Sekunden\n"
     ]
    }
   ],
   "source": [
    "# Anzahl der annullierten Flüge nach Grund\n",
    "t0 = time.time()\n",
    "ergebnis5 = spark.sql(\"\"\"\n",
    "     SELECT\n",
    "      CancellationCode,\n",
    "      COUNT(*) as cancelled_flights\n",
    "    FROM flights\n",
    "    WHERE Cancelled = \"1.00\"\n",
    "    GROUP BY CancellationCode\n",
    "    ORDER BY cancelled_flights DESC\n",
    "\"\"\")\n",
    "display(ergebnis5.toPandas())\n",
    "t1 = time.time()\n",
    "print(f\"Zeit zum Ausführen der SQL-Abfrage 2: {t1 - t0} Sekunden\")\n",
    "tsql5 = t1 - t0"
   ]
  },
  {
   "cell_type": "code",
   "execution_count": 0,
   "metadata": {
    "application/vnd.databricks.v1+cell": {
     "cellMetadata": {
      "byteLimit": 2048000,
      "rowLimit": 10000
     },
     "inputWidgets": {},
     "nuid": "bfb1a8dc-c816-42b6-a67c-80023031c576",
     "showTitle": false,
     "tableResultSettingsMap": {},
     "title": ""
    }
   },
   "outputs": [
    {
     "data": {
      "text/html": [
       "<style scoped>\n",
       "  .table-result-container {\n",
       "    max-height: 300px;\n",
       "    overflow: auto;\n",
       "  }\n",
       "  table, th, td {\n",
       "    border: 1px solid black;\n",
       "    border-collapse: collapse;\n",
       "  }\n",
       "  th, td {\n",
       "    padding: 5px;\n",
       "  }\n",
       "  th {\n",
       "    text-align: left;\n",
       "  }\n",
       "</style><div class='table-result-container'><table class='table-result'><thead style='background-color: white'><tr><th>AIRPORT_SEQ_ID</th><th>AIRPORT_ID</th><th>AIRPORT</th><th>DISPLAY_AIRPORT_NAME</th><th>DISPLAY_AIRPORT_CITY_NAME_FULL</th><th>AIRPORT_COUNTRY_NAME</th><th>AIRPORT_COUNTRY_CODE_ISO</th><th>AIRPORT_STATE_NAME</th><th>AIRPORT_STATE_CODE</th><th>AIRPORT_STATE_FIPS</th><th>CITY_MARKET_ID</th><th>DISPLAY_CITY_MARKET_NAME_FULL</th><th>CITY_MARKET_WAC</th><th>LAT_DEGREES</th><th>LATITUDE</th><th>LON_DEGREES</th><th>LONGITUDE</th></tr></thead><tbody><tr><td>1000101</td><td>10001</td><td>01A</td><td>Afognak Lake Airport</td><td>Afognak Lake, AK</td><td>United States</td><td>US</td><td>Alaska</td><td>AK</td><td>2</td><td>30001</td><td>Afognak Lake, AK</td><td>1</td><td>58</td><td>58.10944444</td><td>152</td><td>-152.90666667</td></tr><tr><td>1000301</td><td>10003</td><td>03A</td><td>Bear Creek Mining Strip</td><td>Granite Mountain, AK</td><td>United States</td><td>US</td><td>Alaska</td><td>AK</td><td>2</td><td>30003</td><td>Granite Mountain, AK</td><td>1</td><td>65</td><td>65.54805556</td><td>161</td><td>-161.07166667</td></tr><tr><td>1000401</td><td>10004</td><td>04A</td><td>Lik Mining Camp</td><td>Lik, AK</td><td>United States</td><td>US</td><td>Alaska</td><td>AK</td><td>2</td><td>30004</td><td>Lik, AK</td><td>1</td><td>68</td><td>68.08333333</td><td>163</td><td>-163.16666667</td></tr><tr><td>1000501</td><td>10005</td><td>05A</td><td>Little Squaw Airport</td><td>Little Squaw, AK</td><td>United States</td><td>US</td><td>Alaska</td><td>AK</td><td>2</td><td>30005</td><td>Little Squaw, AK</td><td>1</td><td>67</td><td>67.57</td><td>148</td><td>-148.18388889</td></tr><tr><td>1000601</td><td>10006</td><td>06A</td><td>Kizhuyak Bay</td><td>Kizhuyak, AK</td><td>United States</td><td>US</td><td>Alaska</td><td>AK</td><td>2</td><td>30006</td><td>Kizhuyak, AK</td><td>1</td><td>57</td><td>57.74527778</td><td>152</td><td>-152.88277778</td></tr></tbody></table></div>"
      ]
     },
     "metadata": {
      "application/vnd.databricks.v1+output": {
       "addedWidgets": {},
       "aggData": [],
       "aggError": "",
       "aggOverflow": false,
       "aggSchema": [],
       "aggSeriesLimitReached": false,
       "aggType": "",
       "arguments": {},
       "columnCustomDisplayInfos": {},
       "data": [
        [
         1000101,
         10001,
         "01A",
         "Afognak Lake Airport",
         "Afognak Lake, AK",
         "United States",
         "US",
         "Alaska",
         "AK",
         2,
         30001,
         "Afognak Lake, AK",
         1,
         58,
         58.10944444,
         152,
         -152.90666667
        ],
        [
         1000301,
         10003,
         "03A",
         "Bear Creek Mining Strip",
         "Granite Mountain, AK",
         "United States",
         "US",
         "Alaska",
         "AK",
         2,
         30003,
         "Granite Mountain, AK",
         1,
         65,
         65.54805556,
         161,
         -161.07166667
        ],
        [
         1000401,
         10004,
         "04A",
         "Lik Mining Camp",
         "Lik, AK",
         "United States",
         "US",
         "Alaska",
         "AK",
         2,
         30004,
         "Lik, AK",
         1,
         68,
         68.08333333,
         163,
         -163.16666667
        ],
        [
         1000501,
         10005,
         "05A",
         "Little Squaw Airport",
         "Little Squaw, AK",
         "United States",
         "US",
         "Alaska",
         "AK",
         2,
         30005,
         "Little Squaw, AK",
         1,
         67,
         67.57,
         148,
         -148.18388889
        ],
        [
         1000601,
         10006,
         "06A",
         "Kizhuyak Bay",
         "Kizhuyak, AK",
         "United States",
         "US",
         "Alaska",
         "AK",
         2,
         30006,
         "Kizhuyak, AK",
         1,
         57,
         57.74527778,
         152,
         -152.88277778
        ]
       ],
       "datasetInfos": [],
       "dbfsResultPath": null,
       "isJsonSchema": true,
       "metadata": {},
       "overflow": false,
       "plotOptions": {
        "customPlotOptions": {},
        "displayType": "table",
        "pivotAggregation": null,
        "pivotColumns": null,
        "xColumns": null,
        "yColumns": null
       },
       "removedWidgets": [],
       "schema": [
        {
         "metadata": "{}",
         "name": "AIRPORT_SEQ_ID",
         "type": "\"integer\""
        },
        {
         "metadata": "{}",
         "name": "AIRPORT_ID",
         "type": "\"integer\""
        },
        {
         "metadata": "{}",
         "name": "AIRPORT",
         "type": "\"string\""
        },
        {
         "metadata": "{}",
         "name": "DISPLAY_AIRPORT_NAME",
         "type": "\"string\""
        },
        {
         "metadata": "{}",
         "name": "DISPLAY_AIRPORT_CITY_NAME_FULL",
         "type": "\"string\""
        },
        {
         "metadata": "{}",
         "name": "AIRPORT_COUNTRY_NAME",
         "type": "\"string\""
        },
        {
         "metadata": "{}",
         "name": "AIRPORT_COUNTRY_CODE_ISO",
         "type": "\"string\""
        },
        {
         "metadata": "{}",
         "name": "AIRPORT_STATE_NAME",
         "type": "\"string\""
        },
        {
         "metadata": "{}",
         "name": "AIRPORT_STATE_CODE",
         "type": "\"string\""
        },
        {
         "metadata": "{}",
         "name": "AIRPORT_STATE_FIPS",
         "type": "\"integer\""
        },
        {
         "metadata": "{}",
         "name": "CITY_MARKET_ID",
         "type": "\"integer\""
        },
        {
         "metadata": "{}",
         "name": "DISPLAY_CITY_MARKET_NAME_FULL",
         "type": "\"string\""
        },
        {
         "metadata": "{}",
         "name": "CITY_MARKET_WAC",
         "type": "\"integer\""
        },
        {
         "metadata": "{}",
         "name": "LAT_DEGREES",
         "type": "\"integer\""
        },
        {
         "metadata": "{}",
         "name": "LATITUDE",
         "type": "\"double\""
        },
        {
         "metadata": "{}",
         "name": "LON_DEGREES",
         "type": "\"integer\""
        },
        {
         "metadata": "{}",
         "name": "LONGITUDE",
         "type": "\"double\""
        }
       ],
       "type": "table"
      }
     },
     "output_type": "display_data"
    },
    {
     "data": {
      "text/html": [
       "<style scoped>\n",
       "  .table-result-container {\n",
       "    max-height: 300px;\n",
       "    overflow: auto;\n",
       "  }\n",
       "  table, th, td {\n",
       "    border: 1px solid black;\n",
       "    border-collapse: collapse;\n",
       "  }\n",
       "  th, td {\n",
       "    padding: 5px;\n",
       "  }\n",
       "  th {\n",
       "    text-align: left;\n",
       "  }\n",
       "</style><div class='table-result-container'><table class='table-result'><thead style='background-color: white'><tr><th>Code</th><th>Description</th></tr></thead><tbody><tr><td>02Q</td><td>Titan Airways</td></tr><tr><td>04Q</td><td>Tradewind Aviation</td></tr><tr><td>05Q</td><td>Comlux Aviation, AG</td></tr><tr><td>06Q</td><td>Master Top Linhas Aereas Ltd.</td></tr><tr><td>07Q</td><td>Flair Airlines Ltd.</td></tr></tbody></table></div>"
      ]
     },
     "metadata": {
      "application/vnd.databricks.v1+output": {
       "addedWidgets": {},
       "aggData": [],
       "aggError": "",
       "aggOverflow": false,
       "aggSchema": [],
       "aggSeriesLimitReached": false,
       "aggType": "",
       "arguments": {},
       "columnCustomDisplayInfos": {},
       "data": [
        [
         "02Q",
         "Titan Airways"
        ],
        [
         "04Q",
         "Tradewind Aviation"
        ],
        [
         "05Q",
         "Comlux Aviation, AG"
        ],
        [
         "06Q",
         "Master Top Linhas Aereas Ltd."
        ],
        [
         "07Q",
         "Flair Airlines Ltd."
        ]
       ],
       "datasetInfos": [],
       "dbfsResultPath": null,
       "isJsonSchema": true,
       "metadata": {},
       "overflow": false,
       "plotOptions": {
        "customPlotOptions": {},
        "displayType": "table",
        "pivotAggregation": null,
        "pivotColumns": null,
        "xColumns": null,
        "yColumns": null
       },
       "removedWidgets": [],
       "schema": [
        {
         "metadata": "{}",
         "name": "Code",
         "type": "\"string\""
        },
        {
         "metadata": "{}",
         "name": "Description",
         "type": "\"string\""
        }
       ],
       "type": "table"
      }
     },
     "output_type": "display_data"
    }
   ],
   "source": [
    "pfad_csv = \"/Volumes/workspace/default/flight_data/\"\n",
    "\n",
    "df_airport = spark.read.csv(f\"{pfad_csv}airport_lookup.csv\", header=True, inferSchema=True)\n",
    "df_carrier = spark.read.csv(f\"{pfad_csv}carrier_lookup.csv\", header=True, inferSchema=True)\n",
    "\n",
    "display(df_airport.limit(5).toPandas())\n",
    "display(df_carrier.limit(5).toPandas())\n",
    "df_airport.createOrReplaceTempView(\"airport\")\n",
    "df_carrier.createOrReplaceTempView(\"carrier\")"
   ]
  },
  {
   "cell_type": "code",
   "execution_count": 0,
   "metadata": {
    "application/vnd.databricks.v1+cell": {
     "cellMetadata": {
      "byteLimit": 2048000,
      "rowLimit": 10000
     },
     "inputWidgets": {},
     "nuid": "cba1a374-d225-435f-a429-198827249b19",
     "showTitle": false,
     "tableResultSettingsMap": {},
     "title": ""
    }
   },
   "outputs": [
    {
     "data": {
      "text/html": [
       "<style scoped>\n",
       "  .table-result-container {\n",
       "    max-height: 300px;\n",
       "    overflow: auto;\n",
       "  }\n",
       "  table, th, td {\n",
       "    border: 1px solid black;\n",
       "    border-collapse: collapse;\n",
       "  }\n",
       "  th, td {\n",
       "    padding: 5px;\n",
       "  }\n",
       "  th {\n",
       "    text-align: left;\n",
       "  }\n",
       "</style><div class='table-result-container'><table class='table-result'><thead style='background-color: white'><tr><th>AIRPORT_STATE_NAME</th><th>num_airports</th><th>num_flights</th><th>num_flights_with_delay</th><th>avg_arr_delay</th></tr></thead><tbody><tr><td>Delaware</td><td>1</td><td>94</td><td>54</td><td>29.61904761904762</td></tr><tr><td>Puerto Rico</td><td>3</td><td>156400</td><td>71520</td><td>21.258731711159392</td></tr><tr><td>New Jersey</td><td>3</td><td>277224</td><td>114574</td><td>20.92439697861756</td></tr><tr><td>Florida</td><td>19</td><td>1816917</td><td>766891</td><td>19.410209221066257</td></tr><tr><td>New York</td><td>15</td><td>1674915</td><td>633976</td><td>19.15923752617429</td></tr><tr><td>Massachusetts</td><td>5</td><td>292608</td><td>106655</td><td>18.19946537903846</td></tr><tr><td>Connecticut</td><td>1</td><td>164402</td><td>67389</td><td>17.54810829879178</td></tr><tr><td>Maine</td><td>2</td><td>63778</td><td>23773</td><td>16.876499436675726</td></tr><tr><td>Indiana</td><td>4</td><td>238938</td><td>91024</td><td>16.597709296797337</td></tr><tr><td>Pennsylvania</td><td>9</td><td>578572</td><td>202171</td><td>16.52515629174459</td></tr><tr><td>Virginia</td><td>9</td><td>918263</td><td>337984</td><td>16.413708598677335</td></tr><tr><td>Texas</td><td>26</td><td>3103372</td><td>1096252</td><td>16.41032407127133</td></tr><tr><td>Rhode Island</td><td>1</td><td>91710</td><td>35190</td><td>16.28577260665442</td></tr><tr><td>West Virginia</td><td>4</td><td>30873</td><td>10543</td><td>16.272943302764578</td></tr><tr><td>Nevada</td><td>3</td><td>742829</td><td>313005</td><td>16.23611160892761</td></tr><tr><td>South Dakota</td><td>5</td><td>28008</td><td>9460</td><td>15.912634901989575</td></tr><tr><td>North Dakota</td><td>8</td><td>41311</td><td>13981</td><td>15.81480540595468</td></tr><tr><td>Kentucky</td><td>5</td><td>183438</td><td>67212</td><td>15.644011743664159</td></tr><tr><td>Ohio</td><td>6</td><td>453855</td><td>170862</td><td>15.43952694436886</td></tr><tr><td>Colorado</td><td>11</td><td>662753</td><td>239164</td><td>15.423898132353653</td></tr><tr><td>Illinois</td><td>10</td><td>2294086</td><td>731937</td><td>15.410548816249113</td></tr><tr><td>Vermont</td><td>1</td><td>16432</td><td>5648</td><td>15.333672172808132</td></tr><tr><td>Nebraska</td><td>6</td><td>49986</td><td>19314</td><td>15.173493679198819</td></tr><tr><td>Alabama</td><td>5</td><td>83952</td><td>31808</td><td>15.168834337863888</td></tr><tr><td>Wisconsin</td><td>8</td><td>255064</td><td>95284</td><td>15.141679891089828</td></tr><tr><td>North Carolina</td><td>10</td><td>810901</td><td>269342</td><td>15.057391709196004</td></tr><tr><td>Wyoming</td><td>9</td><td>26130</td><td>8460</td><td>15.054012528069968</td></tr><tr><td>Oklahoma</td><td>4</td><td>95845</td><td>36667</td><td>15.00331161315214</td></tr><tr><td>New Hampshire</td><td>2</td><td>34284</td><td>13585</td><td>14.998930905980817</td></tr><tr><td>Tennessee</td><td>5</td><td>319591</td><td>119142</td><td>14.929303690924131</td></tr><tr><td>Iowa</td><td>7</td><td>149740</td><td>54047</td><td>14.848165749256385</td></tr><tr><td>Michigan</td><td>15</td><td>360894</td><td>111978</td><td>14.83508620371186</td></tr><tr><td>South Carolina</td><td>6</td><td>139937</td><td>50713</td><td>14.692092227857058</td></tr><tr><td>U.S. Virgin Islands</td><td>2</td><td>8930</td><td>3573</td><td>14.67501993393325</td></tr><tr><td>Arizona</td><td>7</td><td>412524</td><td>148289</td><td>14.55634994458518</td></tr><tr><td>Louisiana</td><td>7</td><td>306436</td><td>113486</td><td>14.54569347751941</td></tr><tr><td>Missouri</td><td>8</td><td>425516</td><td>159975</td><td>14.081159152470663</td></tr><tr><td>Minnesota</td><td>8</td><td>266063</td><td>79289</td><td>14.048745525208313</td></tr><tr><td>Maryland</td><td>2</td><td>433294</td><td>165758</td><td>13.722302251544965</td></tr><tr><td>Kansas</td><td>7</td><td>62790</td><td>21661</td><td>13.691403632083953</td></tr><tr><td>Arkansas</td><td>4</td><td>122120</td><td>45311</td><td>13.61924395169738</td></tr><tr><td>New Mexico</td><td>4</td><td>113343</td><td>44855</td><td>13.493879239784492</td></tr><tr><td>U.S. Pacific Trust Territories and Possessions</td><td>3</td><td>2030</td><td>621</td><td>12.594381468703794</td></tr><tr><td>California</td><td>22</td><td>3759345</td><td>1331398</td><td>12.564100012041278</td></tr><tr><td>Georgia</td><td>7</td><td>2287076</td><td>682094</td><td>12.511393718370883</td></tr><tr><td>Hawaii</td><td>5</td><td>450297</td><td>200817</td><td>12.168287144657139</td></tr><tr><td>Mississippi</td><td>5</td><td>66899</td><td>21469</td><td>12.104295228203092</td></tr><tr><td>Montana</td><td>8</td><td>128368</td><td>46346</td><td>11.989035730990906</td></tr><tr><td>Alaska</td><td>20</td><td>206665</td><td>79516</td><td>11.902276707530648</td></tr><tr><td>Oregon</td><td>5</td><td>192103</td><td>69025</td><td>11.564149221742406</td></tr><tr><td>Washington</td><td>9</td><td>610810</td><td>213780</td><td>11.520554557399908</td></tr><tr><td>Idaho</td><td>6</td><td>68418</td><td>23592</td><td>11.47714124662533</td></tr><tr><td>Utah</td><td>7</td><td>352141</td><td>100833</td><td>11.297662920056343</td></tr></tbody></table></div>"
      ]
     },
     "metadata": {
      "application/vnd.databricks.v1+output": {
       "addedWidgets": {},
       "aggData": [],
       "aggError": "",
       "aggOverflow": false,
       "aggSchema": [],
       "aggSeriesLimitReached": false,
       "aggType": "",
       "arguments": {},
       "columnCustomDisplayInfos": {},
       "data": [
        [
         "Delaware",
         1,
         94,
         54,
         29.61904761904762
        ],
        [
         "Puerto Rico",
         3,
         156400,
         71520,
         21.258731711159392
        ],
        [
         "New Jersey",
         3,
         277224,
         114574,
         20.92439697861756
        ],
        [
         "Florida",
         19,
         1816917,
         766891,
         19.410209221066257
        ],
        [
         "New York",
         15,
         1674915,
         633976,
         19.15923752617429
        ],
        [
         "Massachusetts",
         5,
         292608,
         106655,
         18.19946537903846
        ],
        [
         "Connecticut",
         1,
         164402,
         67389,
         17.54810829879178
        ],
        [
         "Maine",
         2,
         63778,
         23773,
         16.876499436675726
        ],
        [
         "Indiana",
         4,
         238938,
         91024,
         16.597709296797337
        ],
        [
         "Pennsylvania",
         9,
         578572,
         202171,
         16.52515629174459
        ],
        [
         "Virginia",
         9,
         918263,
         337984,
         16.413708598677335
        ],
        [
         "Texas",
         26,
         3103372,
         1096252,
         16.41032407127133
        ],
        [
         "Rhode Island",
         1,
         91710,
         35190,
         16.28577260665442
        ],
        [
         "West Virginia",
         4,
         30873,
         10543,
         16.272943302764578
        ],
        [
         "Nevada",
         3,
         742829,
         313005,
         16.23611160892761
        ],
        [
         "South Dakota",
         5,
         28008,
         9460,
         15.912634901989575
        ],
        [
         "North Dakota",
         8,
         41311,
         13981,
         15.81480540595468
        ],
        [
         "Kentucky",
         5,
         183438,
         67212,
         15.644011743664159
        ],
        [
         "Ohio",
         6,
         453855,
         170862,
         15.43952694436886
        ],
        [
         "Colorado",
         11,
         662753,
         239164,
         15.423898132353653
        ],
        [
         "Illinois",
         10,
         2294086,
         731937,
         15.410548816249113
        ],
        [
         "Vermont",
         1,
         16432,
         5648,
         15.333672172808132
        ],
        [
         "Nebraska",
         6,
         49986,
         19314,
         15.173493679198819
        ],
        [
         "Alabama",
         5,
         83952,
         31808,
         15.168834337863888
        ],
        [
         "Wisconsin",
         8,
         255064,
         95284,
         15.141679891089828
        ],
        [
         "North Carolina",
         10,
         810901,
         269342,
         15.057391709196004
        ],
        [
         "Wyoming",
         9,
         26130,
         8460,
         15.054012528069968
        ],
        [
         "Oklahoma",
         4,
         95845,
         36667,
         15.00331161315214
        ],
        [
         "New Hampshire",
         2,
         34284,
         13585,
         14.998930905980817
        ],
        [
         "Tennessee",
         5,
         319591,
         119142,
         14.929303690924131
        ],
        [
         "Iowa",
         7,
         149740,
         54047,
         14.848165749256385
        ],
        [
         "Michigan",
         15,
         360894,
         111978,
         14.83508620371186
        ],
        [
         "South Carolina",
         6,
         139937,
         50713,
         14.692092227857058
        ],
        [
         "U.S. Virgin Islands",
         2,
         8930,
         3573,
         14.67501993393325
        ],
        [
         "Arizona",
         7,
         412524,
         148289,
         14.55634994458518
        ],
        [
         "Louisiana",
         7,
         306436,
         113486,
         14.54569347751941
        ],
        [
         "Missouri",
         8,
         425516,
         159975,
         14.081159152470663
        ],
        [
         "Minnesota",
         8,
         266063,
         79289,
         14.048745525208313
        ],
        [
         "Maryland",
         2,
         433294,
         165758,
         13.722302251544965
        ],
        [
         "Kansas",
         7,
         62790,
         21661,
         13.691403632083953
        ],
        [
         "Arkansas",
         4,
         122120,
         45311,
         13.61924395169738
        ],
        [
         "New Mexico",
         4,
         113343,
         44855,
         13.493879239784492
        ],
        [
         "U.S. Pacific Trust Territories and Possessions",
         3,
         2030,
         621,
         12.594381468703794
        ],
        [
         "California",
         22,
         3759345,
         1331398,
         12.564100012041278
        ],
        [
         "Georgia",
         7,
         2287076,
         682094,
         12.511393718370883
        ],
        [
         "Hawaii",
         5,
         450297,
         200817,
         12.168287144657139
        ],
        [
         "Mississippi",
         5,
         66899,
         21469,
         12.104295228203092
        ],
        [
         "Montana",
         8,
         128368,
         46346,
         11.989035730990906
        ],
        [
         "Alaska",
         20,
         206665,
         79516,
         11.902276707530648
        ],
        [
         "Oregon",
         5,
         192103,
         69025,
         11.564149221742406
        ],
        [
         "Washington",
         9,
         610810,
         213780,
         11.520554557399908
        ],
        [
         "Idaho",
         6,
         68418,
         23592,
         11.47714124662533
        ],
        [
         "Utah",
         7,
         352141,
         100833,
         11.297662920056343
        ]
       ],
       "datasetInfos": [],
       "dbfsResultPath": null,
       "isJsonSchema": true,
       "metadata": {},
       "overflow": false,
       "plotOptions": {
        "customPlotOptions": {},
        "displayType": "table",
        "pivotAggregation": null,
        "pivotColumns": null,
        "xColumns": null,
        "yColumns": null
       },
       "removedWidgets": [],
       "schema": [
        {
         "metadata": "{}",
         "name": "AIRPORT_STATE_NAME",
         "type": "\"string\""
        },
        {
         "metadata": "{}",
         "name": "num_airports",
         "type": "\"long\""
        },
        {
         "metadata": "{}",
         "name": "num_flights",
         "type": "\"long\""
        },
        {
         "metadata": "{}",
         "name": "num_flights_with_delay",
         "type": "\"long\""
        },
        {
         "metadata": "{}",
         "name": "avg_arr_delay",
         "type": "\"double\""
        }
       ],
       "type": "table"
      }
     },
     "output_type": "display_data"
    },
    {
     "name": "stdout",
     "output_type": "stream",
     "text": [
      "Zeit zum Ausführen der SQL-Abfrage 6: 1.9930164813995361 Sekunden\n"
     ]
    }
   ],
   "source": [
    "# Durchschnittliche Abflugverspätung nach Zielort(Airport State)\n",
    "t0 = time.time()\n",
    "ergebnis6 = spark.sql(\"\"\"\n",
    "SELECT\n",
    "      a.AIRPORT_STATE_NAME,\n",
    "      COUNT(DISTINCT Dest) AS num_airports,\n",
    "      COUNT(*) AS num_flights,\n",
    "      COUNT(CASE WHEN ArrDelayMinutes > 0.0 THEN 1 END) AS num_flights_with_delay,\n",
    "      AVG(ArrDelayMinutes) as avg_arr_delay\n",
    "    FROM flights f\n",
    "    JOIN airport a\n",
    "    ON f.Dest = a.AIRPORT\n",
    "    WHERE a.AIRPORT_STATE_NAME IS NOT NULL\n",
    "    GROUP BY a.AIRPORT_STATE_NAME\n",
    "    ORDER BY avg_arr_delay DESC\n",
    "\"\"\")\n",
    "display(ergebnis6.toPandas())\n",
    "t1 = time.time()\n",
    "tsql6 = t1 - t0\n",
    "print(f\"Zeit zum Ausführen der SQL-Abfrage 6: {t1 - t0} Sekunden\")"
   ]
  },
  {
   "cell_type": "code",
   "execution_count": 0,
   "metadata": {
    "application/vnd.databricks.v1+cell": {
     "cellMetadata": {
      "byteLimit": 2048000,
      "rowLimit": 10000
     },
     "inputWidgets": {},
     "nuid": "0b61745d-acc9-4346-a1d9-3637ed4f1f08",
     "showTitle": false,
     "tableResultSettingsMap": {},
     "title": ""
    }
   },
   "outputs": [
    {
     "data": {
      "text/html": [
       "<style scoped>\n",
       "  .table-result-container {\n",
       "    max-height: 300px;\n",
       "    overflow: auto;\n",
       "  }\n",
       "  table, th, td {\n",
       "    border: 1px solid black;\n",
       "    border-collapse: collapse;\n",
       "  }\n",
       "  th, td {\n",
       "    padding: 5px;\n",
       "  }\n",
       "  th {\n",
       "    text-align: left;\n",
       "  }\n",
       "</style><div class='table-result-container'><table class='table-result'><thead style='background-color: white'><tr><th>Origin</th><th>Dest</th><th>avg_arr_delay</th></tr></thead><tbody><tr><td>IAH</td><td>PHX</td><td>2.670653566851773</td></tr><tr><td>MAF</td><td>PHX</td><td>12.505714285714285</td></tr><tr><td>DAL</td><td>VPS</td><td>5.463806970509383</td></tr><tr><td>IAH</td><td>LAX</td><td>1.5866388308977035</td></tr><tr><td>IAH</td><td>SFO</td><td>-1.5690843452576304</td></tr><tr><td>DFW</td><td>AVL</td><td>3.209621993127148</td></tr><tr><td>IAH</td><td>BNA</td><td>3.0856751199451677</td></tr><tr><td>DAL</td><td>BHM</td><td>15.506607929515418</td></tr><tr><td>HOU</td><td>ONT</td><td>-1.6610169491525424</td></tr><tr><td>AMA</td><td>DEN</td><td>7.272912423625255</td></tr><tr><td>ELP</td><td>LAX</td><td>-2.9782244556113904</td></tr><tr><td>DAL</td><td>MEM</td><td>12.60983606557377</td></tr><tr><td>DFW</td><td>AGS</td><td>11.596446700507615</td></tr><tr><td>DFW</td><td>STL</td><td>13.599386816555953</td></tr><tr><td>ELP</td><td>SAN</td><td>5.042328042328043</td></tr><tr><td>AUS</td><td>VPS</td><td>9.65</td></tr><tr><td>AUS</td><td>RNO</td><td>25.268817204301076</td></tr><tr><td>IAH</td><td>JAC</td><td>5.889763779527559</td></tr><tr><td>IAH</td><td>AEX</td><td>-5.072727272727272</td></tr><tr><td>HOU</td><td>SAV</td><td>9.037037037037036</td></tr><tr><td>SAT</td><td>DEN</td><td>3.4035357417371253</td></tr><tr><td>IAH</td><td>STL</td><td>3.1358839050131926</td></tr><tr><td>DFW</td><td>SBA</td><td>11.369085173501578</td></tr><tr><td>MAF</td><td>DEN</td><td>6.368941641938674</td></tr><tr><td>IAH</td><td>GSP</td><td>0.6412429378531074</td></tr><tr><td>IAH</td><td>IAD</td><td>5.03657780533168</td></tr><tr><td>HOU</td><td>RNO</td><td>48.5</td></tr><tr><td>HOU</td><td>MDW</td><td>9.654783125371361</td></tr><tr><td>AUS</td><td>DTW</td><td>2.7541371158392436</td></tr><tr><td>DAL</td><td>STL</td><td>9.84864546525324</td></tr><tr><td>AUS</td><td>PHL</td><td>17.96759941089838</td></tr><tr><td>DFW</td><td>CID</td><td>16.713852376137513</td></tr><tr><td>AUS</td><td>AVL</td><td>18.67924528301887</td></tr><tr><td>DAL</td><td>ORD</td><td>4.3932926829268295</td></tr><tr><td>AUS</td><td>MCI</td><td>5.297692307692308</td></tr><tr><td>DFW</td><td>STS</td><td>6.301939058171745</td></tr><tr><td>LBB</td><td>DEN</td><td>-0.38108882521489973</td></tr><tr><td>IAH</td><td>VPS</td><td>5.7727272727272725</td></tr><tr><td>DFW</td><td>CAE</td><td>8.69276393831554</td></tr><tr><td>DFW</td><td>PHX</td><td>11.870503597122303</td></tr><tr><td>DAL</td><td>SEA</td><td>4.54985754985755</td></tr><tr><td>AUS</td><td>MDW</td><td>7.412031047865459</td></tr><tr><td>IAH</td><td>MSY</td><td>2.9432</td></tr><tr><td>IAH</td><td>MEM</td><td>7.581993569131833</td></tr><tr><td>IAH</td><td>BHM</td><td>5.621983914209116</td></tr><tr><td>IAH</td><td>SDF</td><td>0.10144927536231885</td></tr><tr><td>AUS</td><td>FLL</td><td>13.878682842287695</td></tr><tr><td>SAT</td><td>PHL</td><td>-5.113207547169812</td></tr><tr><td>DAL</td><td>ONT</td><td>3.8333333333333335</td></tr><tr><td>IAH</td><td>ABQ</td><td>5.525252525252525</td></tr><tr><td>DFW</td><td>DSM</td><td>15.188762071992976</td></tr><tr><td>DFW</td><td>LAS</td><td>14.755125070528493</td></tr><tr><td>HOU</td><td>LGB</td><td>1.1488970588235294</td></tr><tr><td>DFW</td><td>LAW</td><td>7.288043478260869</td></tr><tr><td>IAH</td><td>RDU</td><td>3.763265306122449</td></tr><tr><td>IAH</td><td>ORF</td><td>4.532951289398281</td></tr><tr><td>HRL</td><td>ORD</td><td>35.23529411764706</td></tr><tr><td>DFW</td><td>MEM</td><td>18.096580406654343</td></tr><tr><td>DFW</td><td>ATL</td><td>8.827044025157234</td></tr><tr><td>IAH</td><td>PBI</td><td>16.274111675126903</td></tr><tr><td>DFW</td><td>TLH</td><td>9.31030150753769</td></tr><tr><td>ELP</td><td>MCO</td><td>23.510416666666668</td></tr><tr><td>AUS</td><td>BOI</td><td>5.175257731958763</td></tr><tr><td>DFW</td><td>SFO</td><td>12.79943942696979</td></tr><tr><td>IAH</td><td>FLL</td><td>5.835154394299288</td></tr><tr><td>DFW</td><td>MSP</td><td>12.182364729458918</td></tr><tr><td>IAH</td><td>ASE</td><td>19.00383877159309</td></tr><tr><td>DFW</td><td>BMI</td><td>18.823088455772115</td></tr><tr><td>DFW</td><td>CVG</td><td>13.581504702194357</td></tr><tr><td>HOU</td><td>LGA</td><td>8.501022494887525</td></tr><tr><td>AUS</td><td>SJC</td><td>3.059927797833935</td></tr><tr><td>AUS</td><td>SMF</td><td>9.018735362997658</td></tr><tr><td>DFW</td><td>GSP</td><td>10.372465314834578</td></tr><tr><td>DFW</td><td>SBN</td><td>14.58485639686684</td></tr><tr><td>IAH</td><td>BZN</td><td>4.272058823529412</td></tr><tr><td>AUS</td><td>FSD</td><td>1.8764044943820224</td></tr><tr><td>AUS</td><td>MEM</td><td>12.928571428571429</td></tr><tr><td>DFW</td><td>LFT</td><td>12.05273566249176</td></tr><tr><td>HOU</td><td>GSP</td><td>6.566666666666666</td></tr><tr><td>AMA</td><td>AZA</td><td>5.2727272727272725</td></tr><tr><td>DFW</td><td>LAX</td><td>6.72031324916094</td></tr><tr><td>AUS</td><td>PHX</td><td>15.01353328456474</td></tr><tr><td>DAL</td><td>MCI</td><td>6.302693208430913</td></tr><tr><td>IAH</td><td>MCO</td><td>7.556723255187281</td></tr><tr><td>DFW</td><td>GRR</td><td>17.88654060066741</td></tr><tr><td>AUS</td><td>LAS</td><td>11.879304897314375</td></tr><tr><td>DFW</td><td>SHV</td><td>8.295704845814978</td></tr><tr><td>HOU</td><td>AVL</td><td>7.976470588235294</td></tr><tr><td>DAL</td><td>LIT</td><td>13.583046964490263</td></tr><tr><td>SAT</td><td>SFO</td><td>-10.82967032967033</td></tr><tr><td>DFW</td><td>RAP</td><td>16.962073324905184</td></tr><tr><td>IAH</td><td>GRR</td><td>0.33433734939759036</td></tr><tr><td>HOU</td><td>LEX</td><td>13.375</td></tr><tr><td>IAH</td><td>SJC</td><td>-1.3361581920903955</td></tr><tr><td>DAL</td><td>MSP</td><td>41.892857142857146</td></tr><tr><td>DAL</td><td>MTJ</td><td>22.76</td></tr><tr><td>SAT</td><td>MSP</td><td>6.631884057971014</td></tr><tr><td>DAL</td><td>PIT</td><td>1.4350649350649352</td></tr><tr><td>AUS</td><td>JFK</td><td>12.302140159462862</td></tr><tr><td>DFW</td><td>EWR</td><td>14.607567229518448</td></tr><tr><td>AUS</td><td>MSP</td><td>4.270739064856712</td></tr><tr><td>HOU</td><td>ATL</td><td>3.1226568867155664</td></tr><tr><td>DFW</td><td>MHK</td><td>2.1414634146341465</td></tr><tr><td>DFW</td><td>TYS</td><td>18.00477326968974</td></tr><tr><td>HRL</td><td>LAS</td><td>-2.8461538461538463</td></tr><tr><td>HOU</td><td>PNS</td><td>10.928374655647383</td></tr><tr><td>HOU</td><td>CVG</td><td>-3.417910447761194</td></tr><tr><td>DFW</td><td>OKC</td><td>9.29491133384734</td></tr><tr><td>DFW</td><td>ILM</td><td>17.817535545023695</td></tr><tr><td>IAH</td><td>DTW</td><td>7.498164014687882</td></tr><tr><td>AUS</td><td>ABQ</td><td>6.869458128078818</td></tr><tr><td>IAH</td><td>CHS</td><td>0.4651685393258427</td></tr><tr><td>AUS</td><td>EWR</td><td>14.479468599033817</td></tr><tr><td>AUS</td><td>IND</td><td>5.587102983638114</td></tr><tr><td>AUS</td><td>SEA</td><td>1.987111892208553</td></tr><tr><td>HOU</td><td>FLL</td><td>6.887396694214876</td></tr><tr><td>DFW</td><td>IND</td><td>12.794321329639889</td></tr><tr><td>DFW</td><td>MDW</td><td>14.282786885245901</td></tr><tr><td>IAH</td><td>SRQ</td><td>31.484536082474225</td></tr><tr><td>DFW</td><td>FAR</td><td>17.642857142857142</td></tr><tr><td>DFW</td><td>GRI</td><td>6.084507042253521</td></tr><tr><td>DFW</td><td>SDF</td><td>19.837045720984758</td></tr><tr><td>HOU</td><td>BNA</td><td>4.156295224312591</td></tr><tr><td>HOU</td><td>TUL</td><td>7.8763197586727</td></tr><tr><td>DFW</td><td>TXK</td><td>1.310246679316888</td></tr><tr><td>SAT</td><td>SAN</td><td>4.544692737430168</td></tr><tr><td>IAH</td><td>BOI</td><td>4.843575418994414</td></tr><tr><td>DFW</td><td>BTR</td><td>6.508875739644971</td></tr><tr><td>HOU</td><td>XNA</td><td>6.357142857142857</td></tr><tr><td>ELP</td><td>DEN</td><td>6.939971751412429</td></tr><tr><td>DFW</td><td>MCI</td><td>14.000891265597147</td></tr><tr><td>DAL</td><td>IND</td><td>11.486899563318778</td></tr><tr><td>DAL</td><td>TPA</td><td>12.778673835125447</td></tr><tr><td>IAH</td><td>TUS</td><td>1.5477272727272726</td></tr><tr><td>SAT</td><td>TPA</td><td>6.944927536231884</td></tr><tr><td>AUS</td><td>SFB</td><td>21.1375</td></tr><tr><td>IAH</td><td>SNA</td><td>-1.814327485380117</td></tr><tr><td>DAL</td><td>MCO</td><td>14.278557114228457</td></tr><tr><td>AMA</td><td>LAS</td><td>6.735897435897436</td></tr><tr><td>IAH</td><td>HNL</td><td>5.9532967032967035</td></tr><tr><td>DFW</td><td>VPS</td><td>16.105605199025185</td></tr><tr><td>IAH</td><td>STT</td><td>-1.1900452488687783</td></tr><tr><td>DFW</td><td>JFK</td><td>6.407075236671649</td></tr><tr><td>AUS</td><td>MCO</td><td>15.219944816712653</td></tr><tr><td>IAH</td><td>SAN</td><td>-2.3170119271814187</td></tr><tr><td>DAL</td><td>FLL</td><td>8.665066026410564</td></tr><tr><td>AUS</td><td>TUL</td><td>7.934595524956971</td></tr><tr><td>HOU</td><td>PHX</td><td>8.2905317769131</td></tr><tr><td>HOU</td><td>RSW</td><td>12.35135135135135</td></tr><tr><td>DFW</td><td>SGU</td><td>8.932142857142857</td></tr><tr><td>HOU</td><td>DSM</td><td>36.67567567567568</td></tr><tr><td>DFW</td><td>SLC</td><td>12.015849721162313</td></tr><tr><td>IAH</td><td>MKE</td><td>6.566197183098591</td></tr><tr><td>DAL</td><td>MIA</td><td>11.670194003527337</td></tr><tr><td>DAL</td><td>BUR</td><td>5.906103286384977</td></tr><tr><td>AUS</td><td>MSY</td><td>8.427853192559075</td></tr><tr><td>DFW</td><td>SEA</td><td>8.949295774647887</td></tr><tr><td>DFW</td><td>ECP</td><td>24.245406824146983</td></tr><tr><td>SAT</td><td>COS</td><td>30.94736842105263</td></tr><tr><td>DFW</td><td>DAY</td><td>7.407045009784736</td></tr><tr><td>SAT</td><td>ATL</td><td>2.0298562476962774</td></tr><tr><td>SAT</td><td>PHX</td><td>3.9140070921985815</td></tr><tr><td>AUS</td><td>CHS</td><td>11.278409090909092</td></tr><tr><td>LBB</td><td>LAS</td><td>6.87603305785124</td></tr><tr><td>IAH</td><td>LGA</td><td>6.5361947469570785</td></tr><tr><td>ELP</td><td>ORD</td><td>5.659685863874346</td></tr><tr><td>AUS</td><td>PGD</td><td>20.074074074074073</td></tr><tr><td>DAL</td><td>SDF</td><td>-1.5466666666666666</td></tr><tr><td>DAL</td><td>SNA</td><td>8.26647564469914</td></tr><tr><td>DAL</td><td>TUL</td><td>6.177951388888889</td></tr><tr><td>DAL</td><td>RDU</td><td>10.488505747126437</td></tr><tr><td>AUS</td><td>SAN</td><td>9.277431720172496</td></tr><tr><td>IAH</td><td>OKC</td><td>11.2534504391468</td></tr><tr><td>HOU</td><td>AZA</td><td>26.563106796116504</td></tr><tr><td>HOU</td><td>SRQ</td><td>7.709375</td></tr><tr><td>DAL</td><td>DEN</td><td>7.826950867052023</td></tr><tr><td>DFW</td><td>FSD</td><td>19.502487562189053</td></tr><tr><td>DFW</td><td>TPA</td><td>15.308829404714343</td></tr><tr><td>DFW</td><td>HSV</td><td>13.297885196374622</td></tr><tr><td>AUS</td><td>PBI</td><td>-6.190476190476191</td></tr><tr><td>MFE</td><td>SFB</td><td>15.392156862745098</td></tr><tr><td>AUS</td><td>ATL</td><td>2.728445908841296</td></tr><tr><td>MFE</td><td>LAS</td><td>19.07207207207207</td></tr><tr><td>DFW</td><td>TVC</td><td>12.167883211678832</td></tr><tr><td>DFW</td><td>GSO</td><td>9.870699881376037</td></tr><tr><td>ELP</td><td>PHX</td><td>7.512126111560226</td></tr><tr><td>AUS</td><td>CVG</td><td>5.977664974619289</td></tr><tr><td>DAL</td><td>PSP</td><td>11.090909090909092</td></tr><tr><td>SAT</td><td>FLL</td><td>17.071428571428573</td></tr><tr><td>IAH</td><td>RIC</td><td>11.292134831460674</td></tr><tr><td>MFE</td><td>LAX</td><td>31.217391304347824</td></tr><tr><td>DAL</td><td>PNS</td><td>4.942355889724311</td></tr><tr><td>HOU</td><td>PIT</td><td>17.9</td></tr><tr><td>IAH</td><td>EGE</td><td>-1.5980392156862746</td></tr><tr><td>DFW</td><td>CHS</td><td>18.79941291585127</td></tr><tr><td>DAL</td><td>SJC</td><td>5.851602023608769</td></tr><tr><td>DFW</td><td>XNA</td><td>9.617299061607508</td></tr><tr><td>IAH</td><td>MDW</td><td>6.6129518072289155</td></tr><tr><td>DFW</td><td>MTJ</td><td>2.959527824620573</td></tr><tr><td>AUS</td><td>OKC</td><td>4.707831325301205</td></tr><tr><td>DFW</td><td>SAF</td><td>10.152121697357886</td></tr><tr><td>DFW</td><td>TUL</td><td>10.558347529812606</td></tr><tr><td>DFW</td><td>GUC</td><td>3.791304347826087</td></tr><tr><td>DFW</td><td>PNS</td><td>22.043884892086332</td></tr><tr><td>HOU</td><td>TYS</td><td>20.829545454545453</td></tr><tr><td>DFW</td><td>LGA</td><td>9.527846636919518</td></tr><tr><td>IAH</td><td>ANC</td><td>7.189473684210526</td></tr><tr><td>HOU</td><td>ABQ</td><td>5.89792899408284</td></tr><tr><td>HOU</td><td>SNA</td><td>3.0325581395348835</td></tr><tr><td>IAH</td><td>CMH</td><td>10.17123287671233</td></tr><tr><td>DAL</td><td>SRQ</td><td>13.33838383838384</td></tr><tr><td>HOU</td><td>SMF</td><td>7.607773851590106</td></tr><tr><td>DAL</td><td>RNO</td><td>21.962962962962962</td></tr><tr><td>IAH</td><td>CLE</td><td>5.5102669404517455</td></tr><tr><td>DFW</td><td>FAY</td><td>11.715942028985507</td></tr><tr><td>DFW</td><td>ONT</td><td>12.383554376657825</td></tr><tr><td>AUS</td><td>BWI</td><td>6.089500860585198</td></tr><tr><td>IAH</td><td>MTJ</td><td>4.27319587628866</td></tr><tr><td>DAL</td><td>OMA</td><td>6.56980056980057</td></tr><tr><td>DFW</td><td>GNV</td><td>9.917737789203084</td></tr><tr><td>AUS</td><td>JAX</td><td>14.344729344729345</td></tr><tr><td>DFW</td><td>DTW</td><td>6.6538588936734016</td></tr><tr><td>HOU</td><td>PVU</td><td>14.434343434343434</td></tr><tr><td>HOU</td><td>CHS</td><td>5.35</td></tr><tr><td>IAH</td><td>COS</td><td>2.0944527736131935</td></tr><tr><td>DAL</td><td>LGB</td><td>4.405714285714286</td></tr><tr><td>DAL</td><td>JAX</td><td>26.88888888888889</td></tr><tr><td>IAH</td><td>EWR</td><td>12.772306855277476</td></tr><tr><td>DFW</td><td>MCO</td><td>19.19961380642047</td></tr><tr><td>IAH</td><td>PIT</td><td>3.7540816326530613</td></tr><tr><td>AUS</td><td>STL</td><td>3.0402975821450715</td></tr><tr><td>DFW</td><td>FLG</td><td>4.080578512396694</td></tr><tr><td>AUS</td><td>OAK</td><td>7.360110803324099</td></tr><tr><td>DAL</td><td>PHL</td><td>9.157894736842104</td></tr><tr><td>DFW</td><td>BHM</td><td>15.406928948913682</td></tr><tr><td>DAL</td><td>HDN</td><td>8.52</td></tr><tr><td>HOU</td><td>SAN</td><td>2.8461538461538463</td></tr><tr><td>DAL</td><td>LAS</td><td>8.223766171538093</td></tr><tr><td>HOU</td><td>JAN</td><td>6.275275275275275</td></tr><tr><td>IAH</td><td>RSW</td><td>5.513468013468014</td></tr><tr><td>AUS</td><td>SNA</td><td>16.425619834710744</td></tr><tr><td>AUS</td><td>IAD</td><td>4.236634531113059</td></tr><tr><td>DFW</td><td>MLU</td><td>2.437439379243453</td></tr><tr><td>IAH</td><td>MSP</td><td>6.231096408317581</td></tr><tr><td>SAT</td><td>MIA</td><td>10.757174392935982</td></tr><tr><td>HOU</td><td>COS</td><td>38.84615384615385</td></tr><tr><td>HOU</td><td>BUR</td><td>-0.21875</td></tr><tr><td>HOU</td><td>LAX</td><td>5.35889872173058</td></tr><tr><td>DFW</td><td>SAN</td><td>15.712050599201065</td></tr><tr><td>IAH</td><td>LCH</td><td>7.65625</td></tr><tr><td>AUS</td><td>GRR</td><td>28.944444444444443</td></tr><tr><td>IAH</td><td>HOB</td><td>8.092391304347826</td></tr><tr><td>IAH</td><td>DCA</td><td>3.9131161236424394</td></tr><tr><td>HOU</td><td>OAK</td><td>3.449300699300699</td></tr><tr><td>AUS</td><td>PVU</td><td>3.9494949494949494</td></tr><tr><td>DFW</td><td>EVV</td><td>7.507042253521127</td></tr><tr><td>HOU</td><td>BHM</td><td>11.232876712328768</td></tr><tr><td>SAT</td><td>MSY</td><td>0.8342696629213483</td></tr><tr><td>IAH</td><td>SMF</td><td>-0.059278350515463915</td></tr><tr><td>SAT</td><td>DTW</td><td>1.771014492753623</td></tr><tr><td>IAH</td><td>LFT</td><td>1.4015748031496063</td></tr><tr><td>AUS</td><td>XNA</td><td>6.333333333333333</td></tr><tr><td>HOU</td><td>DCA</td><td>3.694864048338369</td></tr><tr><td>DFW</td><td>JAN</td><td>8.092248908296943</td></tr><tr><td>DFW</td><td>SGF</td><td>6.903829029385574</td></tr><tr><td>DFW</td><td>PHL</td><td>12.210384356035064</td></tr><tr><td>IAH</td><td>ICT</td><td>15.281899109792285</td></tr><tr><td>AUS</td><td>SFO</td><td>1.072651550208237</td></tr><tr><td>DFW</td><td>BUF</td><td>26.706572769953052</td></tr><tr><td>IAH</td><td>MEI</td><td>-5.381062355658199</td></tr><tr><td>IAH</td><td>TUL</td><td>6.876769358867611</td></tr><tr><td>SAT</td><td>BWI</td><td>5.350089766606822</td></tr><tr><td>DFW</td><td>BOI</td><td>4.967234600262123</td></tr><tr><td>DFW</td><td>IDA</td><td>16.38748137108793</td></tr><tr><td>HOU</td><td>HDN</td><td>56.0</td></tr><tr><td>IAH</td><td>BWI</td><td>2.671669793621013</td></tr><tr><td>DFW</td><td>MSO</td><td>3.4413793103448276</td></tr><tr><td>DFW</td><td>GPT</td><td>12.859852476290833</td></tr><tr><td>DAL</td><td>LAX</td><td>8.057437407952872</td></tr><tr><td>AUS</td><td>CMH</td><td>1.7285714285714286</td></tr><tr><td>DFW</td><td>COS</td><td>15.075898030127462</td></tr><tr><td>DAL</td><td>SAN</td><td>4.133393829401089</td></tr><tr><td>DFW</td><td>MYR</td><td>3.6507936507936507</td></tr><tr><td>DFW</td><td>BTV</td><td>0.8024691358024691</td></tr><tr><td>HOU</td><td>SJC</td><td>-0.45045045045045046</td></tr><tr><td>HOU</td><td>DTW</td><td>13.744186046511627</td></tr><tr><td>DAL</td><td>BNA</td><td>6.579710144927536</td></tr><tr><td>HOU</td><td>MKE</td><td>19.072727272727274</td></tr><tr><td>DFW</td><td>PDX</td><td>11.845439650464227</td></tr><tr><td>ELP</td><td>ATL</td><td>-3.1379800853485063</td></tr><tr><td>DAL</td><td>MDW</td><td>10.356164383561644</td></tr><tr><td>AUS</td><td>PSP</td><td>6.61875</td></tr><tr><td>IAH</td><td>HDN</td><td>-8.198019801980198</td></tr><tr><td>DFW</td><td>OMA</td><td>10.836321122369446</td></tr><tr><td>AUS</td><td>DCA</td><td>6.629737609329446</td></tr><tr><td>DFW</td><td>BIS</td><td>11.5</td></tr><tr><td>DAL</td><td>ABQ</td><td>6.885947046843177</td></tr><tr><td>SAT</td><td>BNA</td><td>0.8338235294117647</td></tr><tr><td>DFW</td><td>LIT</td><td>7.950189953566906</td></tr><tr><td>HOU</td><td>MCO</td><td>9.596280087527353</td></tr><tr><td>HOU</td><td>BWI</td><td>6.918714555765596</td></tr><tr><td>DAL</td><td>RSW</td><td>22.39047619047619</td></tr><tr><td>HOU</td><td>MIA</td><td>12.85544373284538</td></tr><tr><td>DFW</td><td>TRI</td><td>10.019047619047619</td></tr><tr><td>DFW</td><td>PIA</td><td>24.119335347432024</td></tr><tr><td>HOU</td><td>MTJ</td><td>44.0</td></tr><tr><td>DAL</td><td>PDX</td><td>29.785714285714285</td></tr><tr><td>HOU</td><td>SLC</td><td>3.1768115942028987</td></tr><tr><td>HOU</td><td>TUS</td><td>4.065359477124183</td></tr><tr><td>IAH</td><td>CLT</td><td>8.269019248395967</td></tr><tr><td>DFW</td><td>IAD</td><td>8.915196743554953</td></tr><tr><td>DFW</td><td>CSG</td><td>5.693181818181818</td></tr><tr><td>IAH</td><td>DEN</td><td>5.667926029031617</td></tr><tr><td>DAL</td><td>PHX</td><td>6.837616822429907</td></tr><tr><td>AUS</td><td>DSM</td><td>19.752380952380953</td></tr><tr><td>DFW</td><td>COU</td><td>11.125</td></tr><tr><td>AUS</td><td>BNA</td><td>4.583122362869198</td></tr><tr><td>IAH</td><td>LIT</td><td>1.2438271604938271</td></tr><tr><td>IAH</td><td>JAX</td><td>1.8548185231539425</td></tr><tr><td>DAL</td><td>DCA</td><td>10.311526479750778</td></tr><tr><td>HOU</td><td>SDF</td><td>6.005405405405406</td></tr><tr><td>HRL</td><td>MCO</td><td>28.84</td></tr><tr><td>HOU</td><td>OMA</td><td>3.7598870056497176</td></tr><tr><td>DAL</td><td>ATL</td><td>5.527662296130477</td></tr><tr><td>AUS</td><td>LGB</td><td>6.247588424437299</td></tr><tr><td>DFW</td><td>YUM</td><td>13.194805194805195</td></tr><tr><td>DFW</td><td>SWO</td><td>0.29929078014184396</td></tr><tr><td>DFW</td><td>FLL</td><td>10.135157207023274</td></tr><tr><td>DFW</td><td>ASE</td><td>14.019955654101995</td></tr><tr><td>IAH</td><td>ORD</td><td>3.956766917293233</td></tr><tr><td>IAH</td><td>EYW</td><td>22.928571428571427</td></tr><tr><td>DFW</td><td>BOS</td><td>10.282342121397916</td></tr><tr><td>DFW</td><td>MDT</td><td>32.69005847953216</td></tr><tr><td>IAH</td><td>MOB</td><td>7.566265060240964</td></tr><tr><td>DAL</td><td>BZN</td><td>-1.1428571428571428</td></tr><tr><td>DFW</td><td>CHA</td><td>5.745531019978969</td></tr><tr><td>DFW</td><td>MRY</td><td>1.9306260575296108</td></tr><tr><td>DFW</td><td>MOB</td><td>12.448683015440508</td></tr><tr><td>DFW</td><td>MSY</td><td>16.129576306046893</td></tr><tr><td>SAT</td><td>LAX</td><td>3.1690997566909975</td></tr><tr><td>DFW</td><td>DEN</td><td>11.305114296784192</td></tr><tr><td>SAT</td><td>EWR</td><td>10.448430493273543</td></tr><tr><td>IAH</td><td>SHV</td><td>30.0</td></tr><tr><td>HOU</td><td>MCI</td><td>6.605263157894737</td></tr><tr><td>DFW</td><td>DAB</td><td>1.3608247422680413</td></tr><tr><td>AUS</td><td>SLC</td><td>5.843163538873995</td></tr><tr><td>DAL</td><td>ECP</td><td>13.816806722689076</td></tr><tr><td>HOU</td><td>SJU</td><td>16.863636363636363</td></tr><tr><td>IAH</td><td>ATL</td><td>4.585600375234522</td></tr><tr><td>DFW</td><td>ORD</td><td>6.967101635728726</td></tr><tr><td>AUS</td><td>SDF</td><td>11.851063829787234</td></tr><tr><td>IAH</td><td>DSM</td><td>4.831460674157303</td></tr><tr><td>DAL</td><td>SFO</td><td>2.0568181818181817</td></tr><tr><td>DAL</td><td>OAK</td><td>3.5749185667752443</td></tr><tr><td>IAH</td><td>BTR</td><td>12.374517374517374</td></tr><tr><td>IAH</td><td>ONT</td><td>11.95945945945946</td></tr><tr><td>DFW</td><td>SBP</td><td>7.868181818181818</td></tr><tr><td>HOU</td><td>MSP</td><td>14.363636363636363</td></tr><tr><td>DFW</td><td>GJT</td><td>5.006776379477251</td></tr><tr><td>HOU</td><td>DEN</td><td>2.036363636363636</td></tr><tr><td>IAH</td><td>MIA</td><td>10.318881558278354</td></tr><tr><td>IAH</td><td>GUC</td><td>2.065040650406504</td></tr><tr><td>AUS</td><td>SRQ</td><td>3.772727272727273</td></tr><tr><td>AUS</td><td>LAX</td><td>7.677456916627853</td></tr><tr><td>AUS</td><td>TPA</td><td>13.69778117827085</td></tr><tr><td>SAT</td><td>MCO</td><td>13.088741721854305</td></tr><tr><td>AUS</td><td>ORD</td><td>6.340845070422535</td></tr><tr><td>AUS</td><td>BUR</td><td>11.039627039627039</td></tr><tr><td>DAL</td><td>MSY</td><td>9.74376731301939</td></tr><tr><td>HOU</td><td>ECP</td><td>4.612648221343873</td></tr><tr><td>IAH</td><td>PNS</td><td>14.096551724137932</td></tr><tr><td>HOU</td><td>LAS</td><td>9.979833926453143</td></tr><tr><td>SAT</td><td>STL</td><td>-1.558904109589041</td></tr><tr><td>DAL</td><td>BWI</td><td>11.753956834532374</td></tr><tr><td>DAL</td><td>MKE</td><td>10.91764705882353</td></tr><tr><td>IAH</td><td>SEA</td><td>2.9422066549912436</td></tr><tr><td>IAH</td><td>PHL</td><td>4.163722025912839</td></tr><tr><td>SAT</td><td>SLC</td><td>1.080392156862745</td></tr><tr><td>HOU</td><td>CMH</td><td>9.846625766871165</td></tr><tr><td>AUS</td><td>HNL</td><td>60.148387096774194</td></tr><tr><td>IAH</td><td>LAS</td><td>5.12183115924194</td></tr><tr><td>SAT</td><td>ORD</td><td>3.2225237449118045</td></tr><tr><td>DFW</td><td>ROW</td><td>6.443793911007026</td></tr><tr><td>AUS</td><td>TYS</td><td>24.841463414634145</td></tr><tr><td>DAL</td><td>COS</td><td>4.529411764705882</td></tr><tr><td>DFW</td><td>HHH</td><td>5.588235294117647</td></tr><tr><td>DFW</td><td>LEX</td><td>3.7385272145144075</td></tr><tr><td>DAL</td><td>CHS</td><td>9.622222222222222</td></tr><tr><td>AUS</td><td>ECP</td><td>11.88</td></tr><tr><td>DFW</td><td>LCH</td><td>2.165067178502879</td></tr><tr><td>HOU</td><td>MSY</td><td>4.872228088701162</td></tr><tr><td>AUS</td><td>PIT</td><td>12.342857142857143</td></tr><tr><td>HOU</td><td>OKC</td><td>7.177552897884085</td></tr><tr><td>HOU</td><td>BOS</td><td>-1.1111111111111112</td></tr><tr><td>DFW</td><td>GCK</td><td>5.593172119487909</td></tr><tr><td>DFW</td><td>BIL</td><td>1.994106090373281</td></tr><tr><td>DFW</td><td>BWI</td><td>10.591836734693878</td></tr><tr><td>AUS</td><td>PDX</td><td>6.039145907473309</td></tr><tr><td>DFW</td><td>SAV</td><td>14.86845466155811</td></tr><tr><td>DFW</td><td>LGB</td><td>6.314814814814815</td></tr><tr><td>DFW</td><td>AEX</td><td>3.3588516746411483</td></tr><tr><td>SAT</td><td>OKC</td><td>-4.817391304347826</td></tr><tr><td>DFW</td><td>BNA</td><td>13.859913793103448</td></tr><tr><td>AUS</td><td>ASE</td><td>25.34285714285714</td></tr><tr><td>AUS</td><td>RDU</td><td>10.051221434200158</td></tr><tr><td>DFW</td><td>ICT</td><td>13.390873015873016</td></tr><tr><td>IAH</td><td>SAV</td><td>6.558758314855876</td></tr><tr><td>HOU</td><td>STL</td><td>5.035528596187175</td></tr><tr><td>DFW</td><td>MIA</td><td>13.818359375</td></tr><tr><td>LRD</td><td>LAS</td><td>31.28301886792453</td></tr><tr><td>DFW</td><td>CMH</td><td>15.891808346213292</td></tr><tr><td>IAH</td><td>RNO</td><td>2.218867924528302</td></tr><tr><td>DFW</td><td>FWA</td><td>17.220052083333332</td></tr><tr><td>AUS</td><td>SGF</td><td>39.57142857142857</td></tr><tr><td>AUS</td><td>MIA</td><td>14.515570934256056</td></tr><tr><td>DAL</td><td>SLC</td><td>7.963604852686308</td></tr><tr><td>DAL</td><td>SMF</td><td>6.175853018372703</td></tr><tr><td>DAL</td><td>SAV</td><td>7.389204545454546</td></tr><tr><td>DFW</td><td>MGM</td><td>24.306306306306308</td></tr><tr><td>IAH</td><td>TPA</td><td>8.284463894967177</td></tr><tr><td>MAF</td><td>LAS</td><td>0.05434782608695652</td></tr><tr><td>ELP</td><td>LAS</td><td>13.014925373134329</td></tr><tr><td>AUS</td><td>ONT</td><td>4.006920415224913</td></tr><tr><td>DFW</td><td>DRO</td><td>6.638888888888889</td></tr><tr><td>IAH</td><td>BOS</td><td>6.240280433397068</td></tr><tr><td>SAT</td><td>MDW</td><td>0.9682804674457429</td></tr><tr><td>AUS</td><td>BZN</td><td>11.789473684210526</td></tr><tr><td>IAH</td><td>BDL</td><td>14.950191570881225</td></tr><tr><td>SAT</td><td>LAS</td><td>8.176125244618396</td></tr><tr><td>MFE</td><td>BNA</td><td>7.48</td></tr><tr><td>DFW</td><td>CMI</td><td>4.772079772079772</td></tr><tr><td>IAH</td><td>PSP</td><td>6.6314199395770395</td></tr><tr><td>DFW</td><td>MLI</td><td>6.966867469879518</td></tr><tr><td>DAL</td><td>CLT</td><td>5.391941391941392</td></tr><tr><td>HOU</td><td>TPA</td><td>7.010781671159029</td></tr><tr><td>ELP</td><td>SEA</td><td>-2.403361344537815</td></tr><tr><td>SAT</td><td>ABQ</td><td>4.409090909090909</td></tr><tr><td>DAL</td><td>LGA</td><td>11.704805491990847</td></tr><tr><td>IAH</td><td>SLC</td><td>-0.5286151157710791</td></tr><tr><td>HOU</td><td>MEM</td><td>16.73012048192771</td></tr><tr><td>HOU</td><td>JAX</td><td>9.400641025641026</td></tr><tr><td>IAH</td><td>MYR</td><td>28.0</td></tr><tr><td>IAH</td><td>CVG</td><td>2.870344827586207</td></tr><tr><td>DFW</td><td>FSM</td><td>6.97007299270073</td></tr><tr><td>AUS</td><td>RSW</td><td>-3.0</td></tr><tr><td>LBB</td><td>PHX</td><td>5.442857142857143</td></tr><tr><td>AUS</td><td>DEN</td><td>6.266619685224336</td></tr><tr><td>IAH</td><td>OMA</td><td>5.842475386779184</td></tr><tr><td>DFW</td><td>BFL</td><td>18.651162790697676</td></tr><tr><td>DFW</td><td>SPI</td><td>4.987215909090909</td></tr><tr><td>IAH</td><td>MCI</td><td>5.718572587185726</td></tr><tr><td>IAH</td><td>IND</td><td>7.203069657615112</td></tr><tr><td>DFW</td><td>MSN</td><td>13.46264367816092</td></tr><tr><td>DAL</td><td>CMH</td><td>8.96</td></tr><tr><td>DFW</td><td>CLE</td><td>10.617292700212616</td></tr><tr><td>HRL</td><td>DEN</td><td>1.826086956521739</td></tr><tr><td>SAT</td><td>IAD</td><td>-1.3907875185735512</td></tr><tr><td>IAH</td><td>SJU</td><td>2.7828348504551363</td></tr><tr><td>HOU</td><td>IND</td><td>16.90909090909091</td></tr><tr><td>IAH</td><td>PIB</td><td>-1.9486486486486487</td></tr><tr><td>AUS</td><td>BOS</td><td>20.943283582089553</td></tr><tr><td>IAH</td><td>PDX</td><td>-3.538569424964937</td></tr><tr><td>DFW</td><td>ABQ</td><td>12.664492078285182</td></tr><tr><td>HOU</td><td>SGF</td><td>-14.545454545454545</td></tr><tr><td>HOU</td><td>PGD</td><td>42.46153846153846</td></tr><tr><td>IAH</td><td>LEX</td><td>-7.833333333333333</td></tr><tr><td>DFW</td><td>MKE</td><td>18.508637236084454</td></tr><tr><td>DFW</td><td>BZN</td><td>13.444444444444445</td></tr><tr><td>AUS</td><td>AGS</td><td>31.0</td></tr><tr><td>SAT</td><td>CLT</td><td>8.508021390374331</td></tr><tr><td>AUS</td><td>BHM</td><td>10.0</td></tr><tr><td>DFW</td><td>SJC</td><td>7.380664652567976</td></tr><tr><td>DAL</td><td>DTW</td><td>6.714285714285714</td></tr><tr><td>HOU</td><td>RDU</td><td>4.9375</td></tr><tr><td>IAH</td><td>FCA</td><td>-5.909090909090909</td></tr><tr><td>IAH</td><td>HSV</td><td>3.775</td></tr><tr><td>IAH</td><td>XNA</td><td>-1.4583333333333333</td></tr><tr><td>DFW</td><td>GRB</td><td>30.25</td></tr><tr><td>CLL</td><td>GNV</td><td>20.0</td></tr><tr><td>DFW</td><td>BUR</td><td>13.499292786421499</td></tr><tr><td>SAT</td><td>BOS</td><td>24.72530864197531</td></tr><tr><td>DFW</td><td>JAX</td><td>14.651463580667121</td></tr><tr><td>DFW</td><td>PIT</td><td>13.022273425499233</td></tr><tr><td>DFW</td><td>BDL</td><td>11.881763527054108</td></tr><tr><td>DFW</td><td>RDU</td><td>11.114616870573084</td></tr><tr><td>DFW</td><td>JAC</td><td>8.436450839328538</td></tr><tr><td>IAH</td><td>JFK</td><td>26.373762376237625</td></tr><tr><td>DFW</td><td>OGG</td><td>3.403481012658228</td></tr><tr><td>DFW</td><td>HNL</td><td>-3.634393063583815</td></tr><tr><td>IAH</td><td>ECP</td><td>22.91304347826087</td></tr><tr><td>HOU</td><td>VPS</td><td>3.6153846153846154</td></tr><tr><td>DFW</td><td>RNO</td><td>8.363385464581416</td></tr><tr><td>DFW</td><td>SNA</td><td>3.9993297587131367</td></tr><tr><td>DFW</td><td>EYW</td><td>20.209342560553633</td></tr><tr><td>DFW</td><td>FCA</td><td>11.273809523809524</td></tr><tr><td>DFW</td><td>PWM</td><td>24.753086419753085</td></tr><tr><td>DAL</td><td>MYR</td><td>11.772727272727273</td></tr><tr><td>DFW</td><td>SYR</td><td>20.801136363636363</td></tr><tr><td>DFW</td><td>DCA</td><td>11.647697368421053</td></tr><tr><td>DFW</td><td>GEG</td><td>33.89051094890511</td></tr><tr><td>AUS</td><td>CLT</td><td>12.285928143712574</td></tr><tr><td>DFW</td><td>ANC</td><td>20.53939393939394</td></tr><tr><td>DFW</td><td>SJU</td><td>14.557544757033249</td></tr><tr><td>DFW</td><td>FAT</td><td>9.9874213836478</td></tr><tr><td>DFW</td><td>SRQ</td><td>18.254957507082153</td></tr><tr><td>AUS</td><td>SJU</td><td>18.352542372881356</td></tr><tr><td>DFW</td><td>STT</td><td>10.255813953488373</td></tr><tr><td>DFW</td><td>PSP</td><td>7.425339366515837</td></tr><tr><td>DFW</td><td>TUS</td><td>9.840078973346495</td></tr><tr><td>DFW</td><td>RSW</td><td>14.448945147679325</td></tr><tr><td>HOU</td><td>PHL</td><td>22.1</td></tr><tr><td>IAH</td><td>RAP</td><td>-0.09090909090909091</td></tr><tr><td>SAT</td><td>MCI</td><td>-3.9</td></tr><tr><td>IAH</td><td>TYS</td><td>-15.6</td></tr><tr><td>DFW</td><td>SMF</td><td>18.13540090771558</td></tr><tr><td>DFW</td><td>CLT</td><td>8.509933774834437</td></tr><tr><td>DFW</td><td>EUG</td><td>13.31578947368421</td></tr><tr><td>DFW</td><td>PBI</td><td>15.859580052493438</td></tr><tr><td>SAT</td><td>JFK</td><td>17.80691642651297</td></tr><tr><td>DFW</td><td>ORF</td><td>15.710560625814862</td></tr><tr><td>DFW</td><td>EGE</td><td>13.789546079779917</td></tr><tr><td>DFW</td><td>RIC</td><td>7.545229244114003</td></tr><tr><td>DAL</td><td>ORF</td><td>6.1</td></tr><tr><td>AUS</td><td>EGE</td><td>84.75</td></tr><tr><td>DFW</td><td>HDN</td><td>-1.5804195804195804</td></tr><tr><td>SAT</td><td>SEA</td><td>9.677966101694915</td></tr><tr><td>AUS</td><td>MSN</td><td>-4.0</td></tr><tr><td>DFW</td><td>MLB</td><td>-12.5</td></tr><tr><td>DFW</td><td>KOA</td><td>-9.666666666666666</td></tr><tr><td>HOU</td><td>CLT</td><td>null</td></tr></tbody></table></div>"
      ]
     },
     "metadata": {
      "application/vnd.databricks.v1+output": {
       "addedWidgets": {},
       "aggData": [],
       "aggError": "",
       "aggOverflow": false,
       "aggSchema": [],
       "aggSeriesLimitReached": false,
       "aggType": "",
       "arguments": {},
       "columnCustomDisplayInfos": {},
       "data": [
        [
         "IAH",
         "PHX",
         2.670653566851773
        ],
        [
         "MAF",
         "PHX",
         12.505714285714285
        ],
        [
         "DAL",
         "VPS",
         5.463806970509383
        ],
        [
         "IAH",
         "LAX",
         1.5866388308977035
        ],
        [
         "IAH",
         "SFO",
         -1.5690843452576304
        ],
        [
         "DFW",
         "AVL",
         3.209621993127148
        ],
        [
         "IAH",
         "BNA",
         3.0856751199451677
        ],
        [
         "DAL",
         "BHM",
         15.506607929515418
        ],
        [
         "HOU",
         "ONT",
         -1.6610169491525424
        ],
        [
         "AMA",
         "DEN",
         7.272912423625255
        ],
        [
         "ELP",
         "LAX",
         -2.9782244556113904
        ],
        [
         "DAL",
         "MEM",
         12.60983606557377
        ],
        [
         "DFW",
         "AGS",
         11.596446700507615
        ],
        [
         "DFW",
         "STL",
         13.599386816555953
        ],
        [
         "ELP",
         "SAN",
         5.042328042328043
        ],
        [
         "AUS",
         "VPS",
         9.65
        ],
        [
         "AUS",
         "RNO",
         25.268817204301076
        ],
        [
         "IAH",
         "JAC",
         5.889763779527559
        ],
        [
         "IAH",
         "AEX",
         -5.072727272727272
        ],
        [
         "HOU",
         "SAV",
         9.037037037037036
        ],
        [
         "SAT",
         "DEN",
         3.4035357417371253
        ],
        [
         "IAH",
         "STL",
         3.1358839050131926
        ],
        [
         "DFW",
         "SBA",
         11.369085173501578
        ],
        [
         "MAF",
         "DEN",
         6.368941641938674
        ],
        [
         "IAH",
         "GSP",
         0.6412429378531074
        ],
        [
         "IAH",
         "IAD",
         5.03657780533168
        ],
        [
         "HOU",
         "RNO",
         48.5
        ],
        [
         "HOU",
         "MDW",
         9.654783125371361
        ],
        [
         "AUS",
         "DTW",
         2.7541371158392436
        ],
        [
         "DAL",
         "STL",
         9.84864546525324
        ],
        [
         "AUS",
         "PHL",
         17.96759941089838
        ],
        [
         "DFW",
         "CID",
         16.713852376137513
        ],
        [
         "AUS",
         "AVL",
         18.67924528301887
        ],
        [
         "DAL",
         "ORD",
         4.3932926829268295
        ],
        [
         "AUS",
         "MCI",
         5.297692307692308
        ],
        [
         "DFW",
         "STS",
         6.301939058171745
        ],
        [
         "LBB",
         "DEN",
         -0.38108882521489973
        ],
        [
         "IAH",
         "VPS",
         5.7727272727272725
        ],
        [
         "DFW",
         "CAE",
         8.69276393831554
        ],
        [
         "DFW",
         "PHX",
         11.870503597122303
        ],
        [
         "DAL",
         "SEA",
         4.54985754985755
        ],
        [
         "AUS",
         "MDW",
         7.412031047865459
        ],
        [
         "IAH",
         "MSY",
         2.9432
        ],
        [
         "IAH",
         "MEM",
         7.581993569131833
        ],
        [
         "IAH",
         "BHM",
         5.621983914209116
        ],
        [
         "IAH",
         "SDF",
         0.10144927536231885
        ],
        [
         "AUS",
         "FLL",
         13.878682842287695
        ],
        [
         "SAT",
         "PHL",
         -5.113207547169812
        ],
        [
         "DAL",
         "ONT",
         3.8333333333333335
        ],
        [
         "IAH",
         "ABQ",
         5.525252525252525
        ],
        [
         "DFW",
         "DSM",
         15.188762071992976
        ],
        [
         "DFW",
         "LAS",
         14.755125070528493
        ],
        [
         "HOU",
         "LGB",
         1.1488970588235294
        ],
        [
         "DFW",
         "LAW",
         7.288043478260869
        ],
        [
         "IAH",
         "RDU",
         3.763265306122449
        ],
        [
         "IAH",
         "ORF",
         4.532951289398281
        ],
        [
         "HRL",
         "ORD",
         35.23529411764706
        ],
        [
         "DFW",
         "MEM",
         18.096580406654343
        ],
        [
         "DFW",
         "ATL",
         8.827044025157234
        ],
        [
         "IAH",
         "PBI",
         16.274111675126903
        ],
        [
         "DFW",
         "TLH",
         9.31030150753769
        ],
        [
         "ELP",
         "MCO",
         23.510416666666668
        ],
        [
         "AUS",
         "BOI",
         5.175257731958763
        ],
        [
         "DFW",
         "SFO",
         12.79943942696979
        ],
        [
         "IAH",
         "FLL",
         5.835154394299288
        ],
        [
         "DFW",
         "MSP",
         12.182364729458918
        ],
        [
         "IAH",
         "ASE",
         19.00383877159309
        ],
        [
         "DFW",
         "BMI",
         18.823088455772115
        ],
        [
         "DFW",
         "CVG",
         13.581504702194357
        ],
        [
         "HOU",
         "LGA",
         8.501022494887525
        ],
        [
         "AUS",
         "SJC",
         3.059927797833935
        ],
        [
         "AUS",
         "SMF",
         9.018735362997658
        ],
        [
         "DFW",
         "GSP",
         10.372465314834578
        ],
        [
         "DFW",
         "SBN",
         14.58485639686684
        ],
        [
         "IAH",
         "BZN",
         4.272058823529412
        ],
        [
         "AUS",
         "FSD",
         1.8764044943820224
        ],
        [
         "AUS",
         "MEM",
         12.928571428571429
        ],
        [
         "DFW",
         "LFT",
         12.05273566249176
        ],
        [
         "HOU",
         "GSP",
         6.566666666666666
        ],
        [
         "AMA",
         "AZA",
         5.2727272727272725
        ],
        [
         "DFW",
         "LAX",
         6.72031324916094
        ],
        [
         "AUS",
         "PHX",
         15.01353328456474
        ],
        [
         "DAL",
         "MCI",
         6.302693208430913
        ],
        [
         "IAH",
         "MCO",
         7.556723255187281
        ],
        [
         "DFW",
         "GRR",
         17.88654060066741
        ],
        [
         "AUS",
         "LAS",
         11.879304897314375
        ],
        [
         "DFW",
         "SHV",
         8.295704845814978
        ],
        [
         "HOU",
         "AVL",
         7.976470588235294
        ],
        [
         "DAL",
         "LIT",
         13.583046964490263
        ],
        [
         "SAT",
         "SFO",
         -10.82967032967033
        ],
        [
         "DFW",
         "RAP",
         16.962073324905184
        ],
        [
         "IAH",
         "GRR",
         0.33433734939759036
        ],
        [
         "HOU",
         "LEX",
         13.375
        ],
        [
         "IAH",
         "SJC",
         -1.3361581920903955
        ],
        [
         "DAL",
         "MSP",
         41.892857142857146
        ],
        [
         "DAL",
         "MTJ",
         22.76
        ],
        [
         "SAT",
         "MSP",
         6.631884057971014
        ],
        [
         "DAL",
         "PIT",
         1.4350649350649352
        ],
        [
         "AUS",
         "JFK",
         12.302140159462862
        ],
        [
         "DFW",
         "EWR",
         14.607567229518448
        ],
        [
         "AUS",
         "MSP",
         4.270739064856712
        ],
        [
         "HOU",
         "ATL",
         3.1226568867155664
        ],
        [
         "DFW",
         "MHK",
         2.1414634146341465
        ],
        [
         "DFW",
         "TYS",
         18.00477326968974
        ],
        [
         "HRL",
         "LAS",
         -2.8461538461538463
        ],
        [
         "HOU",
         "PNS",
         10.928374655647383
        ],
        [
         "HOU",
         "CVG",
         -3.417910447761194
        ],
        [
         "DFW",
         "OKC",
         9.29491133384734
        ],
        [
         "DFW",
         "ILM",
         17.817535545023695
        ],
        [
         "IAH",
         "DTW",
         7.498164014687882
        ],
        [
         "AUS",
         "ABQ",
         6.869458128078818
        ],
        [
         "IAH",
         "CHS",
         0.4651685393258427
        ],
        [
         "AUS",
         "EWR",
         14.479468599033817
        ],
        [
         "AUS",
         "IND",
         5.587102983638114
        ],
        [
         "AUS",
         "SEA",
         1.987111892208553
        ],
        [
         "HOU",
         "FLL",
         6.887396694214876
        ],
        [
         "DFW",
         "IND",
         12.794321329639889
        ],
        [
         "DFW",
         "MDW",
         14.282786885245901
        ],
        [
         "IAH",
         "SRQ",
         31.484536082474225
        ],
        [
         "DFW",
         "FAR",
         17.642857142857142
        ],
        [
         "DFW",
         "GRI",
         6.084507042253521
        ],
        [
         "DFW",
         "SDF",
         19.837045720984758
        ],
        [
         "HOU",
         "BNA",
         4.156295224312591
        ],
        [
         "HOU",
         "TUL",
         7.8763197586727
        ],
        [
         "DFW",
         "TXK",
         1.310246679316888
        ],
        [
         "SAT",
         "SAN",
         4.544692737430168
        ],
        [
         "IAH",
         "BOI",
         4.843575418994414
        ],
        [
         "DFW",
         "BTR",
         6.508875739644971
        ],
        [
         "HOU",
         "XNA",
         6.357142857142857
        ],
        [
         "ELP",
         "DEN",
         6.939971751412429
        ],
        [
         "DFW",
         "MCI",
         14.000891265597147
        ],
        [
         "DAL",
         "IND",
         11.486899563318778
        ],
        [
         "DAL",
         "TPA",
         12.778673835125447
        ],
        [
         "IAH",
         "TUS",
         1.5477272727272726
        ],
        [
         "SAT",
         "TPA",
         6.944927536231884
        ],
        [
         "AUS",
         "SFB",
         21.1375
        ],
        [
         "IAH",
         "SNA",
         -1.814327485380117
        ],
        [
         "DAL",
         "MCO",
         14.278557114228457
        ],
        [
         "AMA",
         "LAS",
         6.735897435897436
        ],
        [
         "IAH",
         "HNL",
         5.9532967032967035
        ],
        [
         "DFW",
         "VPS",
         16.105605199025185
        ],
        [
         "IAH",
         "STT",
         -1.1900452488687783
        ],
        [
         "DFW",
         "JFK",
         6.407075236671649
        ],
        [
         "AUS",
         "MCO",
         15.219944816712653
        ],
        [
         "IAH",
         "SAN",
         -2.3170119271814187
        ],
        [
         "DAL",
         "FLL",
         8.665066026410564
        ],
        [
         "AUS",
         "TUL",
         7.934595524956971
        ],
        [
         "HOU",
         "PHX",
         8.2905317769131
        ],
        [
         "HOU",
         "RSW",
         12.35135135135135
        ],
        [
         "DFW",
         "SGU",
         8.932142857142857
        ],
        [
         "HOU",
         "DSM",
         36.67567567567568
        ],
        [
         "DFW",
         "SLC",
         12.015849721162313
        ],
        [
         "IAH",
         "MKE",
         6.566197183098591
        ],
        [
         "DAL",
         "MIA",
         11.670194003527337
        ],
        [
         "DAL",
         "BUR",
         5.906103286384977
        ],
        [
         "AUS",
         "MSY",
         8.427853192559075
        ],
        [
         "DFW",
         "SEA",
         8.949295774647887
        ],
        [
         "DFW",
         "ECP",
         24.245406824146983
        ],
        [
         "SAT",
         "COS",
         30.94736842105263
        ],
        [
         "DFW",
         "DAY",
         7.407045009784736
        ],
        [
         "SAT",
         "ATL",
         2.0298562476962774
        ],
        [
         "SAT",
         "PHX",
         3.9140070921985815
        ],
        [
         "AUS",
         "CHS",
         11.278409090909092
        ],
        [
         "LBB",
         "LAS",
         6.87603305785124
        ],
        [
         "IAH",
         "LGA",
         6.5361947469570785
        ],
        [
         "ELP",
         "ORD",
         5.659685863874346
        ],
        [
         "AUS",
         "PGD",
         20.074074074074073
        ],
        [
         "DAL",
         "SDF",
         -1.5466666666666666
        ],
        [
         "DAL",
         "SNA",
         8.26647564469914
        ],
        [
         "DAL",
         "TUL",
         6.177951388888889
        ],
        [
         "DAL",
         "RDU",
         10.488505747126437
        ],
        [
         "AUS",
         "SAN",
         9.277431720172496
        ],
        [
         "IAH",
         "OKC",
         11.2534504391468
        ],
        [
         "HOU",
         "AZA",
         26.563106796116504
        ],
        [
         "HOU",
         "SRQ",
         7.709375
        ],
        [
         "DAL",
         "DEN",
         7.826950867052023
        ],
        [
         "DFW",
         "FSD",
         19.502487562189053
        ],
        [
         "DFW",
         "TPA",
         15.308829404714343
        ],
        [
         "DFW",
         "HSV",
         13.297885196374622
        ],
        [
         "AUS",
         "PBI",
         -6.190476190476191
        ],
        [
         "MFE",
         "SFB",
         15.392156862745098
        ],
        [
         "AUS",
         "ATL",
         2.728445908841296
        ],
        [
         "MFE",
         "LAS",
         19.07207207207207
        ],
        [
         "DFW",
         "TVC",
         12.167883211678832
        ],
        [
         "DFW",
         "GSO",
         9.870699881376037
        ],
        [
         "ELP",
         "PHX",
         7.512126111560226
        ],
        [
         "AUS",
         "CVG",
         5.977664974619289
        ],
        [
         "DAL",
         "PSP",
         11.090909090909092
        ],
        [
         "SAT",
         "FLL",
         17.071428571428573
        ],
        [
         "IAH",
         "RIC",
         11.292134831460674
        ],
        [
         "MFE",
         "LAX",
         31.217391304347824
        ],
        [
         "DAL",
         "PNS",
         4.942355889724311
        ],
        [
         "HOU",
         "PIT",
         17.9
        ],
        [
         "IAH",
         "EGE",
         -1.5980392156862746
        ],
        [
         "DFW",
         "CHS",
         18.79941291585127
        ],
        [
         "DAL",
         "SJC",
         5.851602023608769
        ],
        [
         "DFW",
         "XNA",
         9.617299061607508
        ],
        [
         "IAH",
         "MDW",
         6.6129518072289155
        ],
        [
         "DFW",
         "MTJ",
         2.959527824620573
        ],
        [
         "AUS",
         "OKC",
         4.707831325301205
        ],
        [
         "DFW",
         "SAF",
         10.152121697357886
        ],
        [
         "DFW",
         "TUL",
         10.558347529812606
        ],
        [
         "DFW",
         "GUC",
         3.791304347826087
        ],
        [
         "DFW",
         "PNS",
         22.043884892086332
        ],
        [
         "HOU",
         "TYS",
         20.829545454545453
        ],
        [
         "DFW",
         "LGA",
         9.527846636919518
        ],
        [
         "IAH",
         "ANC",
         7.189473684210526
        ],
        [
         "HOU",
         "ABQ",
         5.89792899408284
        ],
        [
         "HOU",
         "SNA",
         3.0325581395348835
        ],
        [
         "IAH",
         "CMH",
         10.17123287671233
        ],
        [
         "DAL",
         "SRQ",
         13.33838383838384
        ],
        [
         "HOU",
         "SMF",
         7.607773851590106
        ],
        [
         "DAL",
         "RNO",
         21.962962962962962
        ],
        [
         "IAH",
         "CLE",
         5.5102669404517455
        ],
        [
         "DFW",
         "FAY",
         11.715942028985507
        ],
        [
         "DFW",
         "ONT",
         12.383554376657825
        ],
        [
         "AUS",
         "BWI",
         6.089500860585198
        ],
        [
         "IAH",
         "MTJ",
         4.27319587628866
        ],
        [
         "DAL",
         "OMA",
         6.56980056980057
        ],
        [
         "DFW",
         "GNV",
         9.917737789203084
        ],
        [
         "AUS",
         "JAX",
         14.344729344729345
        ],
        [
         "DFW",
         "DTW",
         6.6538588936734016
        ],
        [
         "HOU",
         "PVU",
         14.434343434343434
        ],
        [
         "HOU",
         "CHS",
         5.35
        ],
        [
         "IAH",
         "COS",
         2.0944527736131935
        ],
        [
         "DAL",
         "LGB",
         4.405714285714286
        ],
        [
         "DAL",
         "JAX",
         26.88888888888889
        ],
        [
         "IAH",
         "EWR",
         12.772306855277476
        ],
        [
         "DFW",
         "MCO",
         19.19961380642047
        ],
        [
         "IAH",
         "PIT",
         3.7540816326530613
        ],
        [
         "AUS",
         "STL",
         3.0402975821450715
        ],
        [
         "DFW",
         "FLG",
         4.080578512396694
        ],
        [
         "AUS",
         "OAK",
         7.360110803324099
        ],
        [
         "DAL",
         "PHL",
         9.157894736842104
        ],
        [
         "DFW",
         "BHM",
         15.406928948913682
        ],
        [
         "DAL",
         "HDN",
         8.52
        ],
        [
         "HOU",
         "SAN",
         2.8461538461538463
        ],
        [
         "DAL",
         "LAS",
         8.223766171538093
        ],
        [
         "HOU",
         "JAN",
         6.275275275275275
        ],
        [
         "IAH",
         "RSW",
         5.513468013468014
        ],
        [
         "AUS",
         "SNA",
         16.425619834710744
        ],
        [
         "AUS",
         "IAD",
         4.236634531113059
        ],
        [
         "DFW",
         "MLU",
         2.437439379243453
        ],
        [
         "IAH",
         "MSP",
         6.231096408317581
        ],
        [
         "SAT",
         "MIA",
         10.757174392935982
        ],
        [
         "HOU",
         "COS",
         38.84615384615385
        ],
        [
         "HOU",
         "BUR",
         -0.21875
        ],
        [
         "HOU",
         "LAX",
         5.35889872173058
        ],
        [
         "DFW",
         "SAN",
         15.712050599201065
        ],
        [
         "IAH",
         "LCH",
         7.65625
        ],
        [
         "AUS",
         "GRR",
         28.944444444444443
        ],
        [
         "IAH",
         "HOB",
         8.092391304347826
        ],
        [
         "IAH",
         "DCA",
         3.9131161236424394
        ],
        [
         "HOU",
         "OAK",
         3.449300699300699
        ],
        [
         "AUS",
         "PVU",
         3.9494949494949494
        ],
        [
         "DFW",
         "EVV",
         7.507042253521127
        ],
        [
         "HOU",
         "BHM",
         11.232876712328768
        ],
        [
         "SAT",
         "MSY",
         0.8342696629213483
        ],
        [
         "IAH",
         "SMF",
         -0.059278350515463915
        ],
        [
         "SAT",
         "DTW",
         1.771014492753623
        ],
        [
         "IAH",
         "LFT",
         1.4015748031496063
        ],
        [
         "AUS",
         "XNA",
         6.333333333333333
        ],
        [
         "HOU",
         "DCA",
         3.694864048338369
        ],
        [
         "DFW",
         "JAN",
         8.092248908296943
        ],
        [
         "DFW",
         "SGF",
         6.903829029385574
        ],
        [
         "DFW",
         "PHL",
         12.210384356035064
        ],
        [
         "IAH",
         "ICT",
         15.281899109792285
        ],
        [
         "AUS",
         "SFO",
         1.072651550208237
        ],
        [
         "DFW",
         "BUF",
         26.706572769953052
        ],
        [
         "IAH",
         "MEI",
         -5.381062355658199
        ],
        [
         "IAH",
         "TUL",
         6.876769358867611
        ],
        [
         "SAT",
         "BWI",
         5.350089766606822
        ],
        [
         "DFW",
         "BOI",
         4.967234600262123
        ],
        [
         "DFW",
         "IDA",
         16.38748137108793
        ],
        [
         "HOU",
         "HDN",
         56
        ],
        [
         "IAH",
         "BWI",
         2.671669793621013
        ],
        [
         "DFW",
         "MSO",
         3.4413793103448276
        ],
        [
         "DFW",
         "GPT",
         12.859852476290833
        ],
        [
         "DAL",
         "LAX",
         8.057437407952872
        ],
        [
         "AUS",
         "CMH",
         1.7285714285714286
        ],
        [
         "DFW",
         "COS",
         15.075898030127462
        ],
        [
         "DAL",
         "SAN",
         4.133393829401089
        ],
        [
         "DFW",
         "MYR",
         3.6507936507936507
        ],
        [
         "DFW",
         "BTV",
         0.8024691358024691
        ],
        [
         "HOU",
         "SJC",
         -0.45045045045045046
        ],
        [
         "HOU",
         "DTW",
         13.744186046511627
        ],
        [
         "DAL",
         "BNA",
         6.579710144927536
        ],
        [
         "HOU",
         "MKE",
         19.072727272727274
        ],
        [
         "DFW",
         "PDX",
         11.845439650464227
        ],
        [
         "ELP",
         "ATL",
         -3.1379800853485063
        ],
        [
         "DAL",
         "MDW",
         10.356164383561644
        ],
        [
         "AUS",
         "PSP",
         6.61875
        ],
        [
         "IAH",
         "HDN",
         -8.198019801980198
        ],
        [
         "DFW",
         "OMA",
         10.836321122369446
        ],
        [
         "AUS",
         "DCA",
         6.629737609329446
        ],
        [
         "DFW",
         "BIS",
         11.5
        ],
        [
         "DAL",
         "ABQ",
         6.885947046843177
        ],
        [
         "SAT",
         "BNA",
         0.8338235294117647
        ],
        [
         "DFW",
         "LIT",
         7.950189953566906
        ],
        [
         "HOU",
         "MCO",
         9.596280087527353
        ],
        [
         "HOU",
         "BWI",
         6.918714555765596
        ],
        [
         "DAL",
         "RSW",
         22.39047619047619
        ],
        [
         "HOU",
         "MIA",
         12.85544373284538
        ],
        [
         "DFW",
         "TRI",
         10.019047619047619
        ],
        [
         "DFW",
         "PIA",
         24.119335347432024
        ],
        [
         "HOU",
         "MTJ",
         44
        ],
        [
         "DAL",
         "PDX",
         29.785714285714285
        ],
        [
         "HOU",
         "SLC",
         3.1768115942028987
        ],
        [
         "HOU",
         "TUS",
         4.065359477124183
        ],
        [
         "IAH",
         "CLT",
         8.269019248395967
        ],
        [
         "DFW",
         "IAD",
         8.915196743554953
        ],
        [
         "DFW",
         "CSG",
         5.693181818181818
        ],
        [
         "IAH",
         "DEN",
         5.667926029031617
        ],
        [
         "DAL",
         "PHX",
         6.837616822429907
        ],
        [
         "AUS",
         "DSM",
         19.752380952380953
        ],
        [
         "DFW",
         "COU",
         11.125
        ],
        [
         "AUS",
         "BNA",
         4.583122362869198
        ],
        [
         "IAH",
         "LIT",
         1.2438271604938271
        ],
        [
         "IAH",
         "JAX",
         1.8548185231539425
        ],
        [
         "DAL",
         "DCA",
         10.311526479750778
        ],
        [
         "HOU",
         "SDF",
         6.005405405405406
        ],
        [
         "HRL",
         "MCO",
         28.84
        ],
        [
         "HOU",
         "OMA",
         3.7598870056497176
        ],
        [
         "DAL",
         "ATL",
         5.527662296130477
        ],
        [
         "AUS",
         "LGB",
         6.247588424437299
        ],
        [
         "DFW",
         "YUM",
         13.194805194805195
        ],
        [
         "DFW",
         "SWO",
         0.29929078014184396
        ],
        [
         "DFW",
         "FLL",
         10.135157207023274
        ],
        [
         "DFW",
         "ASE",
         14.019955654101995
        ],
        [
         "IAH",
         "ORD",
         3.956766917293233
        ],
        [
         "IAH",
         "EYW",
         22.928571428571427
        ],
        [
         "DFW",
         "BOS",
         10.282342121397916
        ],
        [
         "DFW",
         "MDT",
         32.69005847953216
        ],
        [
         "IAH",
         "MOB",
         7.566265060240964
        ],
        [
         "DAL",
         "BZN",
         -1.1428571428571428
        ],
        [
         "DFW",
         "CHA",
         5.745531019978969
        ],
        [
         "DFW",
         "MRY",
         1.9306260575296108
        ],
        [
         "DFW",
         "MOB",
         12.448683015440508
        ],
        [
         "DFW",
         "MSY",
         16.129576306046893
        ],
        [
         "SAT",
         "LAX",
         3.1690997566909975
        ],
        [
         "DFW",
         "DEN",
         11.305114296784192
        ],
        [
         "SAT",
         "EWR",
         10.448430493273543
        ],
        [
         "IAH",
         "SHV",
         30
        ],
        [
         "HOU",
         "MCI",
         6.605263157894737
        ],
        [
         "DFW",
         "DAB",
         1.3608247422680413
        ],
        [
         "AUS",
         "SLC",
         5.843163538873995
        ],
        [
         "DAL",
         "ECP",
         13.816806722689076
        ],
        [
         "HOU",
         "SJU",
         16.863636363636363
        ],
        [
         "IAH",
         "ATL",
         4.585600375234522
        ],
        [
         "DFW",
         "ORD",
         6.967101635728726
        ],
        [
         "AUS",
         "SDF",
         11.851063829787234
        ],
        [
         "IAH",
         "DSM",
         4.831460674157303
        ],
        [
         "DAL",
         "SFO",
         2.0568181818181817
        ],
        [
         "DAL",
         "OAK",
         3.5749185667752443
        ],
        [
         "IAH",
         "BTR",
         12.374517374517374
        ],
        [
         "IAH",
         "ONT",
         11.95945945945946
        ],
        [
         "DFW",
         "SBP",
         7.868181818181818
        ],
        [
         "HOU",
         "MSP",
         14.363636363636363
        ],
        [
         "DFW",
         "GJT",
         5.006776379477251
        ],
        [
         "HOU",
         "DEN",
         2.036363636363636
        ],
        [
         "IAH",
         "MIA",
         10.318881558278354
        ],
        [
         "IAH",
         "GUC",
         2.065040650406504
        ],
        [
         "AUS",
         "SRQ",
         3.772727272727273
        ],
        [
         "AUS",
         "LAX",
         7.677456916627853
        ],
        [
         "AUS",
         "TPA",
         13.69778117827085
        ],
        [
         "SAT",
         "MCO",
         13.088741721854305
        ],
        [
         "AUS",
         "ORD",
         6.340845070422535
        ],
        [
         "AUS",
         "BUR",
         11.039627039627039
        ],
        [
         "DAL",
         "MSY",
         9.74376731301939
        ],
        [
         "HOU",
         "ECP",
         4.612648221343873
        ],
        [
         "IAH",
         "PNS",
         14.096551724137932
        ],
        [
         "HOU",
         "LAS",
         9.979833926453143
        ],
        [
         "SAT",
         "STL",
         -1.558904109589041
        ],
        [
         "DAL",
         "BWI",
         11.753956834532374
        ],
        [
         "DAL",
         "MKE",
         10.91764705882353
        ],
        [
         "IAH",
         "SEA",
         2.9422066549912436
        ],
        [
         "IAH",
         "PHL",
         4.163722025912839
        ],
        [
         "SAT",
         "SLC",
         1.080392156862745
        ],
        [
         "HOU",
         "CMH",
         9.846625766871165
        ],
        [
         "AUS",
         "HNL",
         60.148387096774194
        ],
        [
         "IAH",
         "LAS",
         5.12183115924194
        ],
        [
         "SAT",
         "ORD",
         3.2225237449118045
        ],
        [
         "DFW",
         "ROW",
         6.443793911007026
        ],
        [
         "AUS",
         "TYS",
         24.841463414634145
        ],
        [
         "DAL",
         "COS",
         4.529411764705882
        ],
        [
         "DFW",
         "HHH",
         5.588235294117647
        ],
        [
         "DFW",
         "LEX",
         3.7385272145144075
        ],
        [
         "DAL",
         "CHS",
         9.622222222222222
        ],
        [
         "AUS",
         "ECP",
         11.88
        ],
        [
         "DFW",
         "LCH",
         2.165067178502879
        ],
        [
         "HOU",
         "MSY",
         4.872228088701162
        ],
        [
         "AUS",
         "PIT",
         12.342857142857143
        ],
        [
         "HOU",
         "OKC",
         7.177552897884085
        ],
        [
         "HOU",
         "BOS",
         -1.1111111111111112
        ],
        [
         "DFW",
         "GCK",
         5.593172119487909
        ],
        [
         "DFW",
         "BIL",
         1.994106090373281
        ],
        [
         "DFW",
         "BWI",
         10.591836734693878
        ],
        [
         "AUS",
         "PDX",
         6.039145907473309
        ],
        [
         "DFW",
         "SAV",
         14.86845466155811
        ],
        [
         "DFW",
         "LGB",
         6.314814814814815
        ],
        [
         "DFW",
         "AEX",
         3.3588516746411483
        ],
        [
         "SAT",
         "OKC",
         -4.817391304347826
        ],
        [
         "DFW",
         "BNA",
         13.859913793103448
        ],
        [
         "AUS",
         "ASE",
         25.34285714285714
        ],
        [
         "AUS",
         "RDU",
         10.051221434200158
        ],
        [
         "DFW",
         "ICT",
         13.390873015873016
        ],
        [
         "IAH",
         "SAV",
         6.558758314855876
        ],
        [
         "HOU",
         "STL",
         5.035528596187175
        ],
        [
         "DFW",
         "MIA",
         13.818359375
        ],
        [
         "LRD",
         "LAS",
         31.28301886792453
        ],
        [
         "DFW",
         "CMH",
         15.891808346213292
        ],
        [
         "IAH",
         "RNO",
         2.218867924528302
        ],
        [
         "DFW",
         "FWA",
         17.220052083333332
        ],
        [
         "AUS",
         "SGF",
         39.57142857142857
        ],
        [
         "AUS",
         "MIA",
         14.515570934256056
        ],
        [
         "DAL",
         "SLC",
         7.963604852686308
        ],
        [
         "DAL",
         "SMF",
         6.175853018372703
        ],
        [
         "DAL",
         "SAV",
         7.389204545454546
        ],
        [
         "DFW",
         "MGM",
         24.306306306306308
        ],
        [
         "IAH",
         "TPA",
         8.284463894967177
        ],
        [
         "MAF",
         "LAS",
         0.05434782608695652
        ],
        [
         "ELP",
         "LAS",
         13.014925373134329
        ],
        [
         "AUS",
         "ONT",
         4.006920415224913
        ],
        [
         "DFW",
         "DRO",
         6.638888888888889
        ],
        [
         "IAH",
         "BOS",
         6.240280433397068
        ],
        [
         "SAT",
         "MDW",
         0.9682804674457429
        ],
        [
         "AUS",
         "BZN",
         11.789473684210526
        ],
        [
         "IAH",
         "BDL",
         14.950191570881225
        ],
        [
         "SAT",
         "LAS",
         8.176125244618396
        ],
        [
         "MFE",
         "BNA",
         7.48
        ],
        [
         "DFW",
         "CMI",
         4.772079772079772
        ],
        [
         "IAH",
         "PSP",
         6.6314199395770395
        ],
        [
         "DFW",
         "MLI",
         6.966867469879518
        ],
        [
         "DAL",
         "CLT",
         5.391941391941392
        ],
        [
         "HOU",
         "TPA",
         7.010781671159029
        ],
        [
         "ELP",
         "SEA",
         -2.403361344537815
        ],
        [
         "SAT",
         "ABQ",
         4.409090909090909
        ],
        [
         "DAL",
         "LGA",
         11.704805491990847
        ],
        [
         "IAH",
         "SLC",
         -0.5286151157710791
        ],
        [
         "HOU",
         "MEM",
         16.73012048192771
        ],
        [
         "HOU",
         "JAX",
         9.400641025641026
        ],
        [
         "IAH",
         "MYR",
         28
        ],
        [
         "IAH",
         "CVG",
         2.870344827586207
        ],
        [
         "DFW",
         "FSM",
         6.97007299270073
        ],
        [
         "AUS",
         "RSW",
         -3
        ],
        [
         "LBB",
         "PHX",
         5.442857142857143
        ],
        [
         "AUS",
         "DEN",
         6.266619685224336
        ],
        [
         "IAH",
         "OMA",
         5.842475386779184
        ],
        [
         "DFW",
         "BFL",
         18.651162790697676
        ],
        [
         "DFW",
         "SPI",
         4.987215909090909
        ],
        [
         "IAH",
         "MCI",
         5.718572587185726
        ],
        [
         "IAH",
         "IND",
         7.203069657615112
        ],
        [
         "DFW",
         "MSN",
         13.46264367816092
        ],
        [
         "DAL",
         "CMH",
         8.96
        ],
        [
         "DFW",
         "CLE",
         10.617292700212616
        ],
        [
         "HRL",
         "DEN",
         1.826086956521739
        ],
        [
         "SAT",
         "IAD",
         -1.3907875185735512
        ],
        [
         "IAH",
         "SJU",
         2.7828348504551363
        ],
        [
         "HOU",
         "IND",
         16.90909090909091
        ],
        [
         "IAH",
         "PIB",
         -1.9486486486486487
        ],
        [
         "AUS",
         "BOS",
         20.943283582089553
        ],
        [
         "IAH",
         "PDX",
         -3.538569424964937
        ],
        [
         "DFW",
         "ABQ",
         12.664492078285182
        ],
        [
         "HOU",
         "SGF",
         -14.545454545454545
        ],
        [
         "HOU",
         "PGD",
         42.46153846153846
        ],
        [
         "IAH",
         "LEX",
         -7.833333333333333
        ],
        [
         "DFW",
         "MKE",
         18.508637236084454
        ],
        [
         "DFW",
         "BZN",
         13.444444444444445
        ],
        [
         "AUS",
         "AGS",
         31
        ],
        [
         "SAT",
         "CLT",
         8.508021390374331
        ],
        [
         "AUS",
         "BHM",
         10
        ],
        [
         "DFW",
         "SJC",
         7.380664652567976
        ],
        [
         "DAL",
         "DTW",
         6.714285714285714
        ],
        [
         "HOU",
         "RDU",
         4.9375
        ],
        [
         "IAH",
         "FCA",
         -5.909090909090909
        ],
        [
         "IAH",
         "HSV",
         3.775
        ],
        [
         "IAH",
         "XNA",
         -1.4583333333333333
        ],
        [
         "DFW",
         "GRB",
         30.25
        ],
        [
         "CLL",
         "GNV",
         20
        ],
        [
         "DFW",
         "BUR",
         13.499292786421499
        ],
        [
         "SAT",
         "BOS",
         24.72530864197531
        ],
        [
         "DFW",
         "JAX",
         14.651463580667121
        ],
        [
         "DFW",
         "PIT",
         13.022273425499233
        ],
        [
         "DFW",
         "BDL",
         11.881763527054108
        ],
        [
         "DFW",
         "RDU",
         11.114616870573084
        ],
        [
         "DFW",
         "JAC",
         8.436450839328538
        ],
        [
         "IAH",
         "JFK",
         26.373762376237625
        ],
        [
         "DFW",
         "OGG",
         3.403481012658228
        ],
        [
         "DFW",
         "HNL",
         -3.634393063583815
        ],
        [
         "IAH",
         "ECP",
         22.91304347826087
        ],
        [
         "HOU",
         "VPS",
         3.6153846153846154
        ],
        [
         "DFW",
         "RNO",
         8.363385464581416
        ],
        [
         "DFW",
         "SNA",
         3.9993297587131367
        ],
        [
         "DFW",
         "EYW",
         20.209342560553633
        ],
        [
         "DFW",
         "FCA",
         11.273809523809524
        ],
        [
         "DFW",
         "PWM",
         24.753086419753085
        ],
        [
         "DAL",
         "MYR",
         11.772727272727273
        ],
        [
         "DFW",
         "SYR",
         20.801136363636363
        ],
        [
         "DFW",
         "DCA",
         11.647697368421053
        ],
        [
         "DFW",
         "GEG",
         33.89051094890511
        ],
        [
         "AUS",
         "CLT",
         12.285928143712574
        ],
        [
         "DFW",
         "ANC",
         20.53939393939394
        ],
        [
         "DFW",
         "SJU",
         14.557544757033249
        ],
        [
         "DFW",
         "FAT",
         9.9874213836478
        ],
        [
         "DFW",
         "SRQ",
         18.254957507082153
        ],
        [
         "AUS",
         "SJU",
         18.352542372881356
        ],
        [
         "DFW",
         "STT",
         10.255813953488373
        ],
        [
         "DFW",
         "PSP",
         7.425339366515837
        ],
        [
         "DFW",
         "TUS",
         9.840078973346495
        ],
        [
         "DFW",
         "RSW",
         14.448945147679325
        ],
        [
         "HOU",
         "PHL",
         22.1
        ],
        [
         "IAH",
         "RAP",
         -0.09090909090909091
        ],
        [
         "SAT",
         "MCI",
         -3.9
        ],
        [
         "IAH",
         "TYS",
         -15.6
        ],
        [
         "DFW",
         "SMF",
         18.13540090771558
        ],
        [
         "DFW",
         "CLT",
         8.509933774834437
        ],
        [
         "DFW",
         "EUG",
         13.31578947368421
        ],
        [
         "DFW",
         "PBI",
         15.859580052493438
        ],
        [
         "SAT",
         "JFK",
         17.80691642651297
        ],
        [
         "DFW",
         "ORF",
         15.710560625814862
        ],
        [
         "DFW",
         "EGE",
         13.789546079779917
        ],
        [
         "DFW",
         "RIC",
         7.545229244114003
        ],
        [
         "DAL",
         "ORF",
         6.1
        ],
        [
         "AUS",
         "EGE",
         84.75
        ],
        [
         "DFW",
         "HDN",
         -1.5804195804195804
        ],
        [
         "SAT",
         "SEA",
         9.677966101694915
        ],
        [
         "AUS",
         "MSN",
         -4
        ],
        [
         "DFW",
         "MLB",
         -12.5
        ],
        [
         "DFW",
         "KOA",
         -9.666666666666666
        ],
        [
         "HOU",
         "CLT",
         null
        ]
       ],
       "datasetInfos": [],
       "dbfsResultPath": null,
       "isJsonSchema": true,
       "metadata": {},
       "overflow": false,
       "plotOptions": {
        "customPlotOptions": {},
        "displayType": "table",
        "pivotAggregation": null,
        "pivotColumns": null,
        "xColumns": null,
        "yColumns": null
       },
       "removedWidgets": [],
       "schema": [
        {
         "metadata": "{}",
         "name": "Origin",
         "type": "\"string\""
        },
        {
         "metadata": "{}",
         "name": "Dest",
         "type": "\"string\""
        },
        {
         "metadata": "{}",
         "name": "avg_arr_delay",
         "type": "\"double\""
        }
       ],
       "type": "table"
      }
     },
     "output_type": "display_data"
    },
    {
     "name": "stdout",
     "output_type": "stream",
     "text": [
      "Zeit zum Ausführen der SQL-Abfrage 7: 1.7015001773834229 Sekunden\n"
     ]
    }
   ],
   "source": [
    "t0 = time.time()\n",
    "ergebnis7 = spark.sql(\"\"\"\n",
    "    SELECT airport_orig.AIRPORT as Origin, airport_dest.AIRPORT as Dest, AVG(flights.ArrDelay) as avg_arr_delay\n",
    "    FROM flights\n",
    "    inner join airport as airport_orig\n",
    "    on flights.Origin = airport_orig.AIRPORT\n",
    "    inner join airport as airport_dest\n",
    "    on flights.Dest = airport_dest.AIRPORT\n",
    "    INNER JOIN carrier\n",
    "    on flights.Reporting_Airline = carrier.Code\n",
    "    WHERE airport_orig.AIRPORT_STATE_CODE = 'TX'\n",
    "    AND airport_dest.AIRPORT_STATE_CODE <> 'TX'\n",
    "    GROUP BY ALL\n",
    "\"\"\")\n",
    "display(ergebnis7.toPandas())\n",
    "t1 = time.time()\n",
    "tsql7 = t1 - t0\n",
    "print(f\"Zeit zum Ausführen der SQL-Abfrage 7: {t1 - t0} Sekunden\")"
   ]
  },
  {
   "cell_type": "code",
   "execution_count": 0,
   "metadata": {
    "application/vnd.databricks.v1+cell": {
     "cellMetadata": {
      "byteLimit": 2048000,
      "rowLimit": 10000
     },
     "inputWidgets": {},
     "nuid": "e6885875-fd68-4a19-95e2-175ac8df0e31",
     "showTitle": false,
     "tableResultSettingsMap": {},
     "title": ""
    }
   },
   "outputs": [
    {
     "data": {
      "text/html": [
       "<style scoped>\n",
       "  .table-result-container {\n",
       "    max-height: 300px;\n",
       "    overflow: auto;\n",
       "  }\n",
       "  table, th, td {\n",
       "    border: 1px solid black;\n",
       "    border-collapse: collapse;\n",
       "  }\n",
       "  th, td {\n",
       "    padding: 5px;\n",
       "  }\n",
       "  th {\n",
       "    text-align: left;\n",
       "  }\n",
       "</style><div class='table-result-container'><table class='table-result'><thead style='background-color: white'><tr><th>Operation</th><th>Elapsed Time (s)</th></tr></thead><tbody><tr><td>Load Parquet files</td><td>1.6889567375183105</td></tr><tr><td>Query 1</td><td>1.654423475265503</td></tr><tr><td>Query 2</td><td>1.5228054523468018</td></tr><tr><td>Query 3</td><td>1.3133609294891357</td></tr><tr><td>Query 4</td><td>1.375037431716919</td></tr><tr><td>Query 5</td><td>1.2041640281677246</td></tr><tr><td>Query 6</td><td>1.9930164813995361</td></tr><tr><td>Query 7</td><td>1.7015001773834229</td></tr></tbody></table></div>"
      ]
     },
     "metadata": {
      "application/vnd.databricks.v1+output": {
       "addedWidgets": {},
       "aggData": [],
       "aggError": "",
       "aggOverflow": false,
       "aggSchema": [],
       "aggSeriesLimitReached": false,
       "aggType": "",
       "arguments": {},
       "columnCustomDisplayInfos": {},
       "data": [
        [
         "Load Parquet files",
         1.6889567375183105
        ],
        [
         "Query 1",
         1.654423475265503
        ],
        [
         "Query 2",
         1.5228054523468018
        ],
        [
         "Query 3",
         1.3133609294891357
        ],
        [
         "Query 4",
         1.375037431716919
        ],
        [
         "Query 5",
         1.2041640281677246
        ],
        [
         "Query 6",
         1.9930164813995361
        ],
        [
         "Query 7",
         1.7015001773834229
        ]
       ],
       "datasetInfos": [],
       "dbfsResultPath": null,
       "isJsonSchema": true,
       "metadata": {},
       "overflow": false,
       "plotOptions": {
        "customPlotOptions": {},
        "displayType": "table",
        "pivotAggregation": null,
        "pivotColumns": null,
        "xColumns": null,
        "yColumns": null
       },
       "removedWidgets": [],
       "schema": [
        {
         "metadata": "{}",
         "name": "Operation",
         "type": "\"string\""
        },
        {
         "metadata": "{}",
         "name": "Elapsed Time (s)",
         "type": "\"double\""
        }
       ],
       "type": "table"
      }
     },
     "output_type": "display_data"
    }
   ],
   "source": [
    "import pandas as pd\n",
    "\n",
    "time_data = {\n",
    "    \"Operation\": [\"Load Parquet files\", \"Query 1\", \"Query 2\", \"Query 3\", \"Query 4\", \"Query 5\", \"Query 6\", \"Query 7\"],\n",
    "    \"Elapsed Time (s)\": [tpq, tsql1, tsql2, tsql3, tsql4, tsql5, tsql6, tsql7]\n",
    "}\n",
    "\n",
    "time_df = pd.DataFrame(time_data)\n",
    "display(time_df)"
   ]
  }
 ],
 "metadata": {
  "application/vnd.databricks.v1+notebook": {
   "computePreferences": null,
   "dashboards": [],
   "environmentMetadata": {
    "base_environment": "",
    "environment_version": "2"
   },
   "inputWidgetPreferences": null,
   "language": "python",
   "notebookMetadata": {
    "pythonIndentUnit": 4
   },
   "notebookName": "zhaw big data project databricks",
   "widgets": {}
  },
  "kernelspec": {
   "display_name": "Python 3 (ipykernel)",
   "language": "python",
   "name": "python3"
  },
  "language_info": {
   "codemirror_mode": {
    "name": "ipython",
    "version": 3
   },
   "file_extension": ".py",
   "mimetype": "text/x-python",
   "name": "python",
   "nbconvert_exporter": "python",
   "pygments_lexer": "ipython3",
   "version": "3.11.4"
  }
 },
 "nbformat": 4,
 "nbformat_minor": 1
}
